{
 "cells": [
  {
   "cell_type": "markdown",
   "metadata": {},
   "source": [
    "## Задание:  \n",
    "Необходимо построить скориниговую модель, оценивающую вероятность дефолта клиента на стадии заведения кредитной заявки. А также ответить на следующие вопросы:  \n",
    "1. Какая доля 1 в выборке \"accept\"?\n",
    "2. Необходимо рассчитать для всех интервальных переменных следующее:\n",
    "  - Доля пропущенных значений \n",
    "  - Медиана\n",
    "  - Среднее\n",
    "  - Среднеквадратическое отклонение\n",
    "  - Есть ли аномальные значения, выбросы? \n",
    "  - Information Value\n",
    "3. Необходимо рассчитать для всех категориальных переменных следующее:\n",
    "  - Мода\n",
    "  - Доля пропущенных значений\n",
    "  - Information Value\n",
    "  - Есть ли выбросы, аномальные значений\n",
    "4. Построить логистическую регрессию только на одобренных заявках с преобразованными переменными WoE. Какое значение GINI? F1 мера?\n",
    "5. Провести анализ Reject Inference. Какая доля отказанных заявок? \n",
    "6. Построить логистическую регрессию на всех заявках с преобразованными переменными WoE. Какое значение GINI, F1? Изменилась ли модель? \n",
    "7. Какую модель вы рекомендуете для внедрения в продуктивную среду? Дать развернутое пояснение\n",
    "\n",
    "  \n",
    "### Ответы на вопросы\n",
    "**Вопрос 1.** В выборке acept доля 1 составляет 2.14%  \n",
    "\n",
    "**ACEPT ВЫБОРКА**  \n",
    "**Вопрос 2.** Доля пропущенных значений, медиана, среднее, среднеквадратичное отклоенение, распределение на данных для численных значений:\n",
    "<img src=\"нумерик нули.jpg\">  \n",
    "<img src=\"нумерик распределение.jpg\">  \n",
    "Аномальные значения были - их я обрезала просто по правилу все значения в таблице должны быть больше или равны 0. Плюс избавилась от заработка более 7 миллионов.     \n",
    "  \n",
    "Information Value для числовых переменных:  \n",
    "income = 0.001  \n",
    "CNT_MNTH_FROM_LAST_PMNT = 0.1  \n",
    "age = 0.251  \n",
    "experience = 0.102  \n",
    "count_mnth_act_passport = 0.282  \n",
    "  \n",
    "**Вопрос 3.** Доля пропущенных значений, мода, распределение на данных для категориальных значений:\n",
    "<img src=\"категории нуль.jpg\" style='width:400px;'>  \n",
    "<img src=\"категории распределение.jpg\" style='width:600px;'>  \n",
    "Аномальные значения были - их я обрезала просто по правилу все значения в таблице должны быть больше или равны 0  \n",
    "  \n",
    "Information Value для категориальных переменных:  \n",
    "INCOME_TYPE = 0.04  \n",
    "EDUCATION_ = 0.048  \n",
    "CUSTOMER_CATEGORY_ = 0.47  \n",
    "DEPENDANT_NUMBER = 0.003  \n",
    "IS_EMPL = 0.713  \n",
    "COUNT_ACTIVE_CREDIT_NO_CC = 0.133  \n",
    "inquiry_14_day = 0.063  \n",
    "inquiry_21_day = 0.101  \n",
    "is_CACNC_nan = 0.08  \n",
    "is_CMFLP_nan = 0.053  \n",
    "is_i14_nan = 0.06  \n",
    "is_i21_nan = 0.06  \n",
    "  \n",
    "**REJECT ВЫБОРКА**  \n",
    "**Вопрос 2.** Доля пропущенных значений, медиана, среднее, среднеквадратичное отклоенение, распределение на данных для численных значений:\n",
    "<img src=\"реджект нули.jpg\">  \n",
    "<img src=\"реджект распр.jpg\">  \n",
    "Аномальные значения были - их я обрезала просто по правилу все значения в таблице должны быть больше или равны 0  \n",
    "  \n",
    "**Вопрос 3.** Доля пропущенных значений, мода, распределение на данных для категориальных значений:\n",
    "<img src=\"реджект нули кат.jpg\" style='width:400px;'>  \n",
    "<img src=\"реджект распр кат.jpg\" style='width:600px;'>  \n",
    "Аномальные значения были - их я обрезала просто по правилу все значения в таблице должны быть больше или равны 0  \n",
    "\n",
    "**МОДЕЛЬ**  \n",
    "**Вопрос 4.** Логистическая регрессия на acept дала следующие значения:  \n",
    "Точность на acept: 0.926  \n",
    "Критерий Джини: 0.262  \n",
    "F1-мера: 0.138   \n",
    "  \n",
    "**Вопрос 5.** Доля отказанных заявок после Reject Inference анализа: 1.78%  \n",
    "  \n",
    "**Вопрос 6.** Логистическая регрессия на acept и reject дала следующие значения:    \n",
    "Точность на acept: 0.924  \n",
    "Критерий Джини: 0.397  \n",
    "F1-мера: 0.198  \n",
    "  \n",
    "**Вопрос 7.** В результате модель, построенная на acept и reject заявках, стала даже лучше предсказывать результаты.  \n",
    "**Вывод**: Данная задача сильно отличается от тех, что мы брали в курсе машинного обучения. Вероятнее всего она более прибижена к реальности, когда данные неоднородные, нерепрезентативные, с аномальными значениями. Мне кажется, что лучше брать вторую модель, так как в ней за счет присутствия и выборки acept и выборки reject будет более репрезентативная выборка и как видно более точные предсказания."
   ]
  },
  {
   "cell_type": "markdown",
   "metadata": {},
   "source": [
    "Сначала загрузим файлы и посмотрим на данные, находящиеся в них"
   ]
  },
  {
   "cell_type": "code",
   "execution_count": 1,
   "metadata": {},
   "outputs": [
    {
     "data": {
      "text/html": [
       "<div>\n",
       "<style scoped>\n",
       "    .dataframe tbody tr th:only-of-type {\n",
       "        vertical-align: middle;\n",
       "    }\n",
       "\n",
       "    .dataframe tbody tr th {\n",
       "        vertical-align: top;\n",
       "    }\n",
       "\n",
       "    .dataframe thead th {\n",
       "        text-align: right;\n",
       "    }\n",
       "</style>\n",
       "<table border=\"1\" class=\"dataframe\">\n",
       "  <thead>\n",
       "    <tr style=\"text-align: right;\">\n",
       "      <th></th>\n",
       "      <th>target</th>\n",
       "      <th>INCOME_TYPE</th>\n",
       "      <th>EDUCATION_</th>\n",
       "      <th>CUSTOMER_CATEGORY_</th>\n",
       "      <th>income</th>\n",
       "      <th>DEPENDANT_NUMBER</th>\n",
       "      <th>IS_EMPL</th>\n",
       "      <th>COUNT_ACTIVE_CREDIT_NO_CC</th>\n",
       "      <th>CNT_MNTH_FROM_LAST_PMNT</th>\n",
       "      <th>age</th>\n",
       "      <th>experience</th>\n",
       "      <th>inquiry_14_day</th>\n",
       "      <th>inquiry_21_day</th>\n",
       "      <th>count_mnth_act_passport</th>\n",
       "      <th>UID</th>\n",
       "    </tr>\n",
       "  </thead>\n",
       "  <tbody>\n",
       "    <tr>\n",
       "      <th>0</th>\n",
       "      <td>0</td>\n",
       "      <td>OTHER</td>\n",
       "      <td>elementary</td>\n",
       "      <td>NaN</td>\n",
       "      <td>140000.0</td>\n",
       "      <td>0.0</td>\n",
       "      <td>0</td>\n",
       "      <td>0.0</td>\n",
       "      <td>34.218548</td>\n",
       "      <td>38.497103</td>\n",
       "      <td>4.060109</td>\n",
       "      <td>NaN</td>\n",
       "      <td>NaN</td>\n",
       "      <td>10.056007</td>\n",
       "      <td>7</td>\n",
       "    </tr>\n",
       "    <tr>\n",
       "      <th>1</th>\n",
       "      <td>0</td>\n",
       "      <td>OTHER</td>\n",
       "      <td>elementary</td>\n",
       "      <td>NaN</td>\n",
       "      <td>50000.0</td>\n",
       "      <td>0.0</td>\n",
       "      <td>0</td>\n",
       "      <td>NaN</td>\n",
       "      <td>NaN</td>\n",
       "      <td>32.120548</td>\n",
       "      <td>4.743604</td>\n",
       "      <td>NaN</td>\n",
       "      <td>NaN</td>\n",
       "      <td>1.553425</td>\n",
       "      <td>18</td>\n",
       "    </tr>\n",
       "    <tr>\n",
       "      <th>2</th>\n",
       "      <td>0</td>\n",
       "      <td>OTHER</td>\n",
       "      <td>elementary</td>\n",
       "      <td>Corporate</td>\n",
       "      <td>183461.0</td>\n",
       "      <td>0.0</td>\n",
       "      <td>1</td>\n",
       "      <td>0.0</td>\n",
       "      <td>1.186985</td>\n",
       "      <td>44.063014</td>\n",
       "      <td>0.512194</td>\n",
       "      <td>1.0</td>\n",
       "      <td>1.0</td>\n",
       "      <td>2.649315</td>\n",
       "      <td>23</td>\n",
       "    </tr>\n",
       "    <tr>\n",
       "      <th>3</th>\n",
       "      <td>0</td>\n",
       "      <td>OTHER</td>\n",
       "      <td>elementary</td>\n",
       "      <td>Corporate</td>\n",
       "      <td>183461.0</td>\n",
       "      <td>0.0</td>\n",
       "      <td>1</td>\n",
       "      <td>0.0</td>\n",
       "      <td>1.186985</td>\n",
       "      <td>44.063014</td>\n",
       "      <td>0.512194</td>\n",
       "      <td>1.0</td>\n",
       "      <td>1.0</td>\n",
       "      <td>2.649315</td>\n",
       "      <td>24</td>\n",
       "    </tr>\n",
       "    <tr>\n",
       "      <th>4</th>\n",
       "      <td>0</td>\n",
       "      <td>OTHER</td>\n",
       "      <td>elementary</td>\n",
       "      <td>Corporate</td>\n",
       "      <td>102984.0</td>\n",
       "      <td>0.0</td>\n",
       "      <td>1</td>\n",
       "      <td>NaN</td>\n",
       "      <td>NaN</td>\n",
       "      <td>34.883928</td>\n",
       "      <td>6.119545</td>\n",
       "      <td>NaN</td>\n",
       "      <td>NaN</td>\n",
       "      <td>1.757901</td>\n",
       "      <td>34</td>\n",
       "    </tr>\n",
       "  </tbody>\n",
       "</table>\n",
       "</div>"
      ],
      "text/plain": [
       "   target INCOME_TYPE  EDUCATION_ CUSTOMER_CATEGORY_    income  \\\n",
       "0       0       OTHER  elementary                NaN  140000.0   \n",
       "1       0       OTHER  elementary                NaN   50000.0   \n",
       "2       0       OTHER  elementary          Corporate  183461.0   \n",
       "3       0       OTHER  elementary          Corporate  183461.0   \n",
       "4       0       OTHER  elementary          Corporate  102984.0   \n",
       "\n",
       "   DEPENDANT_NUMBER  IS_EMPL  COUNT_ACTIVE_CREDIT_NO_CC  \\\n",
       "0               0.0        0                        0.0   \n",
       "1               0.0        0                        NaN   \n",
       "2               0.0        1                        0.0   \n",
       "3               0.0        1                        0.0   \n",
       "4               0.0        1                        NaN   \n",
       "\n",
       "   CNT_MNTH_FROM_LAST_PMNT        age  experience  inquiry_14_day  \\\n",
       "0                34.218548  38.497103    4.060109             NaN   \n",
       "1                      NaN  32.120548    4.743604             NaN   \n",
       "2                 1.186985  44.063014    0.512194             1.0   \n",
       "3                 1.186985  44.063014    0.512194             1.0   \n",
       "4                      NaN  34.883928    6.119545             NaN   \n",
       "\n",
       "   inquiry_21_day  count_mnth_act_passport  UID  \n",
       "0             NaN                10.056007    7  \n",
       "1             NaN                 1.553425   18  \n",
       "2             1.0                 2.649315   23  \n",
       "3             1.0                 2.649315   24  \n",
       "4             NaN                 1.757901   34  "
      ]
     },
     "execution_count": 1,
     "metadata": {},
     "output_type": "execute_result"
    }
   ],
   "source": [
    "import pandas as pd\n",
    "import seaborn as sns\n",
    "import matplotlib.pyplot as plt\n",
    "import numpy as np\n",
    "from sklearn.model_selection import train_test_split\n",
    "from sklearn.linear_model import LogisticRegression\n",
    "\n",
    "acept = pd.read_csv('./12_accept.csv')\n",
    "reject = pd.read_csv('./12_reject.csv')\n",
    "acept.head()\n"
   ]
  },
  {
   "cell_type": "code",
   "execution_count": 2,
   "metadata": {},
   "outputs": [],
   "source": [
    "acept = acept.drop(columns='UID')\n",
    "reject = reject.drop(columns='UID')"
   ]
  },
  {
   "cell_type": "markdown",
   "metadata": {},
   "source": [
    "Посмотрим на долю таргета в данных accept"
   ]
  },
  {
   "cell_type": "code",
   "execution_count": 3,
   "metadata": {},
   "outputs": [
    {
     "name": "stdout",
     "output_type": "stream",
     "text": [
      "Доля 1 в accept: 2.14%\n",
      "Доля 0 в accept: 97.86%\n",
      "\n"
     ]
    }
   ],
   "source": [
    "targets = acept.target.value_counts() / acept.shape[0]\n",
    "print(f'Доля 1 в accept: {round(targets[1]*100, 2)}%\\nДоля 0 в accept: {round(targets[0]*100, 2)}%\\n')\n"
   ]
  },
  {
   "cell_type": "markdown",
   "metadata": {},
   "source": [
    "## Accept выборка"
   ]
  },
  {
   "cell_type": "markdown",
   "metadata": {},
   "source": [
    "Разделим характеристики на численные и категориальные. Посмотрим на описание всех числовых признаков (кол-во нулевых значений, пропущенных, среднее, медиана и т.д.) и на распределение данных по каждому признаку"
   ]
  },
  {
   "cell_type": "code",
   "execution_count": 4,
   "metadata": {},
   "outputs": [],
   "source": [
    "columns_types = reject.dtypes\n",
    "numeric = []\n",
    "categorical = []\n",
    "for i in reject.columns:\n",
    "    if columns_types[i] == 'object':\n",
    "        categorical.append(i)\n",
    "    else:\n",
    "        numeric.append(i)"
   ]
  },
  {
   "cell_type": "code",
   "execution_count": 5,
   "metadata": {},
   "outputs": [
    {
     "data": {
      "image/png": "[encoded data removed]",
      "text/plain": [
       "<Figure size 1440x936 with 10 Axes>"
      ]
     },
     "metadata": {
      "needs_background": "light"
     },
     "output_type": "display_data"
    },
    {
     "data": {
      "text/html": [
       "<div>\n",
       "<style scoped>\n",
       "    .dataframe tbody tr th:only-of-type {\n",
       "        vertical-align: middle;\n",
       "    }\n",
       "\n",
       "    .dataframe tbody tr th {\n",
       "        vertical-align: top;\n",
       "    }\n",
       "\n",
       "    .dataframe thead th {\n",
       "        text-align: right;\n",
       "    }\n",
       "</style>\n",
       "<table border=\"1\" class=\"dataframe\">\n",
       "  <thead>\n",
       "    <tr style=\"text-align: right;\">\n",
       "      <th></th>\n",
       "      <th>Уникальные</th>\n",
       "      <th>Пустые</th>\n",
       "      <th>Тип</th>\n",
       "      <th>Нулевые</th>\n",
       "      <th>Среднее</th>\n",
       "      <th>Медиана</th>\n",
       "      <th>Среднее отклонение</th>\n",
       "      <th>Минимум</th>\n",
       "      <th>Максимум</th>\n",
       "    </tr>\n",
       "  </thead>\n",
       "  <tbody>\n",
       "    <tr>\n",
       "      <th>income</th>\n",
       "      <td>56.598% (18425)</td>\n",
       "      <td>2.024% (659)</td>\n",
       "      <td>float64</td>\n",
       "      <td>0.006% (2)</td>\n",
       "      <td>61565.711</td>\n",
       "      <td>41412.0</td>\n",
       "      <td>105131.38</td>\n",
       "      <td>0.0</td>\n",
       "      <td>11450378.0</td>\n",
       "    </tr>\n",
       "    <tr>\n",
       "      <th>DEPENDANT_NUMBER</th>\n",
       "      <td>0.018% (6)</td>\n",
       "      <td>0.101% (33)</td>\n",
       "      <td>float64</td>\n",
       "      <td>99.327% (32335)</td>\n",
       "      <td>0.007</td>\n",
       "      <td>0.0</td>\n",
       "      <td>0.105</td>\n",
       "      <td>0.0</td>\n",
       "      <td>4.0</td>\n",
       "    </tr>\n",
       "    <tr>\n",
       "      <th>IS_EMPL</th>\n",
       "      <td>0.006% (2)</td>\n",
       "      <td>0.0% (0)</td>\n",
       "      <td>int64</td>\n",
       "      <td>60.721% (19767)</td>\n",
       "      <td>0.393</td>\n",
       "      <td>0.0</td>\n",
       "      <td>0.488</td>\n",
       "      <td>0</td>\n",
       "      <td>1</td>\n",
       "    </tr>\n",
       "    <tr>\n",
       "      <th>COUNT_ACTIVE_CREDIT_NO_CC</th>\n",
       "      <td>0.031% (10)</td>\n",
       "      <td>25.536% (8313)</td>\n",
       "      <td>float64</td>\n",
       "      <td>37.507% (12210)</td>\n",
       "      <td>0.663</td>\n",
       "      <td>0.0</td>\n",
       "      <td>0.823</td>\n",
       "      <td>0.0</td>\n",
       "      <td>8.0</td>\n",
       "    </tr>\n",
       "    <tr>\n",
       "      <th>CNT_MNTH_FROM_LAST_PMNT</th>\n",
       "      <td>53.247% (17334)</td>\n",
       "      <td>30.955% (10077)</td>\n",
       "      <td>float64</td>\n",
       "      <td>0.065% (21)</td>\n",
       "      <td>18.742</td>\n",
       "      <td>0.927</td>\n",
       "      <td>132.784</td>\n",
       "      <td>-21.953</td>\n",
       "      <td>1364.348</td>\n",
       "    </tr>\n",
       "    <tr>\n",
       "      <th>age</th>\n",
       "      <td>74.691% (24315)</td>\n",
       "      <td>0.0% (0)</td>\n",
       "      <td>float64</td>\n",
       "      <td>0.0% (0)</td>\n",
       "      <td>36.488</td>\n",
       "      <td>34.783</td>\n",
       "      <td>8.213</td>\n",
       "      <td>25.0</td>\n",
       "      <td>58.938</td>\n",
       "    </tr>\n",
       "    <tr>\n",
       "      <th>experience</th>\n",
       "      <td>65.507% (21325)</td>\n",
       "      <td>0.126% (41)</td>\n",
       "      <td>float64</td>\n",
       "      <td>0.003% (1)</td>\n",
       "      <td>4.938</td>\n",
       "      <td>3.287</td>\n",
       "      <td>5.33</td>\n",
       "      <td>0.0</td>\n",
       "      <td>101.192</td>\n",
       "    </tr>\n",
       "    <tr>\n",
       "      <th>inquiry_14_day</th>\n",
       "      <td>0.025% (8)</td>\n",
       "      <td>28.033% (9126)</td>\n",
       "      <td>float64</td>\n",
       "      <td>50.2% (16342)</td>\n",
       "      <td>0.358</td>\n",
       "      <td>0.0</td>\n",
       "      <td>0.607</td>\n",
       "      <td>0.0</td>\n",
       "      <td>6.0</td>\n",
       "    </tr>\n",
       "    <tr>\n",
       "      <th>inquiry_21_day</th>\n",
       "      <td>0.031% (10)</td>\n",
       "      <td>28.033% (9126)</td>\n",
       "      <td>float64</td>\n",
       "      <td>47.466% (15452)</td>\n",
       "      <td>0.423</td>\n",
       "      <td>0.0</td>\n",
       "      <td>0.682</td>\n",
       "      <td>0.0</td>\n",
       "      <td>8.0</td>\n",
       "    </tr>\n",
       "    <tr>\n",
       "      <th>count_mnth_act_passport</th>\n",
       "      <td>65.199% (21225)</td>\n",
       "      <td>0.0% (0)</td>\n",
       "      <td>float64</td>\n",
       "      <td>0.006% (2)</td>\n",
       "      <td>7.219</td>\n",
       "      <td>7.758</td>\n",
       "      <td>3.343</td>\n",
       "      <td>-0.005</td>\n",
       "      <td>15.805</td>\n",
       "    </tr>\n",
       "  </tbody>\n",
       "</table>\n",
       "</div>"
      ],
      "text/plain": [
       "                                Уникальные           Пустые      Тип  \\\n",
       "income                     56.598% (18425)     2.024% (659)  float64   \n",
       "DEPENDANT_NUMBER                0.018% (6)      0.101% (33)  float64   \n",
       "IS_EMPL                         0.006% (2)         0.0% (0)    int64   \n",
       "COUNT_ACTIVE_CREDIT_NO_CC      0.031% (10)   25.536% (8313)  float64   \n",
       "CNT_MNTH_FROM_LAST_PMNT    53.247% (17334)  30.955% (10077)  float64   \n",
       "age                        74.691% (24315)         0.0% (0)  float64   \n",
       "experience                 65.507% (21325)      0.126% (41)  float64   \n",
       "inquiry_14_day                  0.025% (8)   28.033% (9126)  float64   \n",
       "inquiry_21_day                 0.031% (10)   28.033% (9126)  float64   \n",
       "count_mnth_act_passport    65.199% (21225)         0.0% (0)  float64   \n",
       "\n",
       "                                   Нулевые    Среднее  Медиана  \\\n",
       "income                          0.006% (2)  61565.711  41412.0   \n",
       "DEPENDANT_NUMBER           99.327% (32335)      0.007      0.0   \n",
       "IS_EMPL                    60.721% (19767)      0.393      0.0   \n",
       "COUNT_ACTIVE_CREDIT_NO_CC  37.507% (12210)      0.663      0.0   \n",
       "CNT_MNTH_FROM_LAST_PMNT        0.065% (21)     18.742    0.927   \n",
       "age                               0.0% (0)     36.488   34.783   \n",
       "experience                      0.003% (1)      4.938    3.287   \n",
       "inquiry_14_day               50.2% (16342)      0.358      0.0   \n",
       "inquiry_21_day             47.466% (15452)      0.423      0.0   \n",
       "count_mnth_act_passport         0.006% (2)      7.219    7.758   \n",
       "\n",
       "                          Среднее отклонение  Минимум    Максимум  \n",
       "income                             105131.38      0.0  11450378.0  \n",
       "DEPENDANT_NUMBER                       0.105      0.0         4.0  \n",
       "IS_EMPL                                0.488        0           1  \n",
       "COUNT_ACTIVE_CREDIT_NO_CC              0.823      0.0         8.0  \n",
       "CNT_MNTH_FROM_LAST_PMNT              132.784  -21.953    1364.348  \n",
       "age                                    8.213     25.0      58.938  \n",
       "experience                              5.33      0.0     101.192  \n",
       "inquiry_14_day                         0.607      0.0         6.0  \n",
       "inquiry_21_day                         0.682      0.0         8.0  \n",
       "count_mnth_act_passport                3.343   -0.005      15.805  "
      ]
     },
     "execution_count": 5,
     "metadata": {},
     "output_type": "execute_result"
    }
   ],
   "source": [
    "column_info = pd.DataFrame(index=numeric)\n",
    "n = acept.shape[0]\n",
    "for i in numeric:\n",
    "    uniques = acept[i].unique().shape[0]\n",
    "    column_info.at[i, 'Уникальные'] = f'{round(uniques*100/n, 3)}% ({int(uniques)})'\n",
    "    \n",
    "    nulls = acept[i].isna().sum()\n",
    "    column_info.at[i, 'Пустые'] = f'{round(nulls*100/n, 3)}% ({int(nulls)})'\n",
    "    \n",
    "    column_info.at[i, 'Тип'] = acept[i].dtype\n",
    "    \n",
    "    zeros = acept[acept[i] == 0].shape[0]\n",
    "    column_info.at[i, 'Нулевые'] = f'{round(zeros*100/n, 3)}% ({int(zeros)})'\n",
    "    column_info.at[i, 'Среднее'] = f'{str(round(acept[i].mean(), 3))}'\n",
    "    column_info.at[i, 'Медиана'] = f'{str(round(acept[i].median(), 3))}'\n",
    "    column_info.at[i, 'Среднее отклонение'] =  f'{str(round(acept[i].std(), 3))}'\n",
    "    column_info.at[i, 'Минимум'] = f'{str(round(acept[i].min(), 3))}'\n",
    "    column_info.at[i, 'Максимум'] = f'{str(round(acept[i].max(), 3))}'\n",
    "    \n",
    "plt.figure(figsize=(20,13))\n",
    "\n",
    "for i in range(len(numeric)):\n",
    "    ax = plt.subplot(3, 4, i + 1)\n",
    "    buf=acept.dropna()[numeric[i]]\n",
    "    ax.hist(buf, bins=int(90))\n",
    "    ax.set_title(str(numeric[i]))\n",
    "\n",
    "plt.show()\n",
    "\n",
    "column_info\n"
   ]
  },
  {
   "cell_type": "markdown",
   "metadata": {},
   "source": [
    "Кажется есть аномалии по некоторым переменным. В переменных обрежем данные по 0 (так по логике все данные должны быть >=0)  Плюс уберем людей с зарабатком в месяц более 7 миллионов, звучит неправдоподобно и далее мы увидим, что такая выборка нам и не нужна"
   ]
  },
  {
   "cell_type": "markdown",
   "metadata": {},
   "source": [
    "На категориях DEPENDANT_NUMBER, experience и income пропуски составляют менее 3% от всех данных, поэтому удалим такие строки в acept  \n",
    "Для остальных категорий кол-во пропусков велико, поэтому сделаем как было предложено на семинаре - заполним все средним значением и введем новую характеристику, показывающую было ли то или иное значение Nan'ом или нет.  "
   ]
  },
  {
   "cell_type": "code",
   "execution_count": 6,
   "metadata": {},
   "outputs": [],
   "source": [
    "# Удалить в acept строки с пропусками DEPENDANT_NUMBER, experience и income\n",
    "# Добавить новые категории показывающие была ли переменная наном\n",
    "# Заменить пропуски в остальных категориях на среднее\n",
    "acept = acept[acept['DEPENDANT_NUMBER'].notna() & acept['experience'].notna() & acept['income'].notna()]\n",
    "\n",
    "acept['is_CACNC_nan'] = acept['COUNT_ACTIVE_CREDIT_NO_CC'].isna()\n",
    "acept['is_CMFLP_nan'] = acept['CNT_MNTH_FROM_LAST_PMNT'].isna()\n",
    "acept['is_i14_nan'] = acept['inquiry_14_day'].isna()\n",
    "acept['is_i21_nan'] = acept['inquiry_21_day'].isna()\n",
    "\n",
    "acept['COUNT_ACTIVE_CREDIT_NO_CC'] = acept['COUNT_ACTIVE_CREDIT_NO_CC'].fillna(round(acept['COUNT_ACTIVE_CREDIT_NO_CC'].std()))\n",
    "acept['CNT_MNTH_FROM_LAST_PMNT'] = acept['CNT_MNTH_FROM_LAST_PMNT'].fillna(acept['CNT_MNTH_FROM_LAST_PMNT'].std())\n",
    "acept['inquiry_14_day'] = acept['inquiry_14_day'].fillna(round(acept['inquiry_14_day'].std()))\n",
    "acept['inquiry_21_day'] = acept['inquiry_21_day'].fillna(round(acept['inquiry_21_day'].std()))\n",
    "\n",
    "for i in numeric:\n",
    "    acept = acept[acept[i] >= 0]\n",
    "    \n",
    "acept = acept[acept['income'] <= 7000000]"
   ]
  },
  {
   "cell_type": "markdown",
   "metadata": {},
   "source": [
    "Теперь посмотрим, что происходит с категориальными переменными"
   ]
  },
  {
   "cell_type": "code",
   "execution_count": 7,
   "metadata": {},
   "outputs": [
    {
     "data": {
      "text/html": [
       "<div>\n",
       "<style scoped>\n",
       "    .dataframe tbody tr th:only-of-type {\n",
       "        vertical-align: middle;\n",
       "    }\n",
       "\n",
       "    .dataframe tbody tr th {\n",
       "        vertical-align: top;\n",
       "    }\n",
       "\n",
       "    .dataframe thead th {\n",
       "        text-align: right;\n",
       "    }\n",
       "</style>\n",
       "<table border=\"1\" class=\"dataframe\">\n",
       "  <thead>\n",
       "    <tr style=\"text-align: right;\">\n",
       "      <th></th>\n",
       "      <th>Пустые</th>\n",
       "      <th>Мода</th>\n",
       "    </tr>\n",
       "  </thead>\n",
       "  <tbody>\n",
       "    <tr>\n",
       "      <th>INCOME_TYPE</th>\n",
       "      <td>0.0% (0)</td>\n",
       "      <td>OTHER</td>\n",
       "    </tr>\n",
       "    <tr>\n",
       "      <th>EDUCATION_</th>\n",
       "      <td>0.0% (0)</td>\n",
       "      <td>elementary</td>\n",
       "    </tr>\n",
       "    <tr>\n",
       "      <th>CUSTOMER_CATEGORY_</th>\n",
       "      <td>58.561% (18383)</td>\n",
       "      <td>Corporate</td>\n",
       "    </tr>\n",
       "  </tbody>\n",
       "</table>\n",
       "</div>"
      ],
      "text/plain": [
       "                             Пустые        Мода\n",
       "INCOME_TYPE                0.0% (0)       OTHER\n",
       "EDUCATION_                 0.0% (0)  elementary\n",
       "CUSTOMER_CATEGORY_  58.561% (18383)   Corporate"
      ]
     },
     "execution_count": 7,
     "metadata": {},
     "output_type": "execute_result"
    },
    {
     "data": {
      "image/png": "[encoded data removed]",
      "text/plain": [
       "<Figure size 504x43.2 with 1 Axes>"
      ]
     },
     "metadata": {
      "needs_background": "light"
     },
     "output_type": "display_data"
    },
    {
     "data": {
      "image/png": "[encoded data removed]",
      "text/plain": [
       "<Figure size 504x86.4 with 1 Axes>"
      ]
     },
     "metadata": {
      "needs_background": "light"
     },
     "output_type": "display_data"
    },
    {
     "data": {
      "image/png": "[encoded data removed]",
      "text/plain": [
       "<Figure size 504x64.8 with 1 Axes>"
      ]
     },
     "metadata": {
      "needs_background": "light"
     },
     "output_type": "display_data"
    }
   ],
   "source": [
    "column_info = pd.DataFrame(index=categorical)\n",
    "n = acept.shape[0]\n",
    "for i in categorical:\n",
    "    nulls = acept[i].isna().sum()\n",
    "    column_info.at[i, 'Пустые'] = f'{round(nulls*100/n, 3)}% ({int(nulls)})'\n",
    "    column_info.at[i, 'Мода'] = f'{acept[i].mode()[0]}'\n",
    "\n",
    "for i in categorical:\n",
    "    plt.figure(figsize=(7, acept[i].unique().shape[0]*0.3))\n",
    "    sns.countplot(y = i, data = pd.DataFrame(acept[i]))\n",
    "\n",
    "column_info\n"
   ]
  },
  {
   "cell_type": "markdown",
   "metadata": {},
   "source": [
    "Много пропущенных значений на категории CUSTOMER_CATEGORY_ (почти половина) - заменим на новую категорию 'unknown'  "
   ]
  },
  {
   "cell_type": "code",
   "execution_count": 8,
   "metadata": {},
   "outputs": [],
   "source": [
    "acept['CUSTOMER_CATEGORY_'] = acept['CUSTOMER_CATEGORY_'].fillna('unknown')"
   ]
  },
  {
   "cell_type": "markdown",
   "metadata": {},
   "source": [
    "## Reject выборка  \n",
    "Теперь изучим данные на reject выборке"
   ]
  },
  {
   "cell_type": "code",
   "execution_count": 9,
   "metadata": {},
   "outputs": [
    {
     "data": {
      "image/png": "[encoded data removed]",
      "text/plain": [
       "<Figure size 1440x936 with 10 Axes>"
      ]
     },
     "metadata": {
      "needs_background": "light"
     },
     "output_type": "display_data"
    },
    {
     "data": {
      "text/html": [
       "<div>\n",
       "<style scoped>\n",
       "    .dataframe tbody tr th:only-of-type {\n",
       "        vertical-align: middle;\n",
       "    }\n",
       "\n",
       "    .dataframe tbody tr th {\n",
       "        vertical-align: top;\n",
       "    }\n",
       "\n",
       "    .dataframe thead th {\n",
       "        text-align: right;\n",
       "    }\n",
       "</style>\n",
       "<table border=\"1\" class=\"dataframe\">\n",
       "  <thead>\n",
       "    <tr style=\"text-align: right;\">\n",
       "      <th></th>\n",
       "      <th>Уникальные</th>\n",
       "      <th>Пустые</th>\n",
       "      <th>Тип</th>\n",
       "      <th>Нулевые</th>\n",
       "      <th>Среднее</th>\n",
       "      <th>Медиана</th>\n",
       "      <th>Среднее отклонение</th>\n",
       "      <th>Минимум</th>\n",
       "      <th>Максимум</th>\n",
       "    </tr>\n",
       "  </thead>\n",
       "  <tbody>\n",
       "    <tr>\n",
       "      <th>income</th>\n",
       "      <td>71.589% (7655)</td>\n",
       "      <td>5.106% (546)</td>\n",
       "      <td>float64</td>\n",
       "      <td>0.037% (4)</td>\n",
       "      <td>33651.243</td>\n",
       "      <td>29115.0</td>\n",
       "      <td>21821.838</td>\n",
       "      <td>0.0</td>\n",
       "      <td>434136.0</td>\n",
       "    </tr>\n",
       "    <tr>\n",
       "      <th>DEPENDANT_NUMBER</th>\n",
       "      <td>0.037% (4)</td>\n",
       "      <td>0.047% (5)</td>\n",
       "      <td>float64</td>\n",
       "      <td>99.794% (10671)</td>\n",
       "      <td>0.002</td>\n",
       "      <td>0.0</td>\n",
       "      <td>0.046</td>\n",
       "      <td>0.0</td>\n",
       "      <td>2.0</td>\n",
       "    </tr>\n",
       "    <tr>\n",
       "      <th>IS_EMPL</th>\n",
       "      <td>0.019% (2)</td>\n",
       "      <td>0.0% (0)</td>\n",
       "      <td>int64</td>\n",
       "      <td>45.675% (4884)</td>\n",
       "      <td>0.543</td>\n",
       "      <td>1.0</td>\n",
       "      <td>0.498</td>\n",
       "      <td>0</td>\n",
       "      <td>1</td>\n",
       "    </tr>\n",
       "    <tr>\n",
       "      <th>COUNT_ACTIVE_CREDIT_NO_CC</th>\n",
       "      <td>0.075% (8)</td>\n",
       "      <td>41.223% (4408)</td>\n",
       "      <td>float64</td>\n",
       "      <td>33.218% (3552)</td>\n",
       "      <td>0.541</td>\n",
       "      <td>0.0</td>\n",
       "      <td>0.731</td>\n",
       "      <td>0.0</td>\n",
       "      <td>6.0</td>\n",
       "    </tr>\n",
       "    <tr>\n",
       "      <th>CNT_MNTH_FROM_LAST_PMNT</th>\n",
       "      <td>40.802% (4363)</td>\n",
       "      <td>51.127% (5467)</td>\n",
       "      <td>float64</td>\n",
       "      <td>0.028% (3)</td>\n",
       "      <td>42.478</td>\n",
       "      <td>0.865</td>\n",
       "      <td>228.832</td>\n",
       "      <td>-31.073</td>\n",
       "      <td>1364.633</td>\n",
       "    </tr>\n",
       "    <tr>\n",
       "      <th>age</th>\n",
       "      <td>52.735% (5639)</td>\n",
       "      <td>0.0% (0)</td>\n",
       "      <td>float64</td>\n",
       "      <td>0.0% (0)</td>\n",
       "      <td>24.037</td>\n",
       "      <td>24.109</td>\n",
       "      <td>0.738</td>\n",
       "      <td>0.003</td>\n",
       "      <td>25.0</td>\n",
       "    </tr>\n",
       "    <tr>\n",
       "      <th>experience</th>\n",
       "      <td>71.402% (7635)</td>\n",
       "      <td>0.075% (8)</td>\n",
       "      <td>float64</td>\n",
       "      <td>0.0% (0)</td>\n",
       "      <td>1.66</td>\n",
       "      <td>1.226</td>\n",
       "      <td>1.394</td>\n",
       "      <td>0.025</td>\n",
       "      <td>15.271</td>\n",
       "    </tr>\n",
       "    <tr>\n",
       "      <th>inquiry_14_day</th>\n",
       "      <td>0.075% (8)</td>\n",
       "      <td>43.056% (4604)</td>\n",
       "      <td>float64</td>\n",
       "      <td>41.148% (4400)</td>\n",
       "      <td>0.341</td>\n",
       "      <td>0.0</td>\n",
       "      <td>0.62</td>\n",
       "      <td>0.0</td>\n",
       "      <td>6.0</td>\n",
       "    </tr>\n",
       "    <tr>\n",
       "      <th>inquiry_21_day</th>\n",
       "      <td>0.084% (9)</td>\n",
       "      <td>43.056% (4604)</td>\n",
       "      <td>float64</td>\n",
       "      <td>38.633% (4131)</td>\n",
       "      <td>0.414</td>\n",
       "      <td>0.0</td>\n",
       "      <td>0.708</td>\n",
       "      <td>0.0</td>\n",
       "      <td>8.0</td>\n",
       "    </tr>\n",
       "    <tr>\n",
       "      <th>count_mnth_act_passport</th>\n",
       "      <td>56.13% (6002)</td>\n",
       "      <td>0.0% (0)</td>\n",
       "      <td>float64</td>\n",
       "      <td>0.0% (0)</td>\n",
       "      <td>3.509</td>\n",
       "      <td>3.713</td>\n",
       "      <td>1.154</td>\n",
       "      <td>0.003</td>\n",
       "      <td>43.099</td>\n",
       "    </tr>\n",
       "  </tbody>\n",
       "</table>\n",
       "</div>"
      ],
      "text/plain": [
       "                               Уникальные          Пустые      Тип  \\\n",
       "income                     71.589% (7655)    5.106% (546)  float64   \n",
       "DEPENDANT_NUMBER               0.037% (4)      0.047% (5)  float64   \n",
       "IS_EMPL                        0.019% (2)        0.0% (0)    int64   \n",
       "COUNT_ACTIVE_CREDIT_NO_CC      0.075% (8)  41.223% (4408)  float64   \n",
       "CNT_MNTH_FROM_LAST_PMNT    40.802% (4363)  51.127% (5467)  float64   \n",
       "age                        52.735% (5639)        0.0% (0)  float64   \n",
       "experience                 71.402% (7635)      0.075% (8)  float64   \n",
       "inquiry_14_day                 0.075% (8)  43.056% (4604)  float64   \n",
       "inquiry_21_day                 0.084% (9)  43.056% (4604)  float64   \n",
       "count_mnth_act_passport     56.13% (6002)        0.0% (0)  float64   \n",
       "\n",
       "                                   Нулевые    Среднее  Медиана  \\\n",
       "income                          0.037% (4)  33651.243  29115.0   \n",
       "DEPENDANT_NUMBER           99.794% (10671)      0.002      0.0   \n",
       "IS_EMPL                     45.675% (4884)      0.543      1.0   \n",
       "COUNT_ACTIVE_CREDIT_NO_CC   33.218% (3552)      0.541      0.0   \n",
       "CNT_MNTH_FROM_LAST_PMNT         0.028% (3)     42.478    0.865   \n",
       "age                               0.0% (0)     24.037   24.109   \n",
       "experience                        0.0% (0)       1.66    1.226   \n",
       "inquiry_14_day              41.148% (4400)      0.341      0.0   \n",
       "inquiry_21_day              38.633% (4131)      0.414      0.0   \n",
       "count_mnth_act_passport           0.0% (0)      3.509    3.713   \n",
       "\n",
       "                          Среднее отклонение  Минимум  Максимум  \n",
       "income                             21821.838      0.0  434136.0  \n",
       "DEPENDANT_NUMBER                       0.046      0.0       2.0  \n",
       "IS_EMPL                                0.498        0         1  \n",
       "COUNT_ACTIVE_CREDIT_NO_CC              0.731      0.0       6.0  \n",
       "CNT_MNTH_FROM_LAST_PMNT              228.832  -31.073  1364.633  \n",
       "age                                    0.738    0.003      25.0  \n",
       "experience                             1.394    0.025    15.271  \n",
       "inquiry_14_day                          0.62      0.0       6.0  \n",
       "inquiry_21_day                         0.708      0.0       8.0  \n",
       "count_mnth_act_passport                1.154    0.003    43.099  "
      ]
     },
     "execution_count": 9,
     "metadata": {},
     "output_type": "execute_result"
    }
   ],
   "source": [
    "column_info = pd.DataFrame(index=numeric)\n",
    "n = reject.shape[0]\n",
    "for i in numeric:\n",
    "    uniques = reject[i].unique().shape[0]\n",
    "    column_info.at[i, 'Уникальные'] = f'{round(uniques*100/n, 3)}% ({int(uniques)})'\n",
    "    \n",
    "    nulls = reject[i].isna().sum()\n",
    "    column_info.at[i, 'Пустые'] = f'{round(nulls*100/n, 3)}% ({int(nulls)})'\n",
    "    \n",
    "    column_info.at[i, 'Тип'] = reject[i].dtype\n",
    "    \n",
    "    zeros = reject[reject[i] == 0].shape[0]\n",
    "    column_info.at[i, 'Нулевые'] = f'{round(zeros*100/n, 3)}% ({int(zeros)})'\n",
    "    column_info.at[i, 'Среднее'] = f'{str(round(reject[i].mean(), 3))}'\n",
    "    column_info.at[i, 'Медиана'] = f'{str(round(reject[i].median(), 3))}'\n",
    "    column_info.at[i, 'Среднее отклонение'] =  f'{str(round(reject[i].std(), 3))}'\n",
    "    column_info.at[i, 'Минимум'] = f'{str(round(reject[i].min(), 3))}'\n",
    "    column_info.at[i, 'Максимум'] = f'{str(round(reject[i].max(), 3))}'\n",
    "    \n",
    "plt.figure(figsize=(20,13))\n",
    "\n",
    "for i in range(len(numeric)):\n",
    "    ax = plt.subplot(3, 4, i + 1)\n",
    "    buf=reject.dropna()[numeric[i]]\n",
    "    ax.hist(buf, bins=int(90))\n",
    "    ax.set_title(str(numeric[i]))\n",
    "\n",
    "plt.show()\n",
    "\n",
    "column_info"
   ]
  },
  {
   "cell_type": "markdown",
   "metadata": {},
   "source": [
    "На категориях DEPENDANT_NUMBER, experience и income пропуски составляют менее 6% от всех данных, удалять данные строки не хотелось бы, так как для reject нам нужно предсказание. Заменим на среднее значение по всей выборке, тем более как видим выборка состоит из определенного класса клиентов  \n",
    "На оставшихся переменных пропусков около половины, поэтому заменим на среднее  \n",
    "Также заметим, что данная выборка сильно отличается от acept. Например здесь, в отличие от acept, возраст до 25 лет."
   ]
  },
  {
   "cell_type": "code",
   "execution_count": 10,
   "metadata": {},
   "outputs": [],
   "source": [
    "for i in numeric:\n",
    "    reject = reject[reject[i] >= 0]\n",
    "\n",
    "reject['DEPENDANT_NUMBER'] = reject['DEPENDANT_NUMBER'].fillna(0.0)\n",
    "reject['experience'] = reject['experience'].fillna(acept['experience'].std())\n",
    "reject['income'] = reject['income'].fillna(round(acept['income'].std()))\n",
    "\n",
    "reject['is_CACNC_nan'] = reject['COUNT_ACTIVE_CREDIT_NO_CC'].isna()\n",
    "reject['is_CMFLP_nan'] = reject['CNT_MNTH_FROM_LAST_PMNT'].isna()\n",
    "reject['is_i14_nan'] = reject['inquiry_14_day'].isna()\n",
    "reject['is_i21_nan'] = reject['inquiry_21_day'].isna()\n",
    "\n",
    "reject['COUNT_ACTIVE_CREDIT_NO_CC'] = reject['COUNT_ACTIVE_CREDIT_NO_CC'].fillna(round(reject['COUNT_ACTIVE_CREDIT_NO_CC'].std()))\n",
    "reject['CNT_MNTH_FROM_LAST_PMNT'] = reject['CNT_MNTH_FROM_LAST_PMNT'].fillna(reject['CNT_MNTH_FROM_LAST_PMNT'].std())\n",
    "reject['inquiry_14_day'] = reject['inquiry_14_day'].fillna(round(reject['inquiry_14_day'].std()))\n",
    "reject['inquiry_21_day'] = reject['inquiry_21_day'].fillna(round(reject['inquiry_21_day'].std()))\n"
   ]
  },
  {
   "cell_type": "markdown",
   "metadata": {},
   "source": [
    "Что происходит с категориальными переменными?"
   ]
  },
  {
   "cell_type": "code",
   "execution_count": 11,
   "metadata": {},
   "outputs": [
    {
     "data": {
      "text/html": [
       "<div>\n",
       "<style scoped>\n",
       "    .dataframe tbody tr th:only-of-type {\n",
       "        vertical-align: middle;\n",
       "    }\n",
       "\n",
       "    .dataframe tbody tr th {\n",
       "        vertical-align: top;\n",
       "    }\n",
       "\n",
       "    .dataframe thead th {\n",
       "        text-align: right;\n",
       "    }\n",
       "</style>\n",
       "<table border=\"1\" class=\"dataframe\">\n",
       "  <thead>\n",
       "    <tr style=\"text-align: right;\">\n",
       "      <th></th>\n",
       "      <th>Пустые</th>\n",
       "      <th>Мода</th>\n",
       "    </tr>\n",
       "  </thead>\n",
       "  <tbody>\n",
       "    <tr>\n",
       "      <th>INCOME_TYPE</th>\n",
       "      <td>0.0% (0)</td>\n",
       "      <td>OTHER</td>\n",
       "    </tr>\n",
       "    <tr>\n",
       "      <th>EDUCATION_</th>\n",
       "      <td>0.0% (0)</td>\n",
       "      <td>elementary</td>\n",
       "    </tr>\n",
       "    <tr>\n",
       "      <th>CUSTOMER_CATEGORY_</th>\n",
       "      <td>44.225% (2041)</td>\n",
       "      <td>Corporate</td>\n",
       "    </tr>\n",
       "  </tbody>\n",
       "</table>\n",
       "</div>"
      ],
      "text/plain": [
       "                            Пустые        Мода\n",
       "INCOME_TYPE               0.0% (0)       OTHER\n",
       "EDUCATION_                0.0% (0)  elementary\n",
       "CUSTOMER_CATEGORY_  44.225% (2041)   Corporate"
      ]
     },
     "execution_count": 11,
     "metadata": {},
     "output_type": "execute_result"
    },
    {
     "data": {
      "image/png": "[encoded data removed]",
      "text/plain": [
       "<Figure size 504x43.2 with 1 Axes>"
      ]
     },
     "metadata": {
      "needs_background": "light"
     },
     "output_type": "display_data"
    },
    {
     "data": {
      "image/png": "[encoded data removed]",
      "text/plain": [
       "<Figure size 504x86.4 with 1 Axes>"
      ]
     },
     "metadata": {
      "needs_background": "light"
     },
     "output_type": "display_data"
    },
    {
     "data": {
      "image/png": "[encoded data removed]",
      "text/plain": [
       "<Figure size 504x64.8 with 1 Axes>"
      ]
     },
     "metadata": {
      "needs_background": "light"
     },
     "output_type": "display_data"
    }
   ],
   "source": [
    "column_info = pd.DataFrame(index=categorical)\n",
    "n = reject.shape[0]\n",
    "for i in categorical:\n",
    "    nulls = reject[i].isna().sum()\n",
    "    column_info.at[i, 'Пустые'] = f'{round(nulls*100/n, 3)}% ({int(nulls)})'\n",
    "    column_info.at[i, 'Мода'] = f'{reject[i].mode()[0]}'\n",
    "    \n",
    "for i in categorical:\n",
    "    plt.figure(figsize=(7, reject[i].unique().shape[0]*0.3))\n",
    "    sns.countplot(y = i, data = pd.DataFrame(reject[i]))\n",
    "\n",
    "column_info"
   ]
  },
  {
   "cell_type": "markdown",
   "metadata": {},
   "source": [
    "Много пустых значений в CUSTOMER_CATEGORY_ заменим на новую категорию 'unknown'  \n",
    "Заметим, что на rejecte практически нет VIP клиентов, наблюдается бОльшая однородность, чем на acept по остальным категориям."
   ]
  },
  {
   "cell_type": "code",
   "execution_count": 12,
   "metadata": {},
   "outputs": [],
   "source": [
    "# Заполняем пропуски новой категорией unknown\n",
    "reject['CUSTOMER_CATEGORY_'] = reject['CUSTOMER_CATEGORY_'].fillna('unknown')\n"
   ]
  },
  {
   "cell_type": "markdown",
   "metadata": {},
   "source": [
    "## WoE и IV рассчет  \n",
    "Теперь проведем рассчет WoE и IV переменных. Для этого разделим переменные на woe_categorical и на woe_numeric - на первых woe будет расчитываться просто по каждой категории, а на вторых мы подберем разделение на бины  \n",
    "Также не забудем, что WoE строится не на всей выборке, поэтому возьмем 40%  "
   ]
  },
  {
   "cell_type": "code",
   "execution_count": 13,
   "metadata": {},
   "outputs": [],
   "source": [
    "import warnings\n",
    "import pandas as pd\n",
    "from pandas.core.common import SettingWithCopyWarning\n",
    "warnings.simplefilter(action=\"ignore\", category=SettingWithCopyWarning)"
   ]
  },
  {
   "cell_type": "code",
   "execution_count": 14,
   "metadata": {},
   "outputs": [
    {
     "name": "stdout",
     "output_type": "stream",
     "text": [
      "\tInformation Value for acept\n",
      "INCOME_TYPE = 0.008\n",
      "EDUCATION_ = 0.047\n",
      "CUSTOMER_CATEGORY_ = 0.598\n",
      "DEPENDANT_NUMBER = 0.0\n",
      "IS_EMPL = 0.685\n",
      "COUNT_ACTIVE_CREDIT_NO_CC = 0.146\n",
      "inquiry_14_day = 0.201\n",
      "inquiry_21_day = 0.201\n",
      "is_CACNC_nan = 0.089\n",
      "is_CMFLP_nan = 0.062\n",
      "is_i14_nan = 0.066\n",
      "is_i21_nan = 0.066\n"
     ]
    },
    {
     "name": "stderr",
     "output_type": "stream",
     "text": [
      "/home/rinat/anaconda3/lib/python3.9/site-packages/pandas/core/arraylike.py:364: RuntimeWarning: divide by zero encountered in log\n",
      "  result = getattr(ufunc, method)(*inputs, **kwargs)\n"
     ]
    },
    {
     "name": "stdout",
     "output_type": "stream",
     "text": [
      "income = 0.047\n",
      "CNT_MNTH_FROM_LAST_PMNT = 0.171\n",
      "age = 0.209\n",
      "experience = 0.078\n",
      "count_mnth_act_passport = 0.3\n"
     ]
    }
   ],
   "source": [
    "woe_categorical = np.append(categorical, ['DEPENDANT_NUMBER', 'IS_EMPL', 'COUNT_ACTIVE_CREDIT_NO_CC', 'inquiry_14_day', \n",
    "                                          'inquiry_21_day', 'is_CACNC_nan', 'is_CMFLP_nan', 'is_i14_nan', 'is_i21_nan'],\n",
    "                            axis=0)\n",
    "woe_numeric = ['income', 'CNT_MNTH_FROM_LAST_PMNT', 'age', 'experience', 'count_mnth_act_passport']\n",
    "\n",
    "WOE = []\n",
    "\n",
    "train, woe_data = train_test_split(acept, shuffle=True, test_size=0.5, random_state=42)\n",
    "\n",
    "n_1 = woe_data[woe_data.target == 1].shape[0]\n",
    "n_0 = woe_data[woe_data.target == 0].shape[0]\n",
    "IV = {}\n",
    "\n",
    "# Categorical\n",
    "print('\\tInformation Value for acept')\n",
    "for var in woe_categorical: \n",
    "    val_freq_1 = woe_data[woe_data['target'] == 1][var].value_counts() / n_1\n",
    "    val_freq_0 = woe_data[woe_data['target'] == 0][var].value_counts() / n_0\n",
    "    buf = pd.DataFrame({'0':val_freq_0, '1':val_freq_1}).fillna(0)\n",
    "    val_freq_0, val_freq_1 = buf['0'], buf['1']\n",
    "    \n",
    "    woe = np.log(val_freq_0) - np.log(val_freq_1)\n",
    "    woe = woe.replace({-np.inf:0 , np.inf:0})\n",
    "\n",
    "    \n",
    "    acept[f'woe_{var}'] = acept[var].replace(dict(woe))\n",
    "    reject[f'woe_{var}'] = reject[var].replace(dict(woe))\n",
    "\n",
    "    IV[var] = sum((val_freq_0 * woe - val_freq_1 * woe))\n",
    "    print(f'{var} = {round(IV[var],3)}')\n",
    "    \n",
    "    WOE.append(f'woe_{var}')\n",
    "\n",
    "\n",
    "# Numeric\n",
    "nbins = 100\n",
    "for var in woe_numeric:\n",
    "    max_val = max(train[var].max(), woe_data[var].max()) + 1\n",
    "    min_val = min(train[var].min(), woe_data[var].min())\n",
    "    for i in range(nbins):\n",
    "        left = min_val + ((max_val - min_val) / nbins) * i\n",
    "        right = min_val + ((max_val - min_val) / nbins) * (i+1)\n",
    "        woe_data.loc[(left <= woe_data[var]) & (woe_data[var] < right), 'bin'] = int(i)\n",
    "        acept.loc[(left <= acept[var]) & (acept[var] < right), 'bin'] = int(i)\n",
    "        reject.loc[(left <= reject[var]) & (reject[var] < right), 'bin'] = int(i)\n",
    "\n",
    "\n",
    "    buf = pd.DataFrame(columns=['val0', 'val1', 'woe'])\n",
    "    buf['val0'] = woe_data[woe_data['target'] == 0]['bin'].value_counts() / n_0 * 100 \n",
    "    buf['val1'] = woe_data[woe_data['target'] == 1]['bin'].value_counts() / n_1 * 100\n",
    "    buf = buf.fillna(0)\n",
    "    buf['woe'] = np.log(buf.val0 / buf.val1)\n",
    "    buf = buf.replace({-np.inf:0, np.inf:0})\n",
    "\n",
    "    \n",
    "    if acept.bin.unique().shape[0] >= 6:\n",
    "        buf = buf.sort_values(by=['woe'])\n",
    "        buf['new_bin'] = np.copy(buf['woe'].loc[:])\n",
    "        l = buf['woe'].iloc[0]\n",
    "        step = 0.4\n",
    "        new_bin = 0\n",
    "        for i in range(buf.shape[0]):\n",
    "            r = buf.iloc[i]['woe']\n",
    "            if abs(r-l) > step:\n",
    "                new_bin += 1\n",
    "                l = r\n",
    "            buf['new_bin'].iloc[i] = new_bin\n",
    "        buf['woe'].loc[:] = buf['new_bin'].loc[:].replace(dict(np.log(buf.groupby(['new_bin'])['val0'].sum() / \n",
    "                                                                      buf.groupby(['new_bin'])['val1'].sum())))\n",
    "        buf = buf.replace({-np.inf:0, np.inf:0})\n",
    "\n",
    "        \n",
    "        acept['bin'].loc[:] = acept['bin'].loc[:].replace(dict(buf.new_bin))\n",
    "        reject['bin'].loc[:] = reject['bin'].loc[:].replace(dict(buf.new_bin))\n",
    "    \n",
    "    acept[f'woe_{var}'] = acept['bin'].replace(dict(buf.woe))\n",
    "    reject[f'woe_{var}'] = reject['bin'].replace(dict(buf.woe))\n",
    "    \n",
    "    IV[var] = sum((buf.val0 - buf.val1) * buf.woe)/100\n",
    "    print(f'{var} = {round(IV[var], 3)}')\n",
    "    WOE.append(f'woe_{var}')\n",
    "\n",
    "WOE.append('target')"
   ]
  },
  {
   "cell_type": "markdown",
   "metadata": {},
   "source": [
    "## Логистическая регрессия для acept  \n"
   ]
  },
  {
   "cell_type": "code",
   "execution_count": 15,
   "metadata": {
    "scrolled": false
   },
   "outputs": [
    {
     "name": "stdout",
     "output_type": "stream",
     "text": [
      "Точность на acept: 0.941\n",
      "Критерий Джини: 0.174\n",
      "F1-мера: 0.124\n"
     ]
    }
   ],
   "source": [
    "from sklearn.linear_model import LogisticRegression\n",
    "from sklearn.metrics import roc_auc_score\n",
    "from sklearn.metrics import f1_score\n",
    "\n",
    "woe_acept = acept[WOE]\n",
    "\n",
    "train, test = train_test_split(woe_acept, test_size=0.2, random_state=42)\n",
    "\n",
    "clf = LogisticRegression()\n",
    "clf.fit(train.drop(columns='target'), train.target)\n",
    "threshold = 0.94\n",
    "pred = (clf.predict_proba(test.drop(columns='target'))[:, 0] < threshold).astype(int)\n",
    "# pred = clf.predict(test.drop(columns='target'))\n",
    "\n",
    "y = test.target\n",
    "score = sum(y == pred) / pred.shape[0]\n",
    "gini = 2 * roc_auc_score(y, pred) - 1\n",
    "f1 = f1_score(y, pred)\n",
    "print(f'Точность на acept: {round(score,3)}\\nКритерий Джини: {round(gini, 3)}\\nF1-мера: {round(f1,3)}')\n"
   ]
  },
  {
   "cell_type": "markdown",
   "metadata": {},
   "source": [
    "## Reject Inference    \n",
    "Буду использовать Hard Cut технику  \n"
   ]
  },
  {
   "cell_type": "code",
   "execution_count": 16,
   "metadata": {},
   "outputs": [
    {
     "name": "stdout",
     "output_type": "stream",
     "text": [
      "Доля 1 в accept: 2.28%\n",
      "Доля 0 в accept: 97.72%\n",
      "\n"
     ]
    }
   ],
   "source": [
    "woe_reject = reject[WOE[:-1]]\n",
    "pred = (clf.predict_proba(woe_reject)[:, 0] < threshold).astype(int)\n",
    "reject['target'] = pred\n",
    "targets = reject.target.value_counts() / reject.shape[0]\n",
    "print(f'Доля 1 в accept: {round(targets[1]*100, 2)}%\\nДоля 0 в accept: {round(targets[0]*100, 2)}%\\n')"
   ]
  },
  {
   "cell_type": "markdown",
   "metadata": {},
   "source": [
    "## Логистическая регрессия для acept и reject\n",
    "\n"
   ]
  },
  {
   "cell_type": "code",
   "execution_count": 17,
   "metadata": {},
   "outputs": [
    {
     "name": "stdout",
     "output_type": "stream",
     "text": [
      "Точность на acept: 0.935\n",
      "Критерий Джини: 0.357\n",
      "F1-мера: 0.211\n"
     ]
    }
   ],
   "source": [
    "from sklearn.linear_model import LogisticRegression\n",
    "from sklearn.metrics import roc_auc_score\n",
    "from sklearn.metrics import f1_score\n",
    "\n",
    "woe_reject['target'] = pred\n",
    "new_data = pd.concat([woe_acept, woe_reject])\n",
    "\n",
    "train, test = train_test_split(new_data, test_size=0.3, random_state=42)\n",
    "\n",
    "clf = LogisticRegression()\n",
    "clf.fit(train.drop(columns='target'), train.target)\n",
    "pred = (clf.predict_proba(test.drop(columns='target'))[:, 0] < threshold).astype(int)\n",
    "\n",
    "\n",
    "y = test.target\n",
    "score = sum(y == pred) / pred.shape[0]\n",
    "gini = 2 * roc_auc_score(y, pred) - 1\n",
    "f1 = f1_score(y, pred)\n",
    "print(f'Точность на acept: {round(score,3)}\\nКритерий Джини: {round(gini, 3)}\\nF1-мера: {round(f1,3)}')\n"
   ]
  },
  {
   "cell_type": "markdown",
   "metadata": {},
   "source": [
    "В результате модель, построенная на acept и reject заявках, стала даже лучше предсказывать результаты.  \n",
    "  \n",
    "**Вывод:** Данная задача сильно отличается от тех, что мы брали в курсе машинного обучения. Вероятнее всего она более прибижена к реальности, когда данные неоднородные, нерепрезентативные, с аномальными значениями. Мне кажется, что лучше брать вторую модель, так как в ней за счет присутствия и выборки acept и выборки reject будет более репрезентативная выборка и как видно более точные предсказания."
   ]
  }
 ],
 "metadata": {
  "kernelspec": {
   "display_name": "Python 3 (ipykernel)",
   "language": "python",
   "name": "python3"
  },
  "language_info": {
   "codemirror_mode": {
    "name": "ipython",
    "version": 3
   },
   "file_extension": ".py",
   "mimetype": "text/x-python",
   "name": "python",
   "nbconvert_exporter": "python",
   "pygments_lexer": "ipython3",
   "version": "3.9.7"
  }
 },
 "nbformat": 4,
 "nbformat_minor": 4
}
