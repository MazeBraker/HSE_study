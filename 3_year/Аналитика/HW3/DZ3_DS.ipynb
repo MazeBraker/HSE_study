{
 "cells": [
  {
   "cell_type": "markdown",
   "id": "4c5300b0",
   "metadata": {
    "id": "4c5300b0"
   },
   "source": [
    "# Дз 3. Тестирование статистических гипотез"
   ]
  },
  {
   "cell_type": "markdown",
   "id": "e41ea851",
   "metadata": {
    "id": "e41ea851"
   },
   "source": [
    "<div class=\"alert alert-info\" role=\"alert\">\n",
    "\n",
    "Важно!\n",
    "\n",
    "* Плагиат карается обнулением работы\n",
    "* При использовании чужого кода из открытых источников необходимо указать ссылку на источник\n",
    "* В каждой задаче необходимо обосновывать выбор статистического критерия, формулировать нулевую и альтернативную гипотезу и делать интерпретацию получившихся результатов, а также содержательный вывод.\n",
    "* Весь текст оформляется строго в ячейках типа markdown"
   ]
  },
  {
   "cell_type": "code",
   "execution_count": 1,
   "id": "6c887637",
   "metadata": {},
   "outputs": [],
   "source": [
    "import pandas as pd\n",
    "import math as m\n",
    "import scipy as sp\n",
    "import numpy as np\n",
    "import matplotlib.pyplot as plt\n",
    "import seaborn as sns\n",
    "import statsmodels.api as sm \n",
    "from scipy.stats import mannwhitneyu\n",
    "import warnings\n",
    "warnings.filterwarnings('ignore')"
   ]
  },
  {
   "cell_type": "markdown",
   "id": "e463f5b5",
   "metadata": {
    "id": "e463f5b5"
   },
   "source": [
    "## Задача 1. Осьминог Пауль (2 балла)\n",
    "\n",
    "\n",
    "В период с 2008 по 2010 год в Германии жил Осьминог Пауль, который был известен тем, что мог предсказывать результаты матчей с участием сборной Германии.     \n",
    "   \n",
    "В таблице ниже вы можете видеть результаты его предсказаний: \n"
   ]
  },
  {
   "cell_type": "markdown",
   "id": "63504b80",
   "metadata": {
    "id": "63504b80"
   },
   "source": [
    "<a href=\"https://ibb.co/VWnc5yG\"><img src=\"https://i.ibb.co/QFS3tBV/image.jpg\" alt=\"image\" border=\"0\"></a>"
   ]
  },
  {
   "cell_type": "markdown",
   "id": "346f6376",
   "metadata": {
    "id": "346f6376"
   },
   "source": [
    "Если считать, что случайным образом мы угадывали ли бы 50% матчей, то можно ли утверждать, что осьминог Пауль был талантливым экстрасенсом со способностями к предсказаниям?"
   ]
  },
  {
   "cell_type": "code",
   "execution_count": 2,
   "id": "9072470f",
   "metadata": {
    "id": "9072470f"
   },
   "outputs": [],
   "source": [
    "### ╰( ͡° ͜ʖ ͡° )つ──☆ сотворите статистическую магию"
   ]
  },
  {
   "cell_type": "markdown",
   "id": "654115ec",
   "metadata": {},
   "source": [
    "## Предисловие : https://ru.wikipedia.org/wiki/Пауль_(осьминог)\n",
    "Изходя из приведенной таблицы осминог угадал 11/13, а наша вероятность в 50% эквивалентна подбрасыванию монетки.\n",
    "Исходный же вопрос _\"можно ли утверждать, что осьминог Пауль был талантливым экстрасенсом со способностями к предсказаниям?\"_\n",
    "можно поставить так: Проверим гипотизу _**H0**_ о том, выбирает ли Пауль победителя случайно или нет? \n",
    "## Теория(все было на лекциях)\n",
    "Мы знаем, что вероятность гипотезы можно проверить по формуле Бернулли:\n",
    "\n",
    "Если вероятность \\(p\\) наступления события \\(A\\) в\n",
    "каждом испытании постоянна, то вероятность \\(P_{k,n}\\) того, что событие\n",
    "\\(A\\) наступит ровно \\(k\\) раз в \\(n\\) независимых испытаниях, равна:\n",
    "\\begin{equation}\n",
    "(P_{k,n}=C_n^k\\cdot p^k \\cdot q^{n-k}), где (q = 1 - p).\n",
    "\\end{equation}"
   ]
  },
  {
   "cell_type": "code",
   "execution_count": 3,
   "id": "ce1fe6a8",
   "metadata": {},
   "outputs": [
    {
     "name": "stdout",
     "output_type": "stream",
     "text": [
      "p по Бернулли:  0.01904296970413308\n"
     ]
    }
   ],
   "source": [
    "# кол-во подбрасываний\n",
    "n = 13\n",
    "# вероятность угадать\n",
    "prob = 0.5\n",
    "# правильных ответов у Пауля\n",
    "ans = 11\n",
    "# Разбили формулу на 2 части\n",
    "C = m.factorial(n)/(m.factorial(ans)-m.factorial(n-ans))\n",
    "Ber = C * prob**ans * (1-prob)**(n-ans) \n",
    "print('p по Бернулли: ', Ber) "
   ]
  },
  {
   "cell_type": "markdown",
   "id": "5ea72b23",
   "metadata": {},
   "source": [
    "### Так как вероятность Н0 очень мала, то Н0 не подтверждается что результат не случаен"
   ]
  },
  {
   "cell_type": "markdown",
   "id": "6cf586ef",
   "metadata": {},
   "source": [
    "Путь 2: Для проверки статистической значимости гипотезы H0 посчитаем p-value. Выберем уровень значимости в p=0.025, т.е. если pvalue > 0.025, то это значит, что мы не можем отвегнуть нулевую гипотезу, так как в таком случае у нас будет более чем 2.5% уверенность, что рехультат был случаен\n",
    "#### 1. [13/2] = 7(угадать в половине)\n",
    "Для оценки p-value посчитаем хи2: \n",
    "    \\begin{equation} хи2=\\frac{(11-7)^2}{7}+\\frac{(2-7)^2}{7}=5.85 \\end{equation}\n",
    "\n",
    "По таблице когда хи2 > 5, то pvalue < 0.025. Значит получившееся pvalue меньше чем наш уровень значимости и мы можем отбросить нулевую гипотезу => резултат не случаен"
   ]
  },
  {
   "cell_type": "markdown",
   "id": "de312a8f",
   "metadata": {
    "id": "de312a8f"
   },
   "source": [
    "## Задача 2.  Корм и котики (2 балла)\n",
    "\n",
    "    \n",
    "Новый корм для котиков рекламируется с помощью рекламного баннера. Отдел маркетинга разработал для рекламы новый баннер. Они считают, что он более красивый. Перед фирмой возникла необходимость проверить какой из двух баннеров лучше.\n",
    "\n",
    "Для этого была создана специальная веб-форма. В этой веб-форме людям по очереди демонстрировали оба баннера и просили поставить лайк, если баннер нравится человеку. Если человеку нравятся оба баннера, он может поставить два лайка. Если ему не нравится ни один баннер, он может не ставить лайки вовсе. Собранные в конечном итоге данные находятся в табличке.\n",
    "\n",
    "Можно ли утверждать, что оба баннера одинаково хороши? Сформулируйте статистическую гипотезу для проверки того, что оба баннера выбирают одинаково часто. Проверьте ее и сделайте выводы.\n"
   ]
  },
  {
   "cell_type": "code",
   "execution_count": 4,
   "id": "167378f2",
   "metadata": {
    "id": "167378f2"
   },
   "outputs": [
    {
     "data": {
      "text/html": [
       "<div>\n",
       "<style scoped>\n",
       "    .dataframe tbody tr th:only-of-type {\n",
       "        vertical-align: middle;\n",
       "    }\n",
       "\n",
       "    .dataframe tbody tr th {\n",
       "        vertical-align: top;\n",
       "    }\n",
       "\n",
       "    .dataframe thead th {\n",
       "        text-align: right;\n",
       "    }\n",
       "</style>\n",
       "<table border=\"1\" class=\"dataframe\">\n",
       "  <thead>\n",
       "    <tr style=\"text-align: right;\">\n",
       "      <th></th>\n",
       "      <th>banner_1</th>\n",
       "      <th>banner_2</th>\n",
       "    </tr>\n",
       "  </thead>\n",
       "  <tbody>\n",
       "    <tr>\n",
       "      <th>0</th>\n",
       "      <td>0</td>\n",
       "      <td>0</td>\n",
       "    </tr>\n",
       "    <tr>\n",
       "      <th>1</th>\n",
       "      <td>1</td>\n",
       "      <td>1</td>\n",
       "    </tr>\n",
       "    <tr>\n",
       "      <th>2</th>\n",
       "      <td>0</td>\n",
       "      <td>0</td>\n",
       "    </tr>\n",
       "    <tr>\n",
       "      <th>3</th>\n",
       "      <td>0</td>\n",
       "      <td>0</td>\n",
       "    </tr>\n",
       "    <tr>\n",
       "      <th>4</th>\n",
       "      <td>0</td>\n",
       "      <td>0</td>\n",
       "    </tr>\n",
       "  </tbody>\n",
       "</table>\n",
       "</div>"
      ],
      "text/plain": [
       "   banner_1  banner_2\n",
       "0         0         0\n",
       "1         1         1\n",
       "2         0         0\n",
       "3         0         0\n",
       "4         0         0"
      ]
     },
     "execution_count": 4,
     "metadata": {},
     "output_type": "execute_result"
    }
   ],
   "source": [
    "### ╰( ͡° ͜ʖ ͡° )つ──☆ сотворите статистическую магию\n",
    "# нормально неотображается df, поэтому нужен sep\n",
    "df = pd.read_csv('banner_click_stat.csv', header = None, sep = '\\t')\n",
    "df.columns = ['banner_1', 'banner_2']\n",
    "df.head()"
   ]
  },
  {
   "cell_type": "code",
   "execution_count": 5,
   "id": "ed06bede",
   "metadata": {},
   "outputs": [
    {
     "name": "stdout",
     "output_type": "stream",
     "text": [
      "<class 'pandas.core.frame.DataFrame'>\n",
      "RangeIndex: 1000 entries, 0 to 999\n",
      "Data columns (total 2 columns):\n",
      " #   Column    Non-Null Count  Dtype\n",
      "---  ------    --------------  -----\n",
      " 0   banner_1  1000 non-null   int64\n",
      " 1   banner_2  1000 non-null   int64\n",
      "dtypes: int64(2)\n",
      "memory usage: 15.8 KB\n"
     ]
    },
    {
     "data": {
      "text/plain": [
       "(None,\n",
       "           banner_1     banner_2\n",
       " count  1000.000000  1000.000000\n",
       " mean      0.037000     0.053000\n",
       " std       0.188856     0.224146\n",
       " min       0.000000     0.000000\n",
       " 25%       0.000000     0.000000\n",
       " 50%       0.000000     0.000000\n",
       " 75%       0.000000     0.000000\n",
       " max       1.000000     1.000000,\n",
       " banner_1    0\n",
       " banner_2    0\n",
       " dtype: int64,\n",
       " banner_1  banner_2\n",
       " 0         0           940\n",
       " 1         1            30\n",
       " 0         1            23\n",
       " 1         0             7\n",
       " dtype: int64)"
      ]
     },
     "execution_count": 5,
     "metadata": {},
     "output_type": "execute_result"
    }
   ],
   "source": [
    "# Вся информация о df\n",
    "df.info(), df.describe(), df.isna().sum(), df.value_counts()"
   ]
  },
  {
   "cell_type": "markdown",
   "id": "10626b59",
   "metadata": {},
   "source": [
    "## Интервальные оценки долей \n",
    "https://fr.coursera.org/lecture/stats-for-data-analysis/dovieritiel-nyie-intiervaly-dlia-dvukh-doliei-1RHyE\n"
   ]
  },
  {
   "cell_type": "code",
   "execution_count": 6,
   "id": "f47b4de2",
   "metadata": {},
   "outputs": [
    {
     "name": "stdout",
     "output_type": "stream",
     "text": [
      "95% доверительный интервал для 1: (0.026961180875554734, 0.05058239748206931)\n",
      "95% доверительный интервал для 2: (0.04074650524859452, 0.06867461683749176)\n"
     ]
    }
   ],
   "source": [
    "from statsmodels.stats.proportion import proportion_confint\n",
    "banner_1 = proportion_confint(sum(df.banner_1), \n",
    "                                            df.shape[0],\n",
    "                                            method = 'wilson')\n",
    "banner_2 = proportion_confint(sum(df.banner_2), \n",
    "                                            df.shape[0],\n",
    "                                            method = 'wilson')\n",
    "\n",
    "print(f'95% доверительный интервал для 1: {banner_1}')\n",
    "print(f'95% доверительный интервал для 2: {banner_2}')"
   ]
  },
  {
   "cell_type": "markdown",
   "id": "129895c9",
   "metadata": {},
   "source": [
    "Интервалы пересекаются, поэтому однозначный вывод сделать нельзя. Можно сравнить их через доверительный интервал для разности долей. 2 случая"
   ]
  },
  {
   "cell_type": "code",
   "execution_count": 7,
   "id": "ccd39de6",
   "metadata": {},
   "outputs": [],
   "source": [
    "# Независимая выборка\n",
    "def foo(a, b, alpha=0.05):\n",
    "    z = sp.stats.norm.ppf(1 - alpha / 2.)\n",
    "    p1 = float(sum(a)) / len(a)\n",
    "    p2 = float(sum(b)) / len(b)\n",
    "\n",
    "    left = (p1 - p2) - z * np.sqrt(p1 * (1 - p1) / len(a) + p2 * (1 - p2) / len(b))\n",
    "    right = (p1 - p2) + z * np.sqrt(p1 * (1 - p1) / len(a) + p2 * (1 - p2) / len(b))\n",
    "\n",
    "    return (left, right)"
   ]
  },
  {
   "cell_type": "code",
   "execution_count": 8,
   "id": "6061d3ca",
   "metadata": {},
   "outputs": [
    {
     "name": "stdout",
     "output_type": "stream",
     "text": [
      "confidence interval: [-0.034157, 0.002157]\n"
     ]
    }
   ],
   "source": [
    "print (\"confidence interval: [%f, %f]\" % foo(df.banner_1, df.banner_2))"
   ]
  },
  {
   "cell_type": "code",
   "execution_count": 9,
   "id": "335b81c7",
   "metadata": {},
   "outputs": [
    {
     "name": "stdout",
     "output_type": "stream",
     "text": [
      "p-value: 0.08437869601106662\n"
     ]
    }
   ],
   "source": [
    "from scipy import stats\n",
    "# stats.zscore(df.banner_1, df.banner_2)\n",
    "# print(f'z stat: {stats.zscore(df.banner_1, df.banner_2)}') \n",
    "# sp.stats.t.sf(df.banner_1, df.banner_2)\n",
    "n1 = n2 = 1000\n",
    "p1 = float(sum(df.banner_1)) / n1\n",
    "p2 = float(sum(df.banner_2)) / n2 \n",
    "P = float(p1*n1 + p2*n2) / (n1 + n2)\n",
    "z_stat = (p1 - p2) / np.sqrt(P * (1 - P) * (1. / n1 + 1. / n2))\n",
    "\n",
    "print(f'p-value: {2 * (1 - sp.stats.norm.cdf(np.abs(z_stat)))}')"
   ]
  },
  {
   "cell_type": "markdown",
   "id": "c7c176c5",
   "metadata": {},
   "source": [
    "Так как p_value > 0.05(уровень значимости) -> нулевую гипотизу о том, что разницы нет нельзя отвергнуть"
   ]
  },
  {
   "cell_type": "code",
   "execution_count": 10,
   "id": "17976b80",
   "metadata": {},
   "outputs": [],
   "source": [
    "# Зависимая выборка(оба банера сравнивали одни и те же пользователи) то есть только строки где значения 0 1, 1 0\n",
    "# таких 7 23(инфа выше). Проверяем гипотезу предпочтения в сторонону баннера_2\n",
    "def boo(a, b, alpha=0.05):\n",
    "    z = sp.stats.norm.ppf(1 - alpha / 2.)\n",
    "    sample = list(zip(df.banner_1, df.banner_2))\n",
    "    n = 1000\n",
    "    p1 = 7\n",
    "    p2 = 23\n",
    "    left = float(p1  - p2) / n  - z * np.sqrt(float((p1  + p2)) / n**2 - float((p1  - p2)**2) / n**3)\n",
    "    right = float(p1  - p2) / n  + z * np.sqrt(float((p1  + p2)) / n**2 - float((p1  - p2)**2) / n**3)\n",
    "    return (left, right)"
   ]
  },
  {
   "cell_type": "code",
   "execution_count": 11,
   "id": "b08d3d1d",
   "metadata": {},
   "outputs": [
    {
     "name": "stdout",
     "output_type": "stream",
     "text": [
      "confidence interval: [-0.026689, -0.005311]\n"
     ]
    }
   ],
   "source": [
    "print (\"confidence interval: [%f, %f]\" % boo(df.banner_1, df.banner_2))"
   ]
  },
  {
   "cell_type": "code",
   "execution_count": 12,
   "id": "5a8e2ac4",
   "metadata": {},
   "outputs": [
    {
     "name": "stdout",
     "output_type": "stream",
     "text": [
      "p-value: 0.0033491428465450834\n"
     ]
    }
   ],
   "source": [
    "sample = list(zip(df.banner_1, df.banner_2))\n",
    "n = 1000\n",
    "p1 = 7\n",
    "p2 = 23\n",
    "z_stat_1 = float(p1 - p2) / np.sqrt(p1 + p2 - float((p1 - p2)**2) / n )\n",
    "print(f'p-value: {2 * (1 - sp.stats.norm.cdf(np.abs(z_stat_1)))}')"
   ]
  },
  {
   "cell_type": "markdown",
   "id": "3ba6c646",
   "metadata": {},
   "source": [
    "p_value < 0.05 -> гипотеза принимается -> banner_2 более предпочтительный"
   ]
  },
  {
   "cell_type": "markdown",
   "id": "ceefe195",
   "metadata": {
    "id": "ceefe195"
   },
   "source": [
    "## Задача 3. Немного АВ-тестов (3 балла)\n",
    "## Игра Cookie Cat"
   ]
  },
  {
   "cell_type": "markdown",
   "id": "7a6e5960",
   "metadata": {
    "id": "7a6e5960"
   },
   "source": [
    "В этом задании мы поработаем с данными Cookie Cats - популярной игры-головоломки, которую разработала компания Tactile Entertainment. В этой игре игрок должен соединять одинаковые элементы в ряд, чтобы очистить поле и выиграть уровень. "
   ]
  },
  {
   "cell_type": "markdown",
   "id": "f010877f",
   "metadata": {
    "id": "f010877f"
   },
   "source": [
    "<p style=\"align: center;\"><img align=center src=\"https://i.ytimg.com/vi/iPxZIp0cbJE/maxresdefault.jpg\"  width=500></p>\n",
    " \n",
    " \n",
    "<p style=\"align: center;\"><img align=center src=\"https://s3.amazonaws.com/assets.datacamp.com/production/project_184/img/cc_gates.png\"  width=500></p>\n"
   ]
  },
  {
   "cell_type": "markdown",
   "id": "45a869f8",
   "metadata": {
    "id": "45a869f8"
   },
   "source": [
    "По мере прохождения уровней перед игроками появляются ворота, открытия которых нужно ждать какое-то время или пропускать их, совершая покупки в приложении. С точки зрения создателей эти ворота повышают интерес к игре и стимулируют к вложению денег в игру.\n"
   ]
  },
  {
   "cell_type": "markdown",
   "id": "1992bbd9",
   "metadata": {
    "id": "1992bbd9"
   },
   "source": [
    "Но у создателей появляется важный вопрос: **где лучше всего ставить ворота?**\n",
    "Первоначально первые ворота были размещены на уровне 30. Однако есть гипотеза, что лучше переместить их на уровень 40. В этом задании вам предлагается проанализировать результаты AB-теста, в котором создатели переместили первые ворота в Cookie Cats с 30 уровня на уровень 40. "
   ]
  },
  {
   "cell_type": "markdown",
   "id": "0178c412",
   "metadata": {
    "id": "0178c412"
   },
   "source": [
    "**Данные получены от 90 189 игроков, которые установили игру во время проведения AB-теста. Переменные:**\n",
    "\n",
    "* `userid` - уникальный номер, идентифицирующий каждого игрока.\n",
    "\n",
    "* `version` - был ли игрок помещен в контрольную группу (gate_30 - ворота на уровне 30) или в тестовую группу (gate_40 - ворота на уровне 40).\n",
    "\n",
    "* `sum_gamerounds` - количество игровых раундов, сыгранных игроком в течение первой недели после установки\n",
    "* `retention_1` - вернулся ли игрок в игру через 1 день после установки\n",
    "* `retention_7` - вернулся ли игрок в игру через 7 дней после установки\n",
    "\n",
    "Когда игрок устанавливал игру, ему случайным образом назначали `gate_30` или `gate_40`."
   ]
  },
  {
   "cell_type": "code",
   "execution_count": 13,
   "id": "5d32953b",
   "metadata": {
    "id": "5d32953b",
    "outputId": "e19bff24-d56e-419f-9197-a6169b9e1cf4"
   },
   "outputs": [
    {
     "data": {
      "text/html": [
       "<div>\n",
       "<style scoped>\n",
       "    .dataframe tbody tr th:only-of-type {\n",
       "        vertical-align: middle;\n",
       "    }\n",
       "\n",
       "    .dataframe tbody tr th {\n",
       "        vertical-align: top;\n",
       "    }\n",
       "\n",
       "    .dataframe thead th {\n",
       "        text-align: right;\n",
       "    }\n",
       "</style>\n",
       "<table border=\"1\" class=\"dataframe\">\n",
       "  <thead>\n",
       "    <tr style=\"text-align: right;\">\n",
       "      <th></th>\n",
       "      <th>userid</th>\n",
       "      <th>version</th>\n",
       "      <th>sum_gamerounds</th>\n",
       "      <th>retention_1</th>\n",
       "      <th>retention_7</th>\n",
       "    </tr>\n",
       "  </thead>\n",
       "  <tbody>\n",
       "    <tr>\n",
       "      <th>0</th>\n",
       "      <td>116</td>\n",
       "      <td>gate_30</td>\n",
       "      <td>3</td>\n",
       "      <td>False</td>\n",
       "      <td>False</td>\n",
       "    </tr>\n",
       "    <tr>\n",
       "      <th>1</th>\n",
       "      <td>337</td>\n",
       "      <td>gate_30</td>\n",
       "      <td>38</td>\n",
       "      <td>True</td>\n",
       "      <td>False</td>\n",
       "    </tr>\n",
       "    <tr>\n",
       "      <th>2</th>\n",
       "      <td>377</td>\n",
       "      <td>gate_40</td>\n",
       "      <td>165</td>\n",
       "      <td>True</td>\n",
       "      <td>False</td>\n",
       "    </tr>\n",
       "    <tr>\n",
       "      <th>3</th>\n",
       "      <td>483</td>\n",
       "      <td>gate_40</td>\n",
       "      <td>1</td>\n",
       "      <td>False</td>\n",
       "      <td>False</td>\n",
       "    </tr>\n",
       "    <tr>\n",
       "      <th>4</th>\n",
       "      <td>488</td>\n",
       "      <td>gate_40</td>\n",
       "      <td>179</td>\n",
       "      <td>True</td>\n",
       "      <td>True</td>\n",
       "    </tr>\n",
       "    <tr>\n",
       "      <th>5</th>\n",
       "      <td>540</td>\n",
       "      <td>gate_40</td>\n",
       "      <td>187</td>\n",
       "      <td>True</td>\n",
       "      <td>True</td>\n",
       "    </tr>\n",
       "    <tr>\n",
       "      <th>6</th>\n",
       "      <td>1066</td>\n",
       "      <td>gate_30</td>\n",
       "      <td>0</td>\n",
       "      <td>False</td>\n",
       "      <td>False</td>\n",
       "    </tr>\n",
       "    <tr>\n",
       "      <th>7</th>\n",
       "      <td>1444</td>\n",
       "      <td>gate_40</td>\n",
       "      <td>2</td>\n",
       "      <td>False</td>\n",
       "      <td>False</td>\n",
       "    </tr>\n",
       "    <tr>\n",
       "      <th>8</th>\n",
       "      <td>1574</td>\n",
       "      <td>gate_40</td>\n",
       "      <td>108</td>\n",
       "      <td>True</td>\n",
       "      <td>True</td>\n",
       "    </tr>\n",
       "    <tr>\n",
       "      <th>9</th>\n",
       "      <td>1587</td>\n",
       "      <td>gate_40</td>\n",
       "      <td>153</td>\n",
       "      <td>True</td>\n",
       "      <td>False</td>\n",
       "    </tr>\n",
       "  </tbody>\n",
       "</table>\n",
       "</div>"
      ],
      "text/plain": [
       "   userid  version  sum_gamerounds  retention_1  retention_7\n",
       "0     116  gate_30               3        False        False\n",
       "1     337  gate_30              38         True        False\n",
       "2     377  gate_40             165         True        False\n",
       "3     483  gate_40               1        False        False\n",
       "4     488  gate_40             179         True         True\n",
       "5     540  gate_40             187         True         True\n",
       "6    1066  gate_30               0        False        False\n",
       "7    1444  gate_40               2        False        False\n",
       "8    1574  gate_40             108         True         True\n",
       "9    1587  gate_40             153         True        False"
      ]
     },
     "execution_count": 13,
     "metadata": {},
     "output_type": "execute_result"
    }
   ],
   "source": [
    "import pandas as pd\n",
    "df = pd.read_csv('cookie_cats.csv')\n",
    "df.head(10)"
   ]
  },
  {
   "cell_type": "code",
   "execution_count": 14,
   "id": "563bbcbb",
   "metadata": {
    "id": "563bbcbb",
    "outputId": "4467f65d-2988-455a-ebf0-ec78e3269d38"
   },
   "outputs": [
    {
     "name": "stdout",
     "output_type": "stream",
     "text": [
      "<class 'pandas.core.frame.DataFrame'>\n",
      "RangeIndex: 90189 entries, 0 to 90188\n",
      "Data columns (total 5 columns):\n",
      " #   Column          Non-Null Count  Dtype \n",
      "---  ------          --------------  ----- \n",
      " 0   userid          90189 non-null  int64 \n",
      " 1   version         90189 non-null  object\n",
      " 2   sum_gamerounds  90189 non-null  int64 \n",
      " 3   retention_1     90189 non-null  bool  \n",
      " 4   retention_7     90189 non-null  bool  \n",
      "dtypes: bool(2), int64(2), object(1)\n",
      "memory usage: 2.2+ MB\n"
     ]
    },
    {
     "data": {
      "text/plain": [
       "(None,\n",
       "              userid  sum_gamerounds\n",
       " count  9.018900e+04    90189.000000\n",
       " mean   4.998412e+06       51.872457\n",
       " std    2.883286e+06      195.050858\n",
       " min    1.160000e+02        0.000000\n",
       " 25%    2.512230e+06        5.000000\n",
       " 50%    4.995815e+06       16.000000\n",
       " 75%    7.496452e+06       51.000000\n",
       " max    9.999861e+06    49854.000000,\n",
       " userid            0\n",
       " version           0\n",
       " sum_gamerounds    0\n",
       " retention_1       0\n",
       " retention_7       0\n",
       " dtype: int64,\n",
       " userid   version  sum_gamerounds  retention_1  retention_7\n",
       " 116      gate_30  3               False        False          1\n",
       " 6632278  gate_40  4               False        False          1\n",
       " 6658202  gate_40  9               False        False          1\n",
       " 6658194  gate_40  1               False        False          1\n",
       " 6658134  gate_40  112             True         False          1\n",
       "                                                              ..\n",
       " 3347358  gate_40  0               False        False          1\n",
       " 3347337  gate_40  3               False        False          1\n",
       " 3346992  gate_40  185             True         False          1\n",
       " 3346979  gate_30  38              True         True           1\n",
       " 9999861  gate_40  16              False        False          1\n",
       " Length: 90189, dtype: int64)"
      ]
     },
     "execution_count": 14,
     "metadata": {},
     "output_type": "execute_result"
    }
   ],
   "source": [
    "df.info(), df.describe(), df.isna().sum(), df.value_counts()"
   ]
  },
  {
   "cell_type": "code",
   "execution_count": 15,
   "id": "6537f6b4",
   "metadata": {},
   "outputs": [
    {
     "data": {
      "text/html": [
       "<div>\n",
       "<style scoped>\n",
       "    .dataframe tbody tr th:only-of-type {\n",
       "        vertical-align: middle;\n",
       "    }\n",
       "\n",
       "    .dataframe tbody tr th {\n",
       "        vertical-align: top;\n",
       "    }\n",
       "\n",
       "    .dataframe thead th {\n",
       "        text-align: right;\n",
       "    }\n",
       "</style>\n",
       "<table border=\"1\" class=\"dataframe\">\n",
       "  <thead>\n",
       "    <tr style=\"text-align: right;\">\n",
       "      <th></th>\n",
       "      <th>userid</th>\n",
       "      <th>sum_gamerounds</th>\n",
       "      <th>retention_1</th>\n",
       "      <th>retention_7</th>\n",
       "    </tr>\n",
       "    <tr>\n",
       "      <th>version</th>\n",
       "      <th></th>\n",
       "      <th></th>\n",
       "      <th></th>\n",
       "      <th></th>\n",
       "    </tr>\n",
       "  </thead>\n",
       "  <tbody>\n",
       "    <tr>\n",
       "      <th>gate_30</th>\n",
       "      <td>44700</td>\n",
       "      <td>44700</td>\n",
       "      <td>44700</td>\n",
       "      <td>44700</td>\n",
       "    </tr>\n",
       "    <tr>\n",
       "      <th>gate_40</th>\n",
       "      <td>45489</td>\n",
       "      <td>45489</td>\n",
       "      <td>45489</td>\n",
       "      <td>45489</td>\n",
       "    </tr>\n",
       "  </tbody>\n",
       "</table>\n",
       "</div>"
      ],
      "text/plain": [
       "         userid  sum_gamerounds  retention_1  retention_7\n",
       "version                                                  \n",
       "gate_30   44700           44700        44700        44700\n",
       "gate_40   45489           45489        45489        45489"
      ]
     },
     "execution_count": 15,
     "metadata": {},
     "output_type": "execute_result"
    }
   ],
   "source": [
    "df.groupby('version').count()"
   ]
  },
  {
   "cell_type": "code",
   "execution_count": 16,
   "id": "00685bd8",
   "metadata": {},
   "outputs": [
    {
     "data": {
      "text/html": [
       "<div>\n",
       "<style scoped>\n",
       "    .dataframe tbody tr th:only-of-type {\n",
       "        vertical-align: middle;\n",
       "    }\n",
       "\n",
       "    .dataframe tbody tr th {\n",
       "        vertical-align: top;\n",
       "    }\n",
       "\n",
       "    .dataframe thead th {\n",
       "        text-align: right;\n",
       "    }\n",
       "</style>\n",
       "<table border=\"1\" class=\"dataframe\">\n",
       "  <thead>\n",
       "    <tr style=\"text-align: right;\">\n",
       "      <th></th>\n",
       "      <th>userid</th>\n",
       "      <th>sum_gamerounds</th>\n",
       "      <th>retention_1</th>\n",
       "      <th>retention_7</th>\n",
       "    </tr>\n",
       "    <tr>\n",
       "      <th>version</th>\n",
       "      <th></th>\n",
       "      <th></th>\n",
       "      <th></th>\n",
       "      <th></th>\n",
       "    </tr>\n",
       "  </thead>\n",
       "  <tbody>\n",
       "    <tr>\n",
       "      <th>gate_30</th>\n",
       "      <td>4.987564e+06</td>\n",
       "      <td>52.456264</td>\n",
       "      <td>0.448188</td>\n",
       "      <td>0.190201</td>\n",
       "    </tr>\n",
       "    <tr>\n",
       "      <th>gate_40</th>\n",
       "      <td>5.009073e+06</td>\n",
       "      <td>51.298776</td>\n",
       "      <td>0.442283</td>\n",
       "      <td>0.182000</td>\n",
       "    </tr>\n",
       "  </tbody>\n",
       "</table>\n",
       "</div>"
      ],
      "text/plain": [
       "               userid  sum_gamerounds  retention_1  retention_7\n",
       "version                                                        \n",
       "gate_30  4.987564e+06       52.456264     0.448188     0.190201\n",
       "gate_40  5.009073e+06       51.298776     0.442283     0.182000"
      ]
     },
     "execution_count": 16,
     "metadata": {},
     "output_type": "execute_result"
    }
   ],
   "source": [
    "df.groupby('version').mean()"
   ]
  },
  {
   "cell_type": "markdown",
   "id": "2bd5758d",
   "metadata": {
    "id": "2bd5758d"
   },
   "source": [
    "### Вопрос 1: есть ли зависимость между возвращаемостью игроков и расположением ворот?"
   ]
  },
  {
   "cell_type": "markdown",
   "id": "be192679",
   "metadata": {},
   "source": [
    "ЗАБЕГАЯ ВПЕРЕД РАЗНИЦЫ ОСОБО НЕТ"
   ]
  },
  {
   "cell_type": "markdown",
   "id": "cb80895e",
   "metadata": {},
   "source": [
    "В наших даных переменные в Retention_1 и Retention_7 представляют собой долю от общих значений (False или True). Следовательно, z-тест подходит для применения "
   ]
  },
  {
   "cell_type": "markdown",
   "id": "c5412061",
   "metadata": {
    "id": "c5412061"
   },
   "source": [
    "#### 1.1 Проверьте гипотезу для возвращения через день"
   ]
  },
  {
   "cell_type": "code",
   "execution_count": 17,
   "id": "d0b0ea1d",
   "metadata": {},
   "outputs": [
    {
     "data": {
      "text/html": [
       "<div>\n",
       "<style scoped>\n",
       "    .dataframe tbody tr th:only-of-type {\n",
       "        vertical-align: middle;\n",
       "    }\n",
       "\n",
       "    .dataframe tbody tr th {\n",
       "        vertical-align: top;\n",
       "    }\n",
       "\n",
       "    .dataframe thead tr th {\n",
       "        text-align: left;\n",
       "    }\n",
       "\n",
       "    .dataframe thead tr:last-of-type th {\n",
       "        text-align: right;\n",
       "    }\n",
       "</style>\n",
       "<table border=\"1\" class=\"dataframe\">\n",
       "  <thead>\n",
       "    <tr>\n",
       "      <th></th>\n",
       "      <th colspan=\"4\" halign=\"left\">retention_1</th>\n",
       "    </tr>\n",
       "    <tr>\n",
       "      <th></th>\n",
       "      <th>count</th>\n",
       "      <th>unique</th>\n",
       "      <th>top</th>\n",
       "      <th>freq</th>\n",
       "    </tr>\n",
       "    <tr>\n",
       "      <th>version</th>\n",
       "      <th></th>\n",
       "      <th></th>\n",
       "      <th></th>\n",
       "      <th></th>\n",
       "    </tr>\n",
       "  </thead>\n",
       "  <tbody>\n",
       "    <tr>\n",
       "      <th>gate_30</th>\n",
       "      <td>44700</td>\n",
       "      <td>2</td>\n",
       "      <td>False</td>\n",
       "      <td>24666</td>\n",
       "    </tr>\n",
       "    <tr>\n",
       "      <th>gate_40</th>\n",
       "      <td>45489</td>\n",
       "      <td>2</td>\n",
       "      <td>False</td>\n",
       "      <td>25370</td>\n",
       "    </tr>\n",
       "  </tbody>\n",
       "</table>\n",
       "</div>"
      ],
      "text/plain": [
       "        retention_1                     \n",
       "              count unique    top   freq\n",
       "version                                 \n",
       "gate_30       44700      2  False  24666\n",
       "gate_40       45489      2  False  25370"
      ]
     },
     "execution_count": 17,
     "metadata": {},
     "output_type": "execute_result"
    }
   ],
   "source": [
    "df[['version','retention_1']].groupby('version').describe()"
   ]
  },
  {
   "cell_type": "code",
   "execution_count": 18,
   "id": "9643c36c",
   "metadata": {},
   "outputs": [
    {
     "data": {
      "image/png": "[encoded data removed]",
      "text/plain": [
       "<Figure size 720x360 with 2 Axes>"
      ]
     },
     "metadata": {
      "needs_background": "light"
     },
     "output_type": "display_data"
    }
   ],
   "source": [
    "# Наглядное распределение\n",
    "sns.catplot(x=\"version\", y=\"sum_gamerounds\",\n",
    "            hue=\"retention_1\", col = 'retention_1',\n",
    "            data=df, kind=\"box\");"
   ]
  },
  {
   "cell_type": "code",
   "execution_count": 19,
   "id": "e7ee4751",
   "metadata": {
    "id": "e7ee4751"
   },
   "outputs": [
    {
     "data": {
      "text/plain": [
       "0.4452095044850259"
      ]
     },
     "execution_count": 19,
     "metadata": {},
     "output_type": "execute_result"
    }
   ],
   "source": [
    "### ╰( ͡° ͜ʖ ͡° )つ──☆ сотворите статистическую магию\n",
    "# https://docs.scipy.org/doc/scipy/reference/generated/scipy.stats.ttest_ind.html\n",
    "np.mean(df.retention_1)"
   ]
  },
  {
   "cell_type": "code",
   "execution_count": 20,
   "id": "5ef87c9e",
   "metadata": {},
   "outputs": [
    {
     "data": {
      "text/plain": [
       "(0.3755320253295962, 0.3683349939960655)"
      ]
     },
     "execution_count": 20,
     "metadata": {},
     "output_type": "execute_result"
    }
   ],
   "source": [
    "(1 - 24062/38532), (1 - 24724/39141)"
   ]
  },
  {
   "cell_type": "code",
   "execution_count": 21,
   "id": "ca28dc97",
   "metadata": {},
   "outputs": [
    {
     "name": "stdout",
     "output_type": "stream",
     "text": [
      "0.0744144371\n",
      "0.9879464593045466\n"
     ]
    }
   ],
   "source": [
    "ans_res1 = stats.ttest_ind(df[df.version=='gate_30'].retention_1,\n",
    "                     df[df.version=='gate_40'].retention_1,  equal_var=False)\n",
    "print('%.10f' % ans_res1.pvalue)\n",
    "\n",
    "z1, p_value = sm.stats.proportions_ztest([(1 - 24062/38532), (1 - 24724/39141)], [38532, 39141])\n",
    "print(p_value)"
   ]
  },
  {
   "cell_type": "code",
   "execution_count": 22,
   "id": "37dfee7c",
   "metadata": {},
   "outputs": [
    {
     "data": {
      "text/plain": [
       "Ttest_indResult(statistic=1.7840774867039824, pvalue=0.07441443713953834)"
      ]
     },
     "execution_count": 22,
     "metadata": {},
     "output_type": "execute_result"
    }
   ],
   "source": [
    "stats.ttest_ind(df[df.version=='gate_30'].retention_1,\n",
    "                     df[df.version=='gate_40'].retention_1,  equal_var=False)"
   ]
  },
  {
   "cell_type": "markdown",
   "id": "d4b89b1a",
   "metadata": {},
   "source": [
    "Вероятность двух групп по t-критерию, p-value = 0.07 > 0,05. То есть принимаем нулевую гипотезу, что различий между g30, g40 нет. С другой стороны p-vlaue из z-теста 0,98, что подтверждает результат, полученный из t-теста.\n",
    "Так же\n",
    "этот результат также указывает на то, что одного дня может быть недостаточно для изучения влияния на удержание игроков. Так то время играет огромную роль почти во всех экспериментах, и не все действия происходят мгновенно. Иногда требуется больше времени для более точных и однозначных выводов."
   ]
  },
  {
   "cell_type": "markdown",
   "id": "15ebcdad",
   "metadata": {
    "id": "15ebcdad"
   },
   "source": [
    "#### 2.2 Проверьте гипотезу для возвращения через семь дней"
   ]
  },
  {
   "cell_type": "code",
   "execution_count": 23,
   "id": "628acf58",
   "metadata": {},
   "outputs": [
    {
     "data": {
      "text/html": [
       "<div>\n",
       "<style scoped>\n",
       "    .dataframe tbody tr th:only-of-type {\n",
       "        vertical-align: middle;\n",
       "    }\n",
       "\n",
       "    .dataframe tbody tr th {\n",
       "        vertical-align: top;\n",
       "    }\n",
       "\n",
       "    .dataframe thead tr th {\n",
       "        text-align: left;\n",
       "    }\n",
       "\n",
       "    .dataframe thead tr:last-of-type th {\n",
       "        text-align: right;\n",
       "    }\n",
       "</style>\n",
       "<table border=\"1\" class=\"dataframe\">\n",
       "  <thead>\n",
       "    <tr>\n",
       "      <th></th>\n",
       "      <th colspan=\"4\" halign=\"left\">retention_7</th>\n",
       "    </tr>\n",
       "    <tr>\n",
       "      <th></th>\n",
       "      <th>count</th>\n",
       "      <th>unique</th>\n",
       "      <th>top</th>\n",
       "      <th>freq</th>\n",
       "    </tr>\n",
       "    <tr>\n",
       "      <th>version</th>\n",
       "      <th></th>\n",
       "      <th></th>\n",
       "      <th></th>\n",
       "      <th></th>\n",
       "    </tr>\n",
       "  </thead>\n",
       "  <tbody>\n",
       "    <tr>\n",
       "      <th>gate_30</th>\n",
       "      <td>44700</td>\n",
       "      <td>2</td>\n",
       "      <td>False</td>\n",
       "      <td>36198</td>\n",
       "    </tr>\n",
       "    <tr>\n",
       "      <th>gate_40</th>\n",
       "      <td>45489</td>\n",
       "      <td>2</td>\n",
       "      <td>False</td>\n",
       "      <td>37210</td>\n",
       "    </tr>\n",
       "  </tbody>\n",
       "</table>\n",
       "</div>"
      ],
      "text/plain": [
       "        retention_7                     \n",
       "              count unique    top   freq\n",
       "version                                 \n",
       "gate_30       44700      2  False  36198\n",
       "gate_40       45489      2  False  37210"
      ]
     },
     "execution_count": 23,
     "metadata": {},
     "output_type": "execute_result"
    }
   ],
   "source": [
    "df[['version','retention_7']].groupby('version').describe()"
   ]
  },
  {
   "cell_type": "code",
   "execution_count": 24,
   "id": "d5894869",
   "metadata": {},
   "outputs": [
    {
     "data": {
      "image/png": "[encoded data removed]",
      "text/plain": [
       "<Figure size 784.875x360 with 2 Axes>"
      ]
     },
     "metadata": {
      "needs_background": "light"
     },
     "output_type": "display_data"
    }
   ],
   "source": [
    "sns.catplot(x=\"version\", y=\"sum_gamerounds\",\n",
    "            hue=\"retention_1\", col = 'retention_7',\n",
    "            data=df, kind=\"box\");"
   ]
  },
  {
   "cell_type": "code",
   "execution_count": 25,
   "id": "1703de87",
   "metadata": {
    "id": "1703de87"
   },
   "outputs": [
    {
     "data": {
      "text/plain": [
       "0.1860648194347426"
      ]
     },
     "execution_count": 25,
     "metadata": {},
     "output_type": "execute_result"
    }
   ],
   "source": [
    "### ╰( ͡° ͜ʖ ͡° )つ──☆ сотворите статистическую магию\n",
    "np.mean(df.retention_7)"
   ]
  },
  {
   "cell_type": "code",
   "execution_count": 26,
   "id": "ea6adaaf",
   "metadata": {},
   "outputs": [
    {
     "data": {
      "text/plain": [
       "(0.10676840029066748, 0.09631843846605859)"
      ]
     },
     "execution_count": 26,
     "metadata": {},
     "output_type": "execute_result"
    }
   ],
   "source": [
    "(1 - 34418/38532), (1 - 35371/39141)"
   ]
  },
  {
   "cell_type": "code",
   "execution_count": 27,
   "id": "1f781b73",
   "metadata": {},
   "outputs": [
    {
     "name": "stdout",
     "output_type": "stream",
     "text": [
      "0.0015565302\n",
      "0.9786808438825753\n"
     ]
    }
   ],
   "source": [
    "# https://www.statsmodels.org/devel/generated/statsmodels.stats.proportion.proportions_ztest.html\n",
    "ans_res2 = stats.ttest_ind(df[df.version=='gate_30'].retention_7,\n",
    "                     df[df.version=='gate_40'].retention_7,  equal_var=False)\n",
    "print('%.10f' % ans_res2.pvalue)\n",
    "\n",
    "z1, p_value = sm.stats.proportions_ztest([(1 - 34418/38532), (1 - 35371/39141)], [38532, 39141])\n",
    "print(p_value)"
   ]
  },
  {
   "cell_type": "markdown",
   "id": "0d2cf92c",
   "metadata": {},
   "source": [
    "p-значение = 0,00000143 из t-критерия << 0,05. А здесь уже однозначные выводы: эксперимент стал очень наглядным после того, как ему дали больше времени. Другими словами, через 7 дней в группе g40 осталось больше игроков, чем в контрольной группе g30.\n",
    "\n",
    "Однако значение p, полученное из z-теста, составляет 0,978 >> 0,05. И это указывает на отсутствие существенной разницы между двумя группами. "
   ]
  },
  {
   "cell_type": "markdown",
   "id": "bbe524f9",
   "metadata": {},
   "source": [
    "После 7 дней игры кажется, что удержание игроков в группе ворот высокого уровня значительно улучшилось по сравнению с t-тестом, но никакой разницы в z-тесте не видно. Это подтверждает, что z-тест более надежен для выборок в которых присутсвуют пропорции. Но количество игровых раундов, сыгранных игроком в течение первой недели после установки, кажется, не имеет _существенной_ разницы между двумя группами.\n",
    "ТУТ ЕСТЬ 2 варианта: Дать больше времени эксперименту и подождать еще 1-2 недели, чтобы зафиксировать *retention_14, retention_21*, чтобы выделить существенные различия, либо стоит поработать с рекламной и инженерной командами, чтобы узнать другие возможные стратегии для улучшения."
   ]
  },
  {
   "cell_type": "markdown",
   "id": "498a3f1d",
   "metadata": {
    "id": "498a3f1d"
   },
   "source": [
    "### Вопрос 2: Отличается ли среднее количество раундов в группах gate_40 и gate_30?"
   ]
  },
  {
   "cell_type": "code",
   "execution_count": 28,
   "id": "a2504ebd",
   "metadata": {
    "id": "a2504ebd"
   },
   "outputs": [
    {
     "name": "stdout",
     "output_type": "stream",
     "text": [
      "51.29877552814966 52.45626398210291 2.2065781397397313 %\n"
     ]
    }
   ],
   "source": [
    "### ╰( ͡° ͜ʖ ͡° )つ──☆ сотворите статистическую магию\n",
    "g40 = df[df.version=='gate_40'].sum_gamerounds.mean()\n",
    "g30 = df[df.version=='gate_30'].sum_gamerounds.mean()\n",
    "print(g40, g30, ((g30-g40)/g30*100),\"%\")"
   ]
  },
  {
   "cell_type": "markdown",
   "id": "6fe007dd",
   "metadata": {},
   "source": [
    "Среднее количество на 0.16 или на 0.78% больше в gate_30 чем в gate_40"
   ]
  },
  {
   "cell_type": "markdown",
   "id": "e236e864",
   "metadata": {
    "id": "e236e864"
   },
   "source": [
    "### Вопрос 3: Отличается ли медианное количество раундов в группах gate_40 и gate_30?"
   ]
  },
  {
   "cell_type": "code",
   "execution_count": 29,
   "id": "7bf68d35",
   "metadata": {
    "id": "955578c4"
   },
   "outputs": [
    {
     "name": "stdout",
     "output_type": "stream",
     "text": [
      "16.0 17.0 -1.0\n"
     ]
    }
   ],
   "source": [
    "### ╰( ͡° ͜ʖ ͡° )つ──☆ сотворите статистическую магию\n",
    "g40 = df[df.version=='gate_40'].sum_gamerounds.median()\n",
    "g30 = df[df.version=='gate_30'].sum_gamerounds.median()\n",
    "print(g40, g30, g40-g30)"
   ]
  },
  {
   "cell_type": "markdown",
   "id": "bbb7f58f",
   "metadata": {},
   "source": [
    "по медиане совпадает"
   ]
  },
  {
   "cell_type": "code",
   "execution_count": 30,
   "id": "4d2ba691",
   "metadata": {},
   "outputs": [
    {
     "data": {
      "text/plain": [
       "Ttest_indResult(statistic=0.8910426211362967, pvalue=0.37290868247405207)"
      ]
     },
     "execution_count": 30,
     "metadata": {},
     "output_type": "execute_result"
    }
   ],
   "source": [
    "stats.ttest_ind(df[df.version == 'gate_30'].sum_gamerounds,\n",
    "                df[df.version == 'gate_40'].sum_gamerounds)"
   ]
  },
  {
   "cell_type": "markdown",
   "id": "832c2984",
   "metadata": {},
   "source": [
    "Полученное p = 0,37 >> 0,05 означает, что в целом нет существенной разницы в количестве игровых раундов, сыгранных игроком в течение первых 14 дней, как для группы g40, так и для группы g30."
   ]
  },
  {
   "cell_type": "markdown",
   "id": "03f0c2b4",
   "metadata": {
    "id": "03f0c2b4"
   },
   "source": [
    "## Задача 4: Время покемонов (3 балла)"
   ]
  },
  {
   "cell_type": "markdown",
   "id": "413f4923",
   "metadata": {
    "id": "413f4923"
   },
   "source": [
    "В данной задаче вам будет необходимо проанализировать различные характеристики покемонов и сравнить их между собой"
   ]
  },
  {
   "cell_type": "markdown",
   "id": "a253705e",
   "metadata": {
    "id": "a253705e"
   },
   "source": [
    "<p style=\"align: center;\"><img align=center src=\"https://proprikol.ru/wp-content/uploads/2020/11/kartinki-pokemonov-2.jpg\"  width=500></p>"
   ]
  },
  {
   "cell_type": "markdown",
   "id": "1810bfee",
   "metadata": {
    "id": "1810bfee"
   },
   "source": [
    "Покемоны - это маленькие существа, которые сражаются друг с другом на соревнованиях. Все покемоны имеют разные характеристики (сила атаки, защиты и т. д.) и относятся к одному или двум так называемым классам (вода, огонь и т. д.). Профессор Оук является изобретателем Pokedex, портативного устройства, которое хранит информацию обо всех существующих покемонах. Как его ведущий специалист по данным, Вы только что получили от него запрос с просьбой осуществить аналитику данных на всех устройствах Pokedex."
   ]
  },
  {
   "cell_type": "markdown",
   "id": "19045811",
   "metadata": {
    "id": "19045811"
   },
   "source": [
    "### Описание данных\n",
    "\n",
    "Профессор Оук скопировал все содержимое память одного устройства Pokedex, в результате чего получился набор данных, с которым Вы будете работать в этой задаче. В этом файле каждая строка представляет характеристики одного покемона:\n",
    "\n",
    "* pid: Numeric - ID покемона\n",
    "* HP: Numeric - Очки здоровья\n",
    "* Attack: Numeric - Сила обычной атаки\n",
    "* Defense: Numeric - Сила обычной защиты\n",
    "* Sp. Atk: Numeric - Сила специальной атаки\n",
    "* Sp. Def: Numeric - Сила специальной защиты\n",
    "* Speed: Numeric - Скорость движений\n",
    "* Legendary: Boolean - «True», если покемон редкий\n",
    "* Class 1: Categorical - Класс покемона\n",
    "* Class 2: Categorical - Класс покемона"
   ]
  },
  {
   "cell_type": "code",
   "execution_count": 31,
   "id": "d4b7451e",
   "metadata": {},
   "outputs": [
    {
     "data": {
      "text/html": [
       "<div>\n",
       "<style scoped>\n",
       "    .dataframe tbody tr th:only-of-type {\n",
       "        vertical-align: middle;\n",
       "    }\n",
       "\n",
       "    .dataframe tbody tr th {\n",
       "        vertical-align: top;\n",
       "    }\n",
       "\n",
       "    .dataframe thead th {\n",
       "        text-align: right;\n",
       "    }\n",
       "</style>\n",
       "<table border=\"1\" class=\"dataframe\">\n",
       "  <thead>\n",
       "    <tr style=\"text-align: right;\">\n",
       "      <th></th>\n",
       "      <th>pid</th>\n",
       "      <th>Name</th>\n",
       "      <th>Class 1</th>\n",
       "      <th>Class 2</th>\n",
       "      <th>HP</th>\n",
       "      <th>Attack</th>\n",
       "      <th>Defense</th>\n",
       "      <th>Sp. Atk</th>\n",
       "      <th>Sp. Def</th>\n",
       "      <th>Speed</th>\n",
       "      <th>Legendary</th>\n",
       "    </tr>\n",
       "  </thead>\n",
       "  <tbody>\n",
       "    <tr>\n",
       "      <th>0</th>\n",
       "      <td>1</td>\n",
       "      <td>Bulbasaur</td>\n",
       "      <td>Grass</td>\n",
       "      <td>Poison</td>\n",
       "      <td>45</td>\n",
       "      <td>49</td>\n",
       "      <td>49</td>\n",
       "      <td>65</td>\n",
       "      <td>65</td>\n",
       "      <td>45</td>\n",
       "      <td>False</td>\n",
       "    </tr>\n",
       "    <tr>\n",
       "      <th>1</th>\n",
       "      <td>2</td>\n",
       "      <td>Ivysaur</td>\n",
       "      <td>Grass</td>\n",
       "      <td>Poison</td>\n",
       "      <td>60</td>\n",
       "      <td>62</td>\n",
       "      <td>63</td>\n",
       "      <td>80</td>\n",
       "      <td>80</td>\n",
       "      <td>60</td>\n",
       "      <td>False</td>\n",
       "    </tr>\n",
       "    <tr>\n",
       "      <th>2</th>\n",
       "      <td>3</td>\n",
       "      <td>Venusaur</td>\n",
       "      <td>Grass</td>\n",
       "      <td>Poison</td>\n",
       "      <td>80</td>\n",
       "      <td>82</td>\n",
       "      <td>83</td>\n",
       "      <td>100</td>\n",
       "      <td>100</td>\n",
       "      <td>80</td>\n",
       "      <td>False</td>\n",
       "    </tr>\n",
       "    <tr>\n",
       "      <th>3</th>\n",
       "      <td>4</td>\n",
       "      <td>Mega Venusaur</td>\n",
       "      <td>Grass</td>\n",
       "      <td>Poison</td>\n",
       "      <td>80</td>\n",
       "      <td>100</td>\n",
       "      <td>123</td>\n",
       "      <td>122</td>\n",
       "      <td>120</td>\n",
       "      <td>80</td>\n",
       "      <td>False</td>\n",
       "    </tr>\n",
       "    <tr>\n",
       "      <th>4</th>\n",
       "      <td>5</td>\n",
       "      <td>Charmander</td>\n",
       "      <td>Fire</td>\n",
       "      <td>NaN</td>\n",
       "      <td>39</td>\n",
       "      <td>52</td>\n",
       "      <td>43</td>\n",
       "      <td>60</td>\n",
       "      <td>50</td>\n",
       "      <td>65</td>\n",
       "      <td>False</td>\n",
       "    </tr>\n",
       "    <tr>\n",
       "      <th>5</th>\n",
       "      <td>6</td>\n",
       "      <td>Charmeleon</td>\n",
       "      <td>Fire</td>\n",
       "      <td>NaN</td>\n",
       "      <td>58</td>\n",
       "      <td>64</td>\n",
       "      <td>58</td>\n",
       "      <td>80</td>\n",
       "      <td>65</td>\n",
       "      <td>80</td>\n",
       "      <td>False</td>\n",
       "    </tr>\n",
       "    <tr>\n",
       "      <th>6</th>\n",
       "      <td>7</td>\n",
       "      <td>Charizard</td>\n",
       "      <td>Fire</td>\n",
       "      <td>Flying</td>\n",
       "      <td>78</td>\n",
       "      <td>84</td>\n",
       "      <td>78</td>\n",
       "      <td>109</td>\n",
       "      <td>85</td>\n",
       "      <td>100</td>\n",
       "      <td>False</td>\n",
       "    </tr>\n",
       "    <tr>\n",
       "      <th>7</th>\n",
       "      <td>8</td>\n",
       "      <td>Mega Charizard X</td>\n",
       "      <td>Fire</td>\n",
       "      <td>Dragon</td>\n",
       "      <td>78</td>\n",
       "      <td>130</td>\n",
       "      <td>111</td>\n",
       "      <td>130</td>\n",
       "      <td>85</td>\n",
       "      <td>100</td>\n",
       "      <td>False</td>\n",
       "    </tr>\n",
       "    <tr>\n",
       "      <th>8</th>\n",
       "      <td>9</td>\n",
       "      <td>Mega Charizard Y</td>\n",
       "      <td>Fire</td>\n",
       "      <td>Flying</td>\n",
       "      <td>78</td>\n",
       "      <td>104</td>\n",
       "      <td>78</td>\n",
       "      <td>159</td>\n",
       "      <td>115</td>\n",
       "      <td>100</td>\n",
       "      <td>False</td>\n",
       "    </tr>\n",
       "    <tr>\n",
       "      <th>9</th>\n",
       "      <td>10</td>\n",
       "      <td>Squirtle</td>\n",
       "      <td>Water</td>\n",
       "      <td>NaN</td>\n",
       "      <td>44</td>\n",
       "      <td>48</td>\n",
       "      <td>65</td>\n",
       "      <td>50</td>\n",
       "      <td>64</td>\n",
       "      <td>43</td>\n",
       "      <td>False</td>\n",
       "    </tr>\n",
       "  </tbody>\n",
       "</table>\n",
       "</div>"
      ],
      "text/plain": [
       "   pid              Name Class 1 Class 2  HP  Attack  Defense  Sp. Atk  \\\n",
       "0    1         Bulbasaur   Grass  Poison  45      49       49       65   \n",
       "1    2           Ivysaur   Grass  Poison  60      62       63       80   \n",
       "2    3          Venusaur   Grass  Poison  80      82       83      100   \n",
       "3    4     Mega Venusaur   Grass  Poison  80     100      123      122   \n",
       "4    5        Charmander    Fire     NaN  39      52       43       60   \n",
       "5    6        Charmeleon    Fire     NaN  58      64       58       80   \n",
       "6    7         Charizard    Fire  Flying  78      84       78      109   \n",
       "7    8  Mega Charizard X    Fire  Dragon  78     130      111      130   \n",
       "8    9  Mega Charizard Y    Fire  Flying  78     104       78      159   \n",
       "9   10          Squirtle   Water     NaN  44      48       65       50   \n",
       "\n",
       "   Sp. Def  Speed  Legendary  \n",
       "0       65     45      False  \n",
       "1       80     60      False  \n",
       "2      100     80      False  \n",
       "3      120     80      False  \n",
       "4       50     65      False  \n",
       "5       65     80      False  \n",
       "6       85    100      False  \n",
       "7       85    100      False  \n",
       "8      115    100      False  \n",
       "9       64     43      False  "
      ]
     },
     "execution_count": 31,
     "metadata": {},
     "output_type": "execute_result"
    }
   ],
   "source": [
    "import pandas as pd\n",
    "df = pd.read_csv('pokemon.csv')\n",
    "df.head(10)"
   ]
  },
  {
   "cell_type": "code",
   "execution_count": 32,
   "id": "6136681a",
   "metadata": {},
   "outputs": [
    {
     "data": {
      "text/html": [
       "<div>\n",
       "<style scoped>\n",
       "    .dataframe tbody tr th:only-of-type {\n",
       "        vertical-align: middle;\n",
       "    }\n",
       "\n",
       "    .dataframe tbody tr th {\n",
       "        vertical-align: top;\n",
       "    }\n",
       "\n",
       "    .dataframe thead th {\n",
       "        text-align: right;\n",
       "    }\n",
       "</style>\n",
       "<table border=\"1\" class=\"dataframe\">\n",
       "  <thead>\n",
       "    <tr style=\"text-align: right;\">\n",
       "      <th></th>\n",
       "      <th>pid</th>\n",
       "      <th>HP</th>\n",
       "      <th>Attack</th>\n",
       "      <th>Defense</th>\n",
       "      <th>Sp. Atk</th>\n",
       "      <th>Sp. Def</th>\n",
       "      <th>Speed</th>\n",
       "    </tr>\n",
       "  </thead>\n",
       "  <tbody>\n",
       "    <tr>\n",
       "      <th>count</th>\n",
       "      <td>800.0000</td>\n",
       "      <td>800.000000</td>\n",
       "      <td>800.000000</td>\n",
       "      <td>800.000000</td>\n",
       "      <td>800.000000</td>\n",
       "      <td>800.000000</td>\n",
       "      <td>800.000000</td>\n",
       "    </tr>\n",
       "    <tr>\n",
       "      <th>mean</th>\n",
       "      <td>400.5000</td>\n",
       "      <td>69.258750</td>\n",
       "      <td>79.001250</td>\n",
       "      <td>73.842500</td>\n",
       "      <td>72.820000</td>\n",
       "      <td>71.902500</td>\n",
       "      <td>68.277500</td>\n",
       "    </tr>\n",
       "    <tr>\n",
       "      <th>std</th>\n",
       "      <td>231.0844</td>\n",
       "      <td>25.534669</td>\n",
       "      <td>32.457366</td>\n",
       "      <td>31.183501</td>\n",
       "      <td>32.722294</td>\n",
       "      <td>27.828916</td>\n",
       "      <td>29.060474</td>\n",
       "    </tr>\n",
       "    <tr>\n",
       "      <th>min</th>\n",
       "      <td>1.0000</td>\n",
       "      <td>1.000000</td>\n",
       "      <td>5.000000</td>\n",
       "      <td>5.000000</td>\n",
       "      <td>10.000000</td>\n",
       "      <td>20.000000</td>\n",
       "      <td>5.000000</td>\n",
       "    </tr>\n",
       "    <tr>\n",
       "      <th>25%</th>\n",
       "      <td>200.7500</td>\n",
       "      <td>50.000000</td>\n",
       "      <td>55.000000</td>\n",
       "      <td>50.000000</td>\n",
       "      <td>49.750000</td>\n",
       "      <td>50.000000</td>\n",
       "      <td>45.000000</td>\n",
       "    </tr>\n",
       "    <tr>\n",
       "      <th>50%</th>\n",
       "      <td>400.5000</td>\n",
       "      <td>65.000000</td>\n",
       "      <td>75.000000</td>\n",
       "      <td>70.000000</td>\n",
       "      <td>65.000000</td>\n",
       "      <td>70.000000</td>\n",
       "      <td>65.000000</td>\n",
       "    </tr>\n",
       "    <tr>\n",
       "      <th>75%</th>\n",
       "      <td>600.2500</td>\n",
       "      <td>80.000000</td>\n",
       "      <td>100.000000</td>\n",
       "      <td>90.000000</td>\n",
       "      <td>95.000000</td>\n",
       "      <td>90.000000</td>\n",
       "      <td>90.000000</td>\n",
       "    </tr>\n",
       "    <tr>\n",
       "      <th>max</th>\n",
       "      <td>800.0000</td>\n",
       "      <td>255.000000</td>\n",
       "      <td>190.000000</td>\n",
       "      <td>230.000000</td>\n",
       "      <td>194.000000</td>\n",
       "      <td>230.000000</td>\n",
       "      <td>180.000000</td>\n",
       "    </tr>\n",
       "  </tbody>\n",
       "</table>\n",
       "</div>"
      ],
      "text/plain": [
       "            pid          HP      Attack     Defense     Sp. Atk     Sp. Def  \\\n",
       "count  800.0000  800.000000  800.000000  800.000000  800.000000  800.000000   \n",
       "mean   400.5000   69.258750   79.001250   73.842500   72.820000   71.902500   \n",
       "std    231.0844   25.534669   32.457366   31.183501   32.722294   27.828916   \n",
       "min      1.0000    1.000000    5.000000    5.000000   10.000000   20.000000   \n",
       "25%    200.7500   50.000000   55.000000   50.000000   49.750000   50.000000   \n",
       "50%    400.5000   65.000000   75.000000   70.000000   65.000000   70.000000   \n",
       "75%    600.2500   80.000000  100.000000   90.000000   95.000000   90.000000   \n",
       "max    800.0000  255.000000  190.000000  230.000000  194.000000  230.000000   \n",
       "\n",
       "            Speed  \n",
       "count  800.000000  \n",
       "mean    68.277500  \n",
       "std     29.060474  \n",
       "min      5.000000  \n",
       "25%     45.000000  \n",
       "50%     65.000000  \n",
       "75%     90.000000  \n",
       "max    180.000000  "
      ]
     },
     "execution_count": 32,
     "metadata": {},
     "output_type": "execute_result"
    }
   ],
   "source": [
    "df.describe()"
   ]
  },
  {
   "cell_type": "code",
   "execution_count": 33,
   "id": "9e939b3e",
   "metadata": {},
   "outputs": [
    {
     "data": {
      "text/plain": [
       "pid  Name                   Class 1   Class 2   HP   Attack  Defense  Sp. Atk  Sp. Def  Speed  Legendary\n",
       "1    Bulbasaur              Grass     Poison    45   49      49       65       65       45     False        1\n",
       "534  Wash Rotom             Electric  Water     50   65      107      105      107      86     False        1\n",
       "554  Victini                Psychic   Fire      100  100     100      100      100      100    True         1\n",
       "552  Shaymin Sky Forme      Grass     Flying    100  103     75       120      75       127    True         1\n",
       "546  Giratina Origin Forme  Ghost     Dragon    150  120     100      120      100      90     True         1\n",
       "                                                                                                           ..\n",
       "279  Blaziken               Fire      Fighting  80   120     70       110      70       80     False        1\n",
       "278  Combusken              Fire      Fighting  60   85      60       85       60       55     False        1\n",
       "276  Mega Sceptile          Grass     Dragon    70   110     75       145      85       145    False        1\n",
       "272  Celebi                 Psychic   Grass     100  100     100      100      100      100    False        1\n",
       "800  Volcanion              Fire      Water     80   110     120      130      90       70     True         1\n",
       "Length: 414, dtype: int64"
      ]
     },
     "execution_count": 33,
     "metadata": {},
     "output_type": "execute_result"
    }
   ],
   "source": [
    "df.value_counts()"
   ]
  },
  {
   "cell_type": "code",
   "execution_count": 34,
   "id": "2c11a9ef",
   "metadata": {},
   "outputs": [
    {
     "data": {
      "text/plain": [
       "pid            0\n",
       "Name           1\n",
       "Class 1        0\n",
       "Class 2      386\n",
       "HP             0\n",
       "Attack         0\n",
       "Defense        0\n",
       "Sp. Atk        0\n",
       "Sp. Def        0\n",
       "Speed          0\n",
       "Legendary      0\n",
       "dtype: int64"
      ]
     },
     "execution_count": 34,
     "metadata": {},
     "output_type": "execute_result"
    }
   ],
   "source": [
    "df.isna().sum()  # есть пропуски"
   ]
  },
  {
   "cell_type": "markdown",
   "id": "216b24ea",
   "metadata": {
    "id": "216b24ea"
   },
   "source": [
    "### Вопрос 1"
   ]
  },
  {
   "cell_type": "markdown",
   "id": "83dadefc",
   "metadata": {
    "id": "83dadefc"
   },
   "source": [
    "Профессор Оук подозревает, что покемоны в классе `grass` имеют более сильную обычную атаку, чем у покемонов в классе `rock`. Проверьте, прав ли он, и убедите его в своем выводе статистически. "
   ]
  },
  {
   "cell_type": "code",
   "execution_count": 35,
   "id": "fb6a5007",
   "metadata": {
    "id": "fb6a5007"
   },
   "outputs": [
    {
     "data": {
      "text/plain": [
       "(pid          70\n",
       " Name         70\n",
       " Class 1       1\n",
       " Class 2      10\n",
       " HP           25\n",
       " Attack       37\n",
       " Defense      30\n",
       " Sp. Atk      40\n",
       " Sp. Def      29\n",
       " Speed        38\n",
       " Legendary     2\n",
       " dtype: int64,\n",
       " pid          44\n",
       " Name         44\n",
       " Class 1       1\n",
       " Class 2      12\n",
       " HP           23\n",
       " Attack       31\n",
       " Defense      27\n",
       " Sp. Atk      28\n",
       " Sp. Def      26\n",
       " Speed        27\n",
       " Legendary     2\n",
       " dtype: int64)"
      ]
     },
     "execution_count": 35,
     "metadata": {},
     "output_type": "execute_result"
    }
   ],
   "source": [
    "### ╰( ͡° ͜ʖ ͡° )つ──☆ сотворите статистическую магию\n",
    "df[df[\"Class 1\"] == \"Grass\"].nunique(), df[df[\"Class 1\"] == \"Rock\"].nunique()"
   ]
  },
  {
   "cell_type": "code",
   "execution_count": 36,
   "id": "a57182da",
   "metadata": {},
   "outputs": [
    {
     "data": {
      "text/plain": [
       "pid          381.414286\n",
       "HP            67.271429\n",
       "Attack        73.214286\n",
       "Defense       70.800000\n",
       "Sp. Atk       77.500000\n",
       "Sp. Def       70.428571\n",
       "Speed         61.928571\n",
       "Legendary      0.042857\n",
       "dtype: float64"
      ]
     },
     "execution_count": 36,
     "metadata": {},
     "output_type": "execute_result"
    }
   ],
   "source": [
    "df[df[\"Class 1\"] == \"Grass\"].mean()"
   ]
  },
  {
   "cell_type": "code",
   "execution_count": 37,
   "id": "72455007",
   "metadata": {},
   "outputs": [
    {
     "data": {
      "text/plain": [
       "pid          432.840909\n",
       "HP            65.363636\n",
       "Attack        92.863636\n",
       "Defense      100.795455\n",
       "Sp. Atk       63.340909\n",
       "Sp. Def       75.477273\n",
       "Speed         55.909091\n",
       "Legendary      0.090909\n",
       "dtype: float64"
      ]
     },
     "execution_count": 37,
     "metadata": {},
     "output_type": "execute_result"
    }
   ],
   "source": [
    "df[df[\"Class 1\"] == \"Rock\"].mean()"
   ]
  },
  {
   "cell_type": "markdown",
   "id": "9fd42d78",
   "metadata": {},
   "source": [
    "## Пока мало что понятно, посмотрим на графики"
   ]
  },
  {
   "cell_type": "code",
   "execution_count": 38,
   "id": "e519ffcf",
   "metadata": {},
   "outputs": [
    {
     "data": {
      "text/plain": [
       "73.46315789473684"
      ]
     },
     "execution_count": 38,
     "metadata": {},
     "output_type": "execute_result"
    }
   ],
   "source": [
    "df[(df['Class 1'] == 'Grass') | (df['Class 2'] == 'Grass')]['Attack'].mean()"
   ]
  },
  {
   "cell_type": "code",
   "execution_count": 39,
   "id": "29f2c7ae",
   "metadata": {},
   "outputs": [
    {
     "data": {
      "text/plain": [
       "Text(0, 0.5, 'Count')"
      ]
     },
     "execution_count": 39,
     "metadata": {},
     "output_type": "execute_result"
    },
    {
     "data": {
      "image/png": "[encoded data removed]",
      "text/plain": [
       "<Figure size 720x432 with 1 Axes>"
      ]
     },
     "metadata": {
      "needs_background": "light"
     },
     "output_type": "display_data"
    }
   ],
   "source": [
    "g = df[(df['Class 1'] == 'Grass') | (df['Class 2'] == 'Grass')]['Attack']\n",
    "r = df[(df['Class 1'] == 'Rock') | (df['Class 2'] == 'Rock')]['Attack']\n",
    "plt.figure(figsize=(10,6))\n",
    "sns.distplot(df[(df['Class 1'] == 'Grass') | (df['Class 2'] == 'Grass')]['Attack'], hist=True, color = 'red')\n",
    "sns.distplot(df[(df['Class 1'] == 'Rock') | (df['Class 2'] == 'Rock')]['Attack'], hist=True, color = 'b')\n",
    "plt.axvline(x=g.mean(),color='red')\n",
    "plt.axvline(x=r.mean(),color='blue')\n",
    "plt.title('Attack values distribution', size=16)\n",
    "plt.ylabel('Count')"
   ]
  },
  {
   "cell_type": "code",
   "execution_count": 40,
   "id": "7002d6b5",
   "metadata": {},
   "outputs": [
    {
     "name": "stdout",
     "output_type": "stream",
     "text": [
      "Statistics=1963.500, p=0.003\n"
     ]
    }
   ],
   "source": [
    "# https://techrando.com/2019/11/21/determine-if-two-distributions-are-significantly-different-using-the-mann-whitney-u-test/\n",
    "# https://stats.stackexchange.com/questions/481106/confused-about-the-mann-whitney-u-test-does-it-test-distribution-equality-pd\n",
    "\n",
    "stat, p = mannwhitneyu(df[(df['Class 1'] == 'Grass') | (df['Class 2'] == 'Grass')]['Attack'],\n",
    "                       df[(df['Class 1'] == 'Rock') | (df['Class 2'] == 'Rock')]['Attack'])\n",
    "print('Statistics=%.3f, p=%.3f' % (stat, p))"
   ]
  },
  {
   "cell_type": "markdown",
   "id": "e96bcbe0",
   "metadata": {},
   "source": [
    "Нулевая гипотеза - нет стат. значимых различий, так как p < 0.01, то гипотезу отвергаем. В общем профессор не угадал..."
   ]
  },
  {
   "cell_type": "markdown",
   "id": "efe3805e",
   "metadata": {
    "id": "efe3805e"
   },
   "source": [
    "### Вопрос 2"
   ]
  },
  {
   "cell_type": "markdown",
   "id": "baeb5aeb",
   "metadata": {
    "id": "baeb5aeb"
   },
   "source": [
    "Также профессор Оук очень хочет проверить, правда ли нет значимой разницы между силой обычной атаки и силой обычной защиты у покемонов. Помогите ему и ответьте на вопрос, подтвердив свои выводы с помощью проверки статистических гипотез"
   ]
  },
  {
   "cell_type": "code",
   "execution_count": 41,
   "id": "d11122b2",
   "metadata": {},
   "outputs": [
    {
     "data": {
      "text/plain": [
       "(79.00125, 73.8425)"
      ]
     },
     "execution_count": 41,
     "metadata": {},
     "output_type": "execute_result"
    }
   ],
   "source": [
    "df['Attack'].mean(), df['Defense'].mean()"
   ]
  },
  {
   "cell_type": "code",
   "execution_count": 42,
   "id": "a8ae940e",
   "metadata": {
    "id": "a8ae940e"
   },
   "outputs": [
    {
     "data": {
      "text/plain": [
       "Text(0, 0.5, 'Count')"
      ]
     },
     "execution_count": 42,
     "metadata": {},
     "output_type": "execute_result"
    },
    {
     "data": {
      "image/png": "[encoded data removed]",
      "text/plain": [
       "<Figure size 720x432 with 1 Axes>"
      ]
     },
     "metadata": {
      "needs_background": "light"
     },
     "output_type": "display_data"
    }
   ],
   "source": [
    "### ╰( ͡° ͜ʖ ͡° )つ──☆ сотворите статистическую магию\n",
    "plt.figure(figsize=(10,6))\n",
    "sns.distplot(df['Attack'], hist=True, color = 'red')\n",
    "sns.distplot(df['Defense'], hist=True, color = 'b')\n",
    "plt.axvline(x=df['Attack'].mean(),color='red')\n",
    "plt.axvline(x=df['Defense'].mean(),color='blue')\n",
    "plt.title('Attack and defense values distribution', size=16)\n",
    "plt.ylabel('Count')"
   ]
  },
  {
   "cell_type": "code",
   "execution_count": 43,
   "id": "f4995648",
   "metadata": {},
   "outputs": [
    {
     "name": "stdout",
     "output_type": "stream",
     "text": [
      "Statistics=353385.000, p=0.00030\n"
     ]
    }
   ],
   "source": [
    "stat, p = mannwhitneyu(df['Attack'],\n",
    "                       df['Defense'])\n",
    "print('Statistics=%.3f, p=%.5f' % (stat, p))"
   ]
  },
  {
   "cell_type": "markdown",
   "id": "8fa925ac",
   "metadata": {},
   "source": [
    "Нулевая гипотеза - нет стат. значимых различий, так как p < 0.01, то гипотезу отвергаем. То есть различия между силой обычной атаки и силой обычной защиты есть"
   ]
  },
  {
   "cell_type": "markdown",
   "id": "55c372da",
   "metadata": {
    "id": "55c372da"
   },
   "source": [
    "### Вопрос 3"
   ]
  },
  {
   "cell_type": "markdown",
   "id": "781cbb94",
   "metadata": {
    "id": "781cbb94"
   },
   "source": [
    "И последний вопрос, который мучает профессора Оука: правда ли, что средняя скорость покемонов превышает 66.6 ? Сформулируйте подходящие гипотезы и помогите профессору Оуку, ответив на вопрос."
   ]
  },
  {
   "cell_type": "markdown",
   "id": "d9fed14f",
   "metadata": {},
   "source": [
    "H0: mean <= 66.6\n",
    "H1: mean > 66.6"
   ]
  },
  {
   "cell_type": "code",
   "execution_count": 44,
   "id": "70272881",
   "metadata": {},
   "outputs": [
    {
     "data": {
      "text/plain": [
       "68.2775"
      ]
     },
     "execution_count": 44,
     "metadata": {},
     "output_type": "execute_result"
    }
   ],
   "source": [
    "df['Speed'].mean()"
   ]
  },
  {
   "cell_type": "code",
   "execution_count": 45,
   "id": "aefbfc32",
   "metadata": {
    "id": "aefbfc32"
   },
   "outputs": [
    {
     "data": {
      "text/plain": [
       "Text(0, 0.5, 'Count')"
      ]
     },
     "execution_count": 45,
     "metadata": {},
     "output_type": "execute_result"
    },
    {
     "data": {
      "image/png": "[encoded data removed]",
      "text/plain": [
       "<Figure size 720x432 with 1 Axes>"
      ]
     },
     "metadata": {
      "needs_background": "light"
     },
     "output_type": "display_data"
    }
   ],
   "source": [
    "### ╰( ͡° ͜ʖ ͡° )つ──☆ сотворите статистическую магию\n",
    "plt.figure(figsize=(10,6))\n",
    "sns.distplot(df['Speed'], hist=True, color = 'red')\n",
    "plt.axvline(x=df['Speed'].mean(),color='red')\n",
    "plt.title('Speed values distribution', size=16)\n",
    "plt.ylabel('Count')"
   ]
  },
  {
   "cell_type": "code",
   "execution_count": 46,
   "id": "93bced40",
   "metadata": {},
   "outputs": [],
   "source": [
    "# https://docs.scipy.org/doc/scipy/reference/generated/scipy.stats.ttest_ind.html\n",
    "# https://towardsdatascience.com/hypothesis-testing-in-machine-learning-using-python-a0dc89e169ce\n",
    "# sp.stats.ttest_ind(df['Defense'], 66.6, equal_var=False)\n"
   ]
  },
  {
   "cell_type": "code",
   "execution_count": 47,
   "id": "c638dfc5",
   "metadata": {},
   "outputs": [],
   "source": [
    "mu_hat = df.loc[:,\"Speed\"].mean()"
   ]
  },
  {
   "cell_type": "code",
   "execution_count": 48,
   "id": "10316de3",
   "metadata": {},
   "outputs": [
    {
     "data": {
      "text/plain": [
       "68.2775"
      ]
     },
     "execution_count": 48,
     "metadata": {},
     "output_type": "execute_result"
    }
   ],
   "source": [
    "mu_hat"
   ]
  },
  {
   "cell_type": "code",
   "execution_count": 49,
   "id": "c8ca2e7f",
   "metadata": {},
   "outputs": [],
   "source": [
    "std_hat = df.loc[:,\"Speed\"].values.std()"
   ]
  },
  {
   "cell_type": "code",
   "execution_count": 50,
   "id": "0a8a0650",
   "metadata": {},
   "outputs": [
    {
     "data": {
      "text/plain": [
       "29.042305241664273"
      ]
     },
     "execution_count": 50,
     "metadata": {},
     "output_type": "execute_result"
    }
   ],
   "source": [
    "std_hat"
   ]
  },
  {
   "cell_type": "code",
   "execution_count": 51,
   "id": "656aea62",
   "metadata": {},
   "outputs": [],
   "source": [
    "test_stat = (mu_hat - 66.6) / (std_hat / np.sqrt(df.shape[0]))\n",
    "crit_val = stats.t.ppf(0.01,df.shape[0] - 1)"
   ]
  },
  {
   "cell_type": "code",
   "execution_count": 52,
   "id": "fa167064",
   "metadata": {},
   "outputs": [
    {
     "name": "stdout",
     "output_type": "stream",
     "text": [
      "1.6337155271527837\n",
      "-2.331024023490564\n"
     ]
    }
   ],
   "source": [
    "print(test_stat)\n",
    "print(crit_val)"
   ]
  },
  {
   "cell_type": "markdown",
   "id": "3e1a2b5f",
   "metadata": {},
   "source": [
    "так как test_value > crit_value, to нулевая гипотеза отклоняется, то есть принимается H1: средняя скорость покемонов больше 66.6 "
   ]
  }
 ],
 "metadata": {
  "colab": {
   "name": "DZ3_DS.ipynb",
   "provenance": []
  },
  "kernelspec": {
   "display_name": "Python 3 (ipykernel)",
   "language": "python",
   "name": "python3"
  },
  "language_info": {
   "codemirror_mode": {
    "name": "ipython",
    "version": 3
   },
   "file_extension": ".py",
   "mimetype": "text/x-python",
   "name": "python",
   "nbconvert_exporter": "python",
   "pygments_lexer": "ipython3",
   "version": "3.9.7"
  }
 },
 "nbformat": 4,
 "nbformat_minor": 5
}
