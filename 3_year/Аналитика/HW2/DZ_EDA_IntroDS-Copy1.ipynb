{
 "cells": [
  {
   "cell_type": "markdown",
   "id": "665e114d",
   "metadata": {},
   "source": [
    "# DZ 1 Немного EDA для маркетинговых данных"
   ]
  },
  {
   "cell_type": "markdown",
   "id": "95d74125",
   "metadata": {},
   "source": [
    "Вам предложены данные iFood — приложения для доставки еды в Бразилии, представленного более чем в тысяче городов.\n",
    "Поддержание высокой вовлеченности клиентов является важной задачей для компании. Для того, чтобы создавать новые предложения и проводить качественные рекламные кампании, необходимо понимать особенности и потребности целевой аудитории. Для этого были собраны данные о клиентах, использующих приложение. Вам предстоит выявить особенности людей, пользующихся данным приложением и найти интересные закономерности.\n",
    "\n",
    "Почитать про компанию можно, например, на википедии:) https://en.wikipedia.org/wiki/IFood"
   ]
  },
  {
   "cell_type": "markdown",
   "id": "db6e583b",
   "metadata": {},
   "source": [
    "Описание данных:\n",
    "    \n",
    "* AcceptedCmp1 - 1 if customer accepted the offer in the 1st campaign, 0 otherwise\n",
    "* AcceptedCmp2 - 1 if customer accepted the offer in the 2nd campaign, 0 otherwise\n",
    "* AcceptedCmp3 - 1 if customer accepted the offer in the 3rd campaign, 0 otherwise\n",
    "* AcceptedCmp4 - 1 if customer accepted the offer in the 4th campaign, 0 otherwise\n",
    "* AcceptedCmp5 - 1 if customer accepted the offer in the 5th campaign, 0 otherwise\n",
    "* Response (target) - 1 if customer accepted the offer in the last campaign, 0 otherwise\n",
    "* Complain - 1 if customer complained in the last 2 years\n",
    "* DtCustomer - date of customer’s enrolment with the company\n",
    "* Education - customer’s level of education\n",
    "* Marital - customer’s marital status\n",
    "* Kidhome - number of small children in customer’s household\n",
    "* Teenhome - number of teenagers in customer’s household\n",
    "* Income - customer’s yearly household income\n",
    "* MntFishProducts - amount spent on fish products in the last 2 years\n",
    "* MntMeatProducts - amount spent on meat products in the last 2 years\n",
    "* MntFruits - amount spent on fruits products in the last 2 years\n",
    "* MntSweetProducts - amount spent on sweet products in the last 2 years\n",
    "* MntWines - amount spent on wine products in the last 2 years\n",
    "* MntGoldProds - amount spent on gold products in the last 2 years\n",
    "* NumDealsPurchases - number of purchases made with discount\n",
    "* NumCatalogPurchases - number of purchases made using catalogue\n",
    "* NumStorePurchases - number of purchases made directly in stores\n",
    "* NumWebPurchases - number of purchases made through company’s web site\n",
    "* NumWebVisitsMonth - number of visits to company’s web site in the last month\n",
    "* Recency - number of days since the last purchase"
   ]
  },
  {
   "cell_type": "markdown",
   "id": "e269d555",
   "metadata": {},
   "source": [
    "## Немного важной информации:"
   ]
  },
  {
   "cell_type": "markdown",
   "id": "d07cc02d",
   "metadata": {},
   "source": [
    "1. Обязательно гуглите! Использование дополнительных методов не карается, но приветствуется (если вы сможете объяснить принцип их работы) Однако, если вы нашли что-то полезное и хотите скопировать себе - сделав это, добавьте в начале ячейки ссылку на источник. В противном случае это будет считаться плагиатом.\n",
    "\n",
    "2. Плагиат не допускается и строго наказывается. Единственное возможное исключение - код, заимствованный из интернета, с ссылкой на источник."
   ]
  },
  {
   "cell_type": "markdown",
   "id": "4cd87d25",
   "metadata": {},
   "source": [
    "## Задание 1 (1 балл): предобработка данных"
   ]
  },
  {
   "cell_type": "markdown",
   "id": "f0856f15",
   "metadata": {},
   "source": [
    "Откройте предложенные данные."
   ]
  },
  {
   "cell_type": "code",
   "execution_count": 1,
   "id": "b0366881",
   "metadata": {},
   "outputs": [],
   "source": [
    "import seaborn as sns\n",
    "import pandas as pd\n",
    "import numpy as np\n",
    "import matplotlib.pyplot as plt\n",
    "import datetime\n",
    "import warnings  \n",
    "warnings.filterwarnings('ignore')"
   ]
  },
  {
   "cell_type": "code",
   "execution_count": 2,
   "id": "646d4838",
   "metadata": {},
   "outputs": [
    {
     "name": "stdout",
     "output_type": "stream",
     "text": [
      "<class 'pandas.core.frame.DataFrame'>\n",
      "RangeIndex: 2240 entries, 0 to 2239\n",
      "Data columns (total 28 columns):\n",
      " #   Column               Non-Null Count  Dtype \n",
      "---  ------               --------------  ----- \n",
      " 0   ID                   2240 non-null   int64 \n",
      " 1   Year_Birth           2240 non-null   int64 \n",
      " 2   Education            2240 non-null   object\n",
      " 3   Marital_Status       2240 non-null   object\n",
      " 4   Income               2216 non-null   object\n",
      " 5   Kidhome              2240 non-null   int64 \n",
      " 6   Teenhome             2240 non-null   int64 \n",
      " 7   Dt_Customer          2240 non-null   object\n",
      " 8   Recency              2240 non-null   int64 \n",
      " 9   MntWines             2240 non-null   int64 \n",
      " 10  MntFruits            2240 non-null   int64 \n",
      " 11  MntMeatProducts      2240 non-null   int64 \n",
      " 12  MntFishProducts      2240 non-null   int64 \n",
      " 13  MntSweetProducts     2240 non-null   int64 \n",
      " 14  MntGoldProds         2240 non-null   int64 \n",
      " 15  NumDealsPurchases    2240 non-null   int64 \n",
      " 16  NumWebPurchases      2240 non-null   int64 \n",
      " 17  NumCatalogPurchases  2240 non-null   int64 \n",
      " 18  NumStorePurchases    2240 non-null   int64 \n",
      " 19  NumWebVisitsMonth    2240 non-null   int64 \n",
      " 20  AcceptedCmp3         2240 non-null   int64 \n",
      " 21  AcceptedCmp4         2240 non-null   int64 \n",
      " 22  AcceptedCmp5         2240 non-null   int64 \n",
      " 23  AcceptedCmp1         2240 non-null   int64 \n",
      " 24  AcceptedCmp2         2240 non-null   int64 \n",
      " 25  Response             2240 non-null   int64 \n",
      " 26  Complain             2240 non-null   int64 \n",
      " 27  Country              2240 non-null   object\n",
      "dtypes: int64(23), object(5)\n",
      "memory usage: 490.1+ KB\n"
     ]
    }
   ],
   "source": [
    "df = pd.read_csv(\"marketing.csv\")\n",
    "df.info()"
   ]
  },
  {
   "cell_type": "markdown",
   "id": "8743651c",
   "metadata": {},
   "source": [
    "Изучите ваши данные. Какие типы данных здесь представлены? Все ли данные считались в корректном и удобном для работы формате? Если нет, то с какими данными есть проблемы?"
   ]
  },
  {
   "cell_type": "code",
   "execution_count": 3,
   "id": "29ff54e1",
   "metadata": {},
   "outputs": [
    {
     "data": {
      "text/html": [
       "<div>\n",
       "<style scoped>\n",
       "    .dataframe tbody tr th:only-of-type {\n",
       "        vertical-align: middle;\n",
       "    }\n",
       "\n",
       "    .dataframe tbody tr th {\n",
       "        vertical-align: top;\n",
       "    }\n",
       "\n",
       "    .dataframe thead th {\n",
       "        text-align: right;\n",
       "    }\n",
       "</style>\n",
       "<table border=\"1\" class=\"dataframe\">\n",
       "  <thead>\n",
       "    <tr style=\"text-align: right;\">\n",
       "      <th></th>\n",
       "      <th>ID</th>\n",
       "      <th>Year_Birth</th>\n",
       "      <th>Education</th>\n",
       "      <th>Marital_Status</th>\n",
       "      <th>Income</th>\n",
       "      <th>Kidhome</th>\n",
       "      <th>Teenhome</th>\n",
       "      <th>Dt_Customer</th>\n",
       "      <th>Recency</th>\n",
       "      <th>MntWines</th>\n",
       "      <th>...</th>\n",
       "      <th>NumStorePurchases</th>\n",
       "      <th>NumWebVisitsMonth</th>\n",
       "      <th>AcceptedCmp3</th>\n",
       "      <th>AcceptedCmp4</th>\n",
       "      <th>AcceptedCmp5</th>\n",
       "      <th>AcceptedCmp1</th>\n",
       "      <th>AcceptedCmp2</th>\n",
       "      <th>Response</th>\n",
       "      <th>Complain</th>\n",
       "      <th>Country</th>\n",
       "    </tr>\n",
       "  </thead>\n",
       "  <tbody>\n",
       "    <tr>\n",
       "      <th>2235</th>\n",
       "      <td>10142</td>\n",
       "      <td>1976</td>\n",
       "      <td>PhD</td>\n",
       "      <td>Divorced</td>\n",
       "      <td>$66,476.00</td>\n",
       "      <td>0</td>\n",
       "      <td>1</td>\n",
       "      <td>3/7/13</td>\n",
       "      <td>99</td>\n",
       "      <td>372</td>\n",
       "      <td>...</td>\n",
       "      <td>11</td>\n",
       "      <td>4</td>\n",
       "      <td>0</td>\n",
       "      <td>0</td>\n",
       "      <td>0</td>\n",
       "      <td>0</td>\n",
       "      <td>0</td>\n",
       "      <td>0</td>\n",
       "      <td>0</td>\n",
       "      <td>US</td>\n",
       "    </tr>\n",
       "    <tr>\n",
       "      <th>2236</th>\n",
       "      <td>5263</td>\n",
       "      <td>1977</td>\n",
       "      <td>2n Cycle</td>\n",
       "      <td>Married</td>\n",
       "      <td>$31,056.00</td>\n",
       "      <td>1</td>\n",
       "      <td>0</td>\n",
       "      <td>1/22/13</td>\n",
       "      <td>99</td>\n",
       "      <td>5</td>\n",
       "      <td>...</td>\n",
       "      <td>3</td>\n",
       "      <td>8</td>\n",
       "      <td>0</td>\n",
       "      <td>0</td>\n",
       "      <td>0</td>\n",
       "      <td>0</td>\n",
       "      <td>0</td>\n",
       "      <td>0</td>\n",
       "      <td>0</td>\n",
       "      <td>SP</td>\n",
       "    </tr>\n",
       "    <tr>\n",
       "      <th>2237</th>\n",
       "      <td>22</td>\n",
       "      <td>1976</td>\n",
       "      <td>Graduation</td>\n",
       "      <td>Divorced</td>\n",
       "      <td>$46,310.00</td>\n",
       "      <td>1</td>\n",
       "      <td>0</td>\n",
       "      <td>12/3/12</td>\n",
       "      <td>99</td>\n",
       "      <td>185</td>\n",
       "      <td>...</td>\n",
       "      <td>5</td>\n",
       "      <td>8</td>\n",
       "      <td>0</td>\n",
       "      <td>0</td>\n",
       "      <td>0</td>\n",
       "      <td>0</td>\n",
       "      <td>0</td>\n",
       "      <td>0</td>\n",
       "      <td>0</td>\n",
       "      <td>SP</td>\n",
       "    </tr>\n",
       "    <tr>\n",
       "      <th>2238</th>\n",
       "      <td>528</td>\n",
       "      <td>1978</td>\n",
       "      <td>Graduation</td>\n",
       "      <td>Married</td>\n",
       "      <td>$65,819.00</td>\n",
       "      <td>0</td>\n",
       "      <td>0</td>\n",
       "      <td>11/29/12</td>\n",
       "      <td>99</td>\n",
       "      <td>267</td>\n",
       "      <td>...</td>\n",
       "      <td>10</td>\n",
       "      <td>3</td>\n",
       "      <td>0</td>\n",
       "      <td>0</td>\n",
       "      <td>0</td>\n",
       "      <td>0</td>\n",
       "      <td>0</td>\n",
       "      <td>0</td>\n",
       "      <td>0</td>\n",
       "      <td>IND</td>\n",
       "    </tr>\n",
       "    <tr>\n",
       "      <th>2239</th>\n",
       "      <td>4070</td>\n",
       "      <td>1969</td>\n",
       "      <td>PhD</td>\n",
       "      <td>Married</td>\n",
       "      <td>$94,871.00</td>\n",
       "      <td>0</td>\n",
       "      <td>2</td>\n",
       "      <td>9/1/12</td>\n",
       "      <td>99</td>\n",
       "      <td>169</td>\n",
       "      <td>...</td>\n",
       "      <td>4</td>\n",
       "      <td>7</td>\n",
       "      <td>0</td>\n",
       "      <td>1</td>\n",
       "      <td>1</td>\n",
       "      <td>0</td>\n",
       "      <td>0</td>\n",
       "      <td>1</td>\n",
       "      <td>0</td>\n",
       "      <td>CA</td>\n",
       "    </tr>\n",
       "  </tbody>\n",
       "</table>\n",
       "<p>5 rows × 28 columns</p>\n",
       "</div>"
      ],
      "text/plain": [
       "         ID  Year_Birth   Education Marital_Status       Income  Kidhome  \\\n",
       "2235  10142        1976         PhD       Divorced  $66,476.00         0   \n",
       "2236   5263        1977    2n Cycle        Married  $31,056.00         1   \n",
       "2237     22        1976  Graduation       Divorced  $46,310.00         1   \n",
       "2238    528        1978  Graduation        Married  $65,819.00         0   \n",
       "2239   4070        1969         PhD        Married  $94,871.00         0   \n",
       "\n",
       "      Teenhome Dt_Customer  Recency  MntWines  ...  NumStorePurchases  \\\n",
       "2235         1      3/7/13       99       372  ...                 11   \n",
       "2236         0     1/22/13       99         5  ...                  3   \n",
       "2237         0     12/3/12       99       185  ...                  5   \n",
       "2238         0    11/29/12       99       267  ...                 10   \n",
       "2239         2      9/1/12       99       169  ...                  4   \n",
       "\n",
       "      NumWebVisitsMonth  AcceptedCmp3  AcceptedCmp4  AcceptedCmp5  \\\n",
       "2235                  4             0             0             0   \n",
       "2236                  8             0             0             0   \n",
       "2237                  8             0             0             0   \n",
       "2238                  3             0             0             0   \n",
       "2239                  7             0             1             1   \n",
       "\n",
       "      AcceptedCmp1  AcceptedCmp2  Response  Complain  Country  \n",
       "2235             0             0         0         0       US  \n",
       "2236             0             0         0         0       SP  \n",
       "2237             0             0         0         0       SP  \n",
       "2238             0             0         0         0      IND  \n",
       "2239             0             0         1         0       CA  \n",
       "\n",
       "[5 rows x 28 columns]"
      ]
     },
     "execution_count": 3,
     "metadata": {},
     "output_type": "execute_result"
    }
   ],
   "source": [
    "# Ваш код и комментарий\n",
    "df.tail()"
   ]
  },
  {
   "cell_type": "code",
   "execution_count": 4,
   "id": "0010d0a9",
   "metadata": {},
   "outputs": [],
   "source": [
    "# df.loc[df['Education'] == 'Basic']"
   ]
  },
  {
   "cell_type": "code",
   "execution_count": 5,
   "id": "2ff60d80",
   "metadata": {},
   "outputs": [
    {
     "data": {
      "text/plain": [
       "ID                      int64\n",
       "Year_Birth              int64\n",
       "Education              object\n",
       "Marital_Status         object\n",
       "Income                 object\n",
       "Kidhome                 int64\n",
       "Teenhome                int64\n",
       "Dt_Customer            object\n",
       "Recency                 int64\n",
       "MntWines                int64\n",
       "MntFruits               int64\n",
       "MntMeatProducts         int64\n",
       "MntFishProducts         int64\n",
       "MntSweetProducts        int64\n",
       "MntGoldProds            int64\n",
       "NumDealsPurchases       int64\n",
       "NumWebPurchases         int64\n",
       "NumCatalogPurchases     int64\n",
       "NumStorePurchases       int64\n",
       "NumWebVisitsMonth       int64\n",
       "AcceptedCmp3            int64\n",
       "AcceptedCmp4            int64\n",
       "AcceptedCmp5            int64\n",
       "AcceptedCmp1            int64\n",
       "AcceptedCmp2            int64\n",
       "Response                int64\n",
       "Complain                int64\n",
       "Country                object\n",
       "dtype: object"
      ]
     },
     "execution_count": 5,
     "metadata": {},
     "output_type": "execute_result"
    }
   ],
   "source": [
    "df.dtypes"
   ]
  },
  {
   "cell_type": "markdown",
   "id": "4f42cbb7",
   "metadata": {},
   "source": [
    "Теперь необходимо привести некоторые данные в корректный вид. Преобразуйте признак income так, чтобы значения этого признака были обычными вещественными числами (float)"
   ]
  },
  {
   "cell_type": "code",
   "execution_count": 6,
   "id": "fa323b92",
   "metadata": {},
   "outputs": [],
   "source": [
    "# Уберем $ и точку\n",
    "# Вылезла ошибка, что есть пробелы, уберем сразу везде\n",
    "df.columns = df.columns.str.replace(' ', '')\n",
    "df['Income'] = df['Income'].str.replace('$', '')\n",
    "df['Income'] = df['Income'].str.replace(',', '').astype(float)"
   ]
  },
  {
   "cell_type": "code",
   "execution_count": 7,
   "id": "b5912eda",
   "metadata": {},
   "outputs": [
    {
     "data": {
      "text/plain": [
       "0       84835.0\n",
       "1       57091.0\n",
       "2       67267.0\n",
       "3       32474.0\n",
       "4       21474.0\n",
       "         ...   \n",
       "2235    66476.0\n",
       "2236    31056.0\n",
       "2237    46310.0\n",
       "2238    65819.0\n",
       "2239    94871.0\n",
       "Name: Income, Length: 2240, dtype: float64"
      ]
     },
     "execution_count": 7,
     "metadata": {},
     "output_type": "execute_result"
    }
   ],
   "source": [
    "df['Income']"
   ]
  },
  {
   "cell_type": "markdown",
   "id": "c0b873cb",
   "metadata": {},
   "source": [
    "Кроме того, даты нам было бы удобнее представить в корректном формате ГГГГ-ММ-ДД. Преобразуйте данные с датами в соответствующий вид."
   ]
  },
  {
   "cell_type": "code",
   "execution_count": 8,
   "id": "b9a5caa4",
   "metadata": {},
   "outputs": [],
   "source": [
    "# https://stackoverflow.com/questions/26763344/convert-pandas-column-to-datetime\n",
    "df['Dt_Customer'] = pd.to_datetime(df['Dt_Customer'])"
   ]
  },
  {
   "cell_type": "code",
   "execution_count": 9,
   "id": "fcad22a6",
   "metadata": {},
   "outputs": [
    {
     "data": {
      "text/plain": [
       "0      2014-06-16\n",
       "1      2014-06-15\n",
       "2      2014-05-13\n",
       "3      2014-05-11\n",
       "4      2014-04-08\n",
       "          ...    \n",
       "2235   2013-03-07\n",
       "2236   2013-01-22\n",
       "2237   2012-12-03\n",
       "2238   2012-11-29\n",
       "2239   2012-09-01\n",
       "Name: Dt_Customer, Length: 2240, dtype: datetime64[ns]"
      ]
     },
     "execution_count": 9,
     "metadata": {},
     "output_type": "execute_result"
    }
   ],
   "source": [
    "df['Dt_Customer']"
   ]
  },
  {
   "cell_type": "markdown",
   "id": "c87a6ac0",
   "metadata": {},
   "source": [
    "## Задание 2 (1.5 балла): пропуски и выбросы"
   ]
  },
  {
   "cell_type": "markdown",
   "id": "5198fc92",
   "metadata": {},
   "source": [
    "Исследуйте данные на предмет пропусков и выбросов. Есть ли в данных пропуски? Сколько и в каких признаках? Как вы будете их обрабатывать? Обработайте пропуски, пояснив выбранную вами стратегию обработки.\n",
    "\n",
    "_важно: просто удалить - это не стратегия обработки, придумайте что-то другое_"
   ]
  },
  {
   "cell_type": "code",
   "execution_count": 10,
   "id": "6c3c179a",
   "metadata": {
    "scrolled": true
   },
   "outputs": [
    {
     "data": {
      "text/html": [
       "<div>\n",
       "<style scoped>\n",
       "    .dataframe tbody tr th:only-of-type {\n",
       "        vertical-align: middle;\n",
       "    }\n",
       "\n",
       "    .dataframe tbody tr th {\n",
       "        vertical-align: top;\n",
       "    }\n",
       "\n",
       "    .dataframe thead th {\n",
       "        text-align: right;\n",
       "    }\n",
       "</style>\n",
       "<table border=\"1\" class=\"dataframe\">\n",
       "  <thead>\n",
       "    <tr style=\"text-align: right;\">\n",
       "      <th></th>\n",
       "      <th>ID</th>\n",
       "      <th>Year_Birth</th>\n",
       "      <th>Income</th>\n",
       "      <th>Kidhome</th>\n",
       "      <th>Teenhome</th>\n",
       "      <th>Recency</th>\n",
       "      <th>MntWines</th>\n",
       "      <th>MntFruits</th>\n",
       "      <th>MntMeatProducts</th>\n",
       "      <th>MntFishProducts</th>\n",
       "      <th>...</th>\n",
       "      <th>NumCatalogPurchases</th>\n",
       "      <th>NumStorePurchases</th>\n",
       "      <th>NumWebVisitsMonth</th>\n",
       "      <th>AcceptedCmp3</th>\n",
       "      <th>AcceptedCmp4</th>\n",
       "      <th>AcceptedCmp5</th>\n",
       "      <th>AcceptedCmp1</th>\n",
       "      <th>AcceptedCmp2</th>\n",
       "      <th>Response</th>\n",
       "      <th>Complain</th>\n",
       "    </tr>\n",
       "  </thead>\n",
       "  <tbody>\n",
       "    <tr>\n",
       "      <th>count</th>\n",
       "      <td>2240.000000</td>\n",
       "      <td>2240.000000</td>\n",
       "      <td>2216.000000</td>\n",
       "      <td>2240.000000</td>\n",
       "      <td>2240.000000</td>\n",
       "      <td>2240.000000</td>\n",
       "      <td>2240.000000</td>\n",
       "      <td>2240.000000</td>\n",
       "      <td>2240.000000</td>\n",
       "      <td>2240.000000</td>\n",
       "      <td>...</td>\n",
       "      <td>2240.000000</td>\n",
       "      <td>2240.000000</td>\n",
       "      <td>2240.000000</td>\n",
       "      <td>2240.000000</td>\n",
       "      <td>2240.000000</td>\n",
       "      <td>2240.000000</td>\n",
       "      <td>2240.000000</td>\n",
       "      <td>2240.000000</td>\n",
       "      <td>2240.000000</td>\n",
       "      <td>2240.000000</td>\n",
       "    </tr>\n",
       "    <tr>\n",
       "      <th>mean</th>\n",
       "      <td>5592.159821</td>\n",
       "      <td>1968.805804</td>\n",
       "      <td>52247.251354</td>\n",
       "      <td>0.444196</td>\n",
       "      <td>0.506250</td>\n",
       "      <td>49.109375</td>\n",
       "      <td>303.935714</td>\n",
       "      <td>26.302232</td>\n",
       "      <td>166.950000</td>\n",
       "      <td>37.525446</td>\n",
       "      <td>...</td>\n",
       "      <td>2.662054</td>\n",
       "      <td>5.790179</td>\n",
       "      <td>5.316518</td>\n",
       "      <td>0.072768</td>\n",
       "      <td>0.074554</td>\n",
       "      <td>0.072768</td>\n",
       "      <td>0.064286</td>\n",
       "      <td>0.013393</td>\n",
       "      <td>0.149107</td>\n",
       "      <td>0.009375</td>\n",
       "    </tr>\n",
       "    <tr>\n",
       "      <th>std</th>\n",
       "      <td>3246.662198</td>\n",
       "      <td>11.984069</td>\n",
       "      <td>25173.076661</td>\n",
       "      <td>0.538398</td>\n",
       "      <td>0.544538</td>\n",
       "      <td>28.962453</td>\n",
       "      <td>336.597393</td>\n",
       "      <td>39.773434</td>\n",
       "      <td>225.715373</td>\n",
       "      <td>54.628979</td>\n",
       "      <td>...</td>\n",
       "      <td>2.923101</td>\n",
       "      <td>3.250958</td>\n",
       "      <td>2.426645</td>\n",
       "      <td>0.259813</td>\n",
       "      <td>0.262728</td>\n",
       "      <td>0.259813</td>\n",
       "      <td>0.245316</td>\n",
       "      <td>0.114976</td>\n",
       "      <td>0.356274</td>\n",
       "      <td>0.096391</td>\n",
       "    </tr>\n",
       "    <tr>\n",
       "      <th>min</th>\n",
       "      <td>0.000000</td>\n",
       "      <td>1893.000000</td>\n",
       "      <td>1730.000000</td>\n",
       "      <td>0.000000</td>\n",
       "      <td>0.000000</td>\n",
       "      <td>0.000000</td>\n",
       "      <td>0.000000</td>\n",
       "      <td>0.000000</td>\n",
       "      <td>0.000000</td>\n",
       "      <td>0.000000</td>\n",
       "      <td>...</td>\n",
       "      <td>0.000000</td>\n",
       "      <td>0.000000</td>\n",
       "      <td>0.000000</td>\n",
       "      <td>0.000000</td>\n",
       "      <td>0.000000</td>\n",
       "      <td>0.000000</td>\n",
       "      <td>0.000000</td>\n",
       "      <td>0.000000</td>\n",
       "      <td>0.000000</td>\n",
       "      <td>0.000000</td>\n",
       "    </tr>\n",
       "    <tr>\n",
       "      <th>25%</th>\n",
       "      <td>2828.250000</td>\n",
       "      <td>1959.000000</td>\n",
       "      <td>35303.000000</td>\n",
       "      <td>0.000000</td>\n",
       "      <td>0.000000</td>\n",
       "      <td>24.000000</td>\n",
       "      <td>23.750000</td>\n",
       "      <td>1.000000</td>\n",
       "      <td>16.000000</td>\n",
       "      <td>3.000000</td>\n",
       "      <td>...</td>\n",
       "      <td>0.000000</td>\n",
       "      <td>3.000000</td>\n",
       "      <td>3.000000</td>\n",
       "      <td>0.000000</td>\n",
       "      <td>0.000000</td>\n",
       "      <td>0.000000</td>\n",
       "      <td>0.000000</td>\n",
       "      <td>0.000000</td>\n",
       "      <td>0.000000</td>\n",
       "      <td>0.000000</td>\n",
       "    </tr>\n",
       "    <tr>\n",
       "      <th>50%</th>\n",
       "      <td>5458.500000</td>\n",
       "      <td>1970.000000</td>\n",
       "      <td>51381.500000</td>\n",
       "      <td>0.000000</td>\n",
       "      <td>0.000000</td>\n",
       "      <td>49.000000</td>\n",
       "      <td>173.500000</td>\n",
       "      <td>8.000000</td>\n",
       "      <td>67.000000</td>\n",
       "      <td>12.000000</td>\n",
       "      <td>...</td>\n",
       "      <td>2.000000</td>\n",
       "      <td>5.000000</td>\n",
       "      <td>6.000000</td>\n",
       "      <td>0.000000</td>\n",
       "      <td>0.000000</td>\n",
       "      <td>0.000000</td>\n",
       "      <td>0.000000</td>\n",
       "      <td>0.000000</td>\n",
       "      <td>0.000000</td>\n",
       "      <td>0.000000</td>\n",
       "    </tr>\n",
       "    <tr>\n",
       "      <th>75%</th>\n",
       "      <td>8427.750000</td>\n",
       "      <td>1977.000000</td>\n",
       "      <td>68522.000000</td>\n",
       "      <td>1.000000</td>\n",
       "      <td>1.000000</td>\n",
       "      <td>74.000000</td>\n",
       "      <td>504.250000</td>\n",
       "      <td>33.000000</td>\n",
       "      <td>232.000000</td>\n",
       "      <td>50.000000</td>\n",
       "      <td>...</td>\n",
       "      <td>4.000000</td>\n",
       "      <td>8.000000</td>\n",
       "      <td>7.000000</td>\n",
       "      <td>0.000000</td>\n",
       "      <td>0.000000</td>\n",
       "      <td>0.000000</td>\n",
       "      <td>0.000000</td>\n",
       "      <td>0.000000</td>\n",
       "      <td>0.000000</td>\n",
       "      <td>0.000000</td>\n",
       "    </tr>\n",
       "    <tr>\n",
       "      <th>max</th>\n",
       "      <td>11191.000000</td>\n",
       "      <td>1996.000000</td>\n",
       "      <td>666666.000000</td>\n",
       "      <td>2.000000</td>\n",
       "      <td>2.000000</td>\n",
       "      <td>99.000000</td>\n",
       "      <td>1493.000000</td>\n",
       "      <td>199.000000</td>\n",
       "      <td>1725.000000</td>\n",
       "      <td>259.000000</td>\n",
       "      <td>...</td>\n",
       "      <td>28.000000</td>\n",
       "      <td>13.000000</td>\n",
       "      <td>20.000000</td>\n",
       "      <td>1.000000</td>\n",
       "      <td>1.000000</td>\n",
       "      <td>1.000000</td>\n",
       "      <td>1.000000</td>\n",
       "      <td>1.000000</td>\n",
       "      <td>1.000000</td>\n",
       "      <td>1.000000</td>\n",
       "    </tr>\n",
       "  </tbody>\n",
       "</table>\n",
       "<p>8 rows × 24 columns</p>\n",
       "</div>"
      ],
      "text/plain": [
       "                 ID   Year_Birth         Income      Kidhome     Teenhome  \\\n",
       "count   2240.000000  2240.000000    2216.000000  2240.000000  2240.000000   \n",
       "mean    5592.159821  1968.805804   52247.251354     0.444196     0.506250   \n",
       "std     3246.662198    11.984069   25173.076661     0.538398     0.544538   \n",
       "min        0.000000  1893.000000    1730.000000     0.000000     0.000000   \n",
       "25%     2828.250000  1959.000000   35303.000000     0.000000     0.000000   \n",
       "50%     5458.500000  1970.000000   51381.500000     0.000000     0.000000   \n",
       "75%     8427.750000  1977.000000   68522.000000     1.000000     1.000000   \n",
       "max    11191.000000  1996.000000  666666.000000     2.000000     2.000000   \n",
       "\n",
       "           Recency     MntWines    MntFruits  MntMeatProducts  \\\n",
       "count  2240.000000  2240.000000  2240.000000      2240.000000   \n",
       "mean     49.109375   303.935714    26.302232       166.950000   \n",
       "std      28.962453   336.597393    39.773434       225.715373   \n",
       "min       0.000000     0.000000     0.000000         0.000000   \n",
       "25%      24.000000    23.750000     1.000000        16.000000   \n",
       "50%      49.000000   173.500000     8.000000        67.000000   \n",
       "75%      74.000000   504.250000    33.000000       232.000000   \n",
       "max      99.000000  1493.000000   199.000000      1725.000000   \n",
       "\n",
       "       MntFishProducts  ...  NumCatalogPurchases  NumStorePurchases  \\\n",
       "count      2240.000000  ...          2240.000000        2240.000000   \n",
       "mean         37.525446  ...             2.662054           5.790179   \n",
       "std          54.628979  ...             2.923101           3.250958   \n",
       "min           0.000000  ...             0.000000           0.000000   \n",
       "25%           3.000000  ...             0.000000           3.000000   \n",
       "50%          12.000000  ...             2.000000           5.000000   \n",
       "75%          50.000000  ...             4.000000           8.000000   \n",
       "max         259.000000  ...            28.000000          13.000000   \n",
       "\n",
       "       NumWebVisitsMonth  AcceptedCmp3  AcceptedCmp4  AcceptedCmp5  \\\n",
       "count        2240.000000   2240.000000   2240.000000   2240.000000   \n",
       "mean            5.316518      0.072768      0.074554      0.072768   \n",
       "std             2.426645      0.259813      0.262728      0.259813   \n",
       "min             0.000000      0.000000      0.000000      0.000000   \n",
       "25%             3.000000      0.000000      0.000000      0.000000   \n",
       "50%             6.000000      0.000000      0.000000      0.000000   \n",
       "75%             7.000000      0.000000      0.000000      0.000000   \n",
       "max            20.000000      1.000000      1.000000      1.000000   \n",
       "\n",
       "       AcceptedCmp1  AcceptedCmp2     Response     Complain  \n",
       "count   2240.000000   2240.000000  2240.000000  2240.000000  \n",
       "mean       0.064286      0.013393     0.149107     0.009375  \n",
       "std        0.245316      0.114976     0.356274     0.096391  \n",
       "min        0.000000      0.000000     0.000000     0.000000  \n",
       "25%        0.000000      0.000000     0.000000     0.000000  \n",
       "50%        0.000000      0.000000     0.000000     0.000000  \n",
       "75%        0.000000      0.000000     0.000000     0.000000  \n",
       "max        1.000000      1.000000     1.000000     1.000000  \n",
       "\n",
       "[8 rows x 24 columns]"
      ]
     },
     "execution_count": 10,
     "metadata": {},
     "output_type": "execute_result"
    }
   ],
   "source": [
    "df.describe()"
   ]
  },
  {
   "cell_type": "code",
   "execution_count": 11,
   "id": "c26d9409",
   "metadata": {},
   "outputs": [],
   "source": [
    "# как мы знаем из теории вероятностей, у нормального распределение медина = среднему, тут у Income и Year не так\n",
    "# то есть там скорее всего выбросы, обработаем их"
   ]
  },
  {
   "cell_type": "code",
   "execution_count": 12,
   "id": "f235c173",
   "metadata": {},
   "outputs": [
    {
     "data": {
      "text/plain": [
       "513     1893\n",
       "827     1899\n",
       "2233    1900\n",
       "2171    1940\n",
       "1740    1941\n",
       "1208    1943\n",
       "1644    1943\n",
       "1209    1943\n",
       "1202    1943\n",
       "1475    1943\n",
       "Name: Year_Birth, dtype: int64"
      ]
     },
     "execution_count": 12,
     "metadata": {},
     "output_type": "execute_result"
    }
   ],
   "source": [
    "df['Year_Birth'].sort_values().head(10)"
   ]
  },
  {
   "cell_type": "code",
   "execution_count": 13,
   "id": "85a39f4d",
   "metadata": {},
   "outputs": [],
   "source": [
    "# ИЗбавимся от неадекватных значений\n",
    "df = df[df['Year_Birth']>1900].reset_index(drop=True)"
   ]
  },
  {
   "cell_type": "code",
   "execution_count": 14,
   "id": "83c56116",
   "metadata": {},
   "outputs": [],
   "source": [
    "# Избавимся от выбросов, но тут чуть сложнее, надо прикинуть рамки адекватной зарплаты\n",
    "# Можно, конечно, построить доверительные интвервалы, графики, но так как данных немного, то просто посмотрим\n",
    "# несколько значений в начале и в конце распредления и оценим"
   ]
  },
  {
   "cell_type": "code",
   "execution_count": 15,
   "id": "47539921",
   "metadata": {},
   "outputs": [
    {
     "data": {
      "text/plain": [
       "1464    1730.0\n",
       "959     2447.0\n",
       "1289    3502.0\n",
       "662     4023.0\n",
       "14      4428.0\n",
       "456     4861.0\n",
       "299     5305.0\n",
       "1531    5648.0\n",
       "60      6560.0\n",
       "1719    6835.0\n",
       "Name: Income, dtype: float64"
      ]
     },
     "execution_count": 15,
     "metadata": {},
     "output_type": "execute_result"
    }
   ],
   "source": [
    "df['Income'].sort_values().head(10)"
   ]
  },
  {
   "cell_type": "code",
   "execution_count": 16,
   "id": "2390916b",
   "metadata": {},
   "outputs": [
    {
     "data": {
      "text/plain": [
       "1691   NaN\n",
       "1802   NaN\n",
       "1856   NaN\n",
       "1861   NaN\n",
       "1878   NaN\n",
       "1965   NaN\n",
       "1981   NaN\n",
       "2137   NaN\n",
       "2163   NaN\n",
       "2168   NaN\n",
       "Name: Income, dtype: float64"
      ]
     },
     "execution_count": 16,
     "metadata": {},
     "output_type": "execute_result"
    }
   ],
   "source": [
    "df['Income'].sort_values().tail(10)"
   ]
  },
  {
   "cell_type": "code",
   "execution_count": 17,
   "id": "57de8396",
   "metadata": {},
   "outputs": [],
   "source": [
    "# Как видно далее значения уже начинают 'кучковаться', поэтому обрежу так, а после уже заплотим распределение \n",
    "df = df[df['Income']>5500].reset_index(drop=True)\n",
    "df = df[df['Income']<100000].reset_index(drop=True)  "
   ]
  },
  {
   "cell_type": "code",
   "execution_count": 18,
   "id": "b805706c",
   "metadata": {},
   "outputs": [],
   "source": [
    "# Теперь оценим пропуски:"
   ]
  },
  {
   "cell_type": "code",
   "execution_count": 19,
   "id": "b1aa312b",
   "metadata": {},
   "outputs": [
    {
     "data": {
      "text/plain": [
       "ID                     0\n",
       "Year_Birth             0\n",
       "Education              0\n",
       "Marital_Status         0\n",
       "Income                 0\n",
       "Kidhome                0\n",
       "Teenhome               0\n",
       "Dt_Customer            0\n",
       "Recency                0\n",
       "MntWines               0\n",
       "MntFruits              0\n",
       "MntMeatProducts        0\n",
       "MntFishProducts        0\n",
       "MntSweetProducts       0\n",
       "MntGoldProds           0\n",
       "NumDealsPurchases      0\n",
       "NumWebPurchases        0\n",
       "NumCatalogPurchases    0\n",
       "NumStorePurchases      0\n",
       "NumWebVisitsMonth      0\n",
       "AcceptedCmp3           0\n",
       "AcceptedCmp4           0\n",
       "AcceptedCmp5           0\n",
       "AcceptedCmp1           0\n",
       "AcceptedCmp2           0\n",
       "Response               0\n",
       "Complain               0\n",
       "Country                0\n",
       "dtype: int64"
      ]
     },
     "execution_count": 19,
     "metadata": {},
     "output_type": "execute_result"
    }
   ],
   "source": [
    "df.isna().sum()"
   ]
  },
  {
   "cell_type": "code",
   "execution_count": 20,
   "id": "80711508",
   "metadata": {},
   "outputs": [],
   "source": [
    "# Пропуски есть в Income, их 24\n",
    "# Обычно, численные заменяют на среднее или медиану, берем медиану"
   ]
  },
  {
   "cell_type": "code",
   "execution_count": 21,
   "id": "b64c1783",
   "metadata": {},
   "outputs": [],
   "source": [
    "df['Income'].fillna((df['Income'].median()),inplace=True)"
   ]
  },
  {
   "cell_type": "code",
   "execution_count": 22,
   "id": "cfa275a1",
   "metadata": {},
   "outputs": [
    {
     "name": "stdout",
     "output_type": "stream",
     "text": [
      "Пропусков нет! \n",
      " ID                     0\n",
      "Year_Birth             0\n",
      "Education              0\n",
      "Marital_Status         0\n",
      "Income                 0\n",
      "Kidhome                0\n",
      "Teenhome               0\n",
      "Dt_Customer            0\n",
      "Recency                0\n",
      "MntWines               0\n",
      "MntFruits              0\n",
      "MntMeatProducts        0\n",
      "MntFishProducts        0\n",
      "MntSweetProducts       0\n",
      "MntGoldProds           0\n",
      "NumDealsPurchases      0\n",
      "NumWebPurchases        0\n",
      "NumCatalogPurchases    0\n",
      "NumStorePurchases      0\n",
      "NumWebVisitsMonth      0\n",
      "AcceptedCmp3           0\n",
      "AcceptedCmp4           0\n",
      "AcceptedCmp5           0\n",
      "AcceptedCmp1           0\n",
      "AcceptedCmp2           0\n",
      "Response               0\n",
      "Complain               0\n",
      "Country                0\n",
      "dtype: int64\n"
     ]
    }
   ],
   "source": [
    "print(\"Пропусков нет!\",\"\\n\", df.isna().sum())"
   ]
  },
  {
   "cell_type": "markdown",
   "id": "88d8a7c7",
   "metadata": {},
   "source": [
    "Исследуйте данные на предмет выбросов и удалите их, если они есть. Если выбросы есть - продемонстрируйте это численно и с помощью визуализаций. Прокомментируйте, как вы ищете выбросы, и почему их стоит удалить."
   ]
  },
  {
   "cell_type": "code",
   "execution_count": 23,
   "id": "c6709fe8",
   "metadata": {},
   "outputs": [
    {
     "data": {
      "image/png": "[encoded data removed]",
      "text/plain": [
       "<Figure size 720x432 with 1 Axes>"
      ]
     },
     "metadata": {
      "needs_background": "light"
     },
     "output_type": "display_data"
    }
   ],
   "source": [
    "plt.figure(figsize=(10,6))\n",
    "sns.distplot(df['Income'], hist=True, color = 'red')\n",
    "plt.title('Income distribution', size=16)\n",
    "plt.ylabel('Count');"
   ]
  },
  {
   "cell_type": "code",
   "execution_count": 24,
   "id": "641e0149",
   "metadata": {},
   "outputs": [
    {
     "data": {
      "image/png": "[encoded data removed]",
      "text/plain": [
       "<Figure size 1080x432 with 1 Axes>"
      ]
     },
     "metadata": {
      "needs_background": "light"
     },
     "output_type": "display_data"
    }
   ],
   "source": [
    "plt.figure(figsize=(15,6))\n",
    "sns.distplot(df['Year_Birth'], norm_hist=True, color = 'red')\n",
    "plt.title('Year_Birth distribution', size=16)\n",
    "plt.ylabel('Count');"
   ]
  },
  {
   "cell_type": "code",
   "execution_count": 25,
   "id": "d2eec868",
   "metadata": {},
   "outputs": [],
   "source": [
    "# Некоторые выбросы уже устранили, построим распределения по некоторым другим стобцам"
   ]
  },
  {
   "cell_type": "code",
   "execution_count": 26,
   "id": "e104e661",
   "metadata": {},
   "outputs": [
    {
     "data": {
      "text/plain": [
       "<AxesSubplot:>"
      ]
     },
     "execution_count": 26,
     "metadata": {},
     "output_type": "execute_result"
    },
    {
     "data": {
      "image/png": "[encoded data removed]",
      "text/plain": [
       "<Figure size 432x288 with 1 Axes>"
      ]
     },
     "metadata": {
      "needs_background": "light"
     },
     "output_type": "display_data"
    }
   ],
   "source": [
    "df['Marital_Status'].sort_values().hist()"
   ]
  },
  {
   "cell_type": "code",
   "execution_count": 27,
   "id": "4e2c0c9c",
   "metadata": {},
   "outputs": [
    {
     "data": {
      "text/plain": [
       "<AxesSubplot:>"
      ]
     },
     "execution_count": 27,
     "metadata": {},
     "output_type": "execute_result"
    },
    {
     "data": {
      "image/png": "[encoded data removed]",
      "text/plain": [
       "<Figure size 432x288 with 1 Axes>"
      ]
     },
     "metadata": {
      "needs_background": "light"
     },
     "output_type": "display_data"
    }
   ],
   "source": [
    "df['Education'].sort_values().hist()"
   ]
  },
  {
   "cell_type": "code",
   "execution_count": 28,
   "id": "f588b960",
   "metadata": {},
   "outputs": [
    {
     "data": {
      "text/plain": [
       "<AxesSubplot:>"
      ]
     },
     "execution_count": 28,
     "metadata": {},
     "output_type": "execute_result"
    },
    {
     "data": {
      "image/png": "[encoded data removed]",
      "text/plain": [
       "<Figure size 432x288 with 1 Axes>"
      ]
     },
     "metadata": {
      "needs_background": "light"
     },
     "output_type": "display_data"
    }
   ],
   "source": [
    "df['Country'].sort_values().hist()"
   ]
  },
  {
   "cell_type": "code",
   "execution_count": 29,
   "id": "02831c2d",
   "metadata": {},
   "outputs": [],
   "source": [
    "# Коненчо, я делал это выборочно, но даже так видно, что есть очень мало значений одной категории, \n",
    "# что может быть интерпритированно как выброс. Давайте еще более точно посчитаем кол-во значений \n",
    "# и тогда уже придем в выводу"
   ]
  },
  {
   "cell_type": "code",
   "execution_count": 30,
   "id": "63511cce",
   "metadata": {},
   "outputs": [
    {
     "data": {
      "text/plain": [
       "SP     1084\n",
       "SA      331\n",
       "CA      264\n",
       "AUS     147\n",
       "IND     143\n",
       "GER     116\n",
       "US      105\n",
       "ME        3\n",
       "Name: Country, dtype: int64"
      ]
     },
     "execution_count": 30,
     "metadata": {},
     "output_type": "execute_result"
    }
   ],
   "source": [
    "# df['Country'].describe(include='all')\n",
    "df['Country'].value_counts()"
   ]
  },
  {
   "cell_type": "code",
   "execution_count": 31,
   "id": "ae0b10de",
   "metadata": {},
   "outputs": [
    {
     "data": {
      "text/plain": [
       "Married     850\n",
       "Together    566\n",
       "Single      467\n",
       "Divorced    227\n",
       "Widow        76\n",
       "Alone         3\n",
       "YOLO          2\n",
       "Absurd        2\n",
       "Name: Marital_Status, dtype: int64"
      ]
     },
     "execution_count": 31,
     "metadata": {},
     "output_type": "execute_result"
    }
   ],
   "source": [
    "df['Marital_Status'].value_counts()"
   ]
  },
  {
   "cell_type": "code",
   "execution_count": 32,
   "id": "48911084",
   "metadata": {},
   "outputs": [
    {
     "data": {
      "text/plain": [
       "Graduation    1104\n",
       "PhD            473\n",
       "Master         364\n",
       "2n Cycle       198\n",
       "Basic           54\n",
       "Name: Education, dtype: int64"
      ]
     },
     "execution_count": 32,
     "metadata": {},
     "output_type": "execute_result"
    }
   ],
   "source": [
    "df['Education'].value_counts()"
   ]
  },
  {
   "cell_type": "code",
   "execution_count": 33,
   "id": "6cfb986d",
   "metadata": {},
   "outputs": [],
   "source": [
    "# Все таки удалю некоторые, хотя я сам до конца не уверен, потому что, если строить всякие регрессии или класстеризации\n",
    "# то может быть полезно, убрать мало повторяющиеся значения, но тут мы просто анализируем покупки/строим графики\n",
    "# без сильной привязонности к категориальным признакам, поэтому хз"
   ]
  },
  {
   "cell_type": "code",
   "execution_count": 34,
   "id": "8ebf3050",
   "metadata": {},
   "outputs": [],
   "source": [
    "df.drop(df[df['Country'] == 'ME'].index, inplace = True)\n",
    "df.drop(df[df['Marital_Status'] == 'Absurd'].index, inplace = True)\n",
    "df.drop(df[df['Marital_Status'] == 'Alone'].index, inplace = True)\n",
    "df.drop(df[df['Marital_Status'] == 'YOLO'].index, inplace = True)"
   ]
  },
  {
   "cell_type": "code",
   "execution_count": 35,
   "id": "445fe8d7",
   "metadata": {},
   "outputs": [
    {
     "data": {
      "text/html": [
       "<div>\n",
       "<style scoped>\n",
       "    .dataframe tbody tr th:only-of-type {\n",
       "        vertical-align: middle;\n",
       "    }\n",
       "\n",
       "    .dataframe tbody tr th {\n",
       "        vertical-align: top;\n",
       "    }\n",
       "\n",
       "    .dataframe thead th {\n",
       "        text-align: right;\n",
       "    }\n",
       "</style>\n",
       "<table border=\"1\" class=\"dataframe\">\n",
       "  <thead>\n",
       "    <tr style=\"text-align: right;\">\n",
       "      <th></th>\n",
       "      <th>ID</th>\n",
       "      <th>Year_Birth</th>\n",
       "      <th>Income</th>\n",
       "      <th>Kidhome</th>\n",
       "      <th>Teenhome</th>\n",
       "      <th>Recency</th>\n",
       "      <th>MntWines</th>\n",
       "      <th>MntFruits</th>\n",
       "      <th>MntMeatProducts</th>\n",
       "      <th>MntFishProducts</th>\n",
       "      <th>...</th>\n",
       "      <th>NumCatalogPurchases</th>\n",
       "      <th>NumStorePurchases</th>\n",
       "      <th>NumWebVisitsMonth</th>\n",
       "      <th>AcceptedCmp3</th>\n",
       "      <th>AcceptedCmp4</th>\n",
       "      <th>AcceptedCmp5</th>\n",
       "      <th>AcceptedCmp1</th>\n",
       "      <th>AcceptedCmp2</th>\n",
       "      <th>Response</th>\n",
       "      <th>Complain</th>\n",
       "    </tr>\n",
       "  </thead>\n",
       "  <tbody>\n",
       "    <tr>\n",
       "      <th>count</th>\n",
       "      <td>2183.000000</td>\n",
       "      <td>2183.000000</td>\n",
       "      <td>2183.000000</td>\n",
       "      <td>2183.000000</td>\n",
       "      <td>2183.000000</td>\n",
       "      <td>2183.000000</td>\n",
       "      <td>2183.000000</td>\n",
       "      <td>2183.000000</td>\n",
       "      <td>2183.000000</td>\n",
       "      <td>2183.000000</td>\n",
       "      <td>...</td>\n",
       "      <td>2183.000000</td>\n",
       "      <td>2183.000000</td>\n",
       "      <td>2183.000000</td>\n",
       "      <td>2183.000000</td>\n",
       "      <td>2183.000000</td>\n",
       "      <td>2183.000000</td>\n",
       "      <td>2183.000000</td>\n",
       "      <td>2183.000000</td>\n",
       "      <td>2183.000000</td>\n",
       "      <td>2183.000000</td>\n",
       "    </tr>\n",
       "    <tr>\n",
       "      <th>mean</th>\n",
       "      <td>5579.696748</td>\n",
       "      <td>1968.876317</td>\n",
       "      <td>51639.208887</td>\n",
       "      <td>0.443885</td>\n",
       "      <td>0.507558</td>\n",
       "      <td>49.191480</td>\n",
       "      <td>306.343564</td>\n",
       "      <td>26.397160</td>\n",
       "      <td>165.071461</td>\n",
       "      <td>37.665140</td>\n",
       "      <td>...</td>\n",
       "      <td>2.628035</td>\n",
       "      <td>5.834173</td>\n",
       "      <td>5.322034</td>\n",
       "      <td>0.073752</td>\n",
       "      <td>0.073752</td>\n",
       "      <td>0.071461</td>\n",
       "      <td>0.062758</td>\n",
       "      <td>0.013284</td>\n",
       "      <td>0.148420</td>\n",
       "      <td>0.009162</td>\n",
       "    </tr>\n",
       "    <tr>\n",
       "      <th>std</th>\n",
       "      <td>3245.026478</td>\n",
       "      <td>11.699072</td>\n",
       "      <td>20456.496592</td>\n",
       "      <td>0.537706</td>\n",
       "      <td>0.544797</td>\n",
       "      <td>28.927863</td>\n",
       "      <td>337.722595</td>\n",
       "      <td>39.666394</td>\n",
       "      <td>215.730725</td>\n",
       "      <td>54.588932</td>\n",
       "      <td>...</td>\n",
       "      <td>2.736182</td>\n",
       "      <td>3.224702</td>\n",
       "      <td>2.351415</td>\n",
       "      <td>0.261426</td>\n",
       "      <td>0.261426</td>\n",
       "      <td>0.257653</td>\n",
       "      <td>0.242582</td>\n",
       "      <td>0.114516</td>\n",
       "      <td>0.355597</td>\n",
       "      <td>0.095299</td>\n",
       "    </tr>\n",
       "    <tr>\n",
       "      <th>min</th>\n",
       "      <td>0.000000</td>\n",
       "      <td>1940.000000</td>\n",
       "      <td>5648.000000</td>\n",
       "      <td>0.000000</td>\n",
       "      <td>0.000000</td>\n",
       "      <td>0.000000</td>\n",
       "      <td>0.000000</td>\n",
       "      <td>0.000000</td>\n",
       "      <td>0.000000</td>\n",
       "      <td>0.000000</td>\n",
       "      <td>...</td>\n",
       "      <td>0.000000</td>\n",
       "      <td>0.000000</td>\n",
       "      <td>0.000000</td>\n",
       "      <td>0.000000</td>\n",
       "      <td>0.000000</td>\n",
       "      <td>0.000000</td>\n",
       "      <td>0.000000</td>\n",
       "      <td>0.000000</td>\n",
       "      <td>0.000000</td>\n",
       "      <td>0.000000</td>\n",
       "    </tr>\n",
       "    <tr>\n",
       "      <th>25%</th>\n",
       "      <td>2812.500000</td>\n",
       "      <td>1959.000000</td>\n",
       "      <td>35284.000000</td>\n",
       "      <td>0.000000</td>\n",
       "      <td>0.000000</td>\n",
       "      <td>24.000000</td>\n",
       "      <td>24.000000</td>\n",
       "      <td>2.000000</td>\n",
       "      <td>16.000000</td>\n",
       "      <td>3.000000</td>\n",
       "      <td>...</td>\n",
       "      <td>0.000000</td>\n",
       "      <td>3.000000</td>\n",
       "      <td>3.000000</td>\n",
       "      <td>0.000000</td>\n",
       "      <td>0.000000</td>\n",
       "      <td>0.000000</td>\n",
       "      <td>0.000000</td>\n",
       "      <td>0.000000</td>\n",
       "      <td>0.000000</td>\n",
       "      <td>0.000000</td>\n",
       "    </tr>\n",
       "    <tr>\n",
       "      <th>50%</th>\n",
       "      <td>5455.000000</td>\n",
       "      <td>1970.000000</td>\n",
       "      <td>51315.000000</td>\n",
       "      <td>0.000000</td>\n",
       "      <td>0.000000</td>\n",
       "      <td>50.000000</td>\n",
       "      <td>178.000000</td>\n",
       "      <td>8.000000</td>\n",
       "      <td>68.000000</td>\n",
       "      <td>12.000000</td>\n",
       "      <td>...</td>\n",
       "      <td>2.000000</td>\n",
       "      <td>5.000000</td>\n",
       "      <td>6.000000</td>\n",
       "      <td>0.000000</td>\n",
       "      <td>0.000000</td>\n",
       "      <td>0.000000</td>\n",
       "      <td>0.000000</td>\n",
       "      <td>0.000000</td>\n",
       "      <td>0.000000</td>\n",
       "      <td>0.000000</td>\n",
       "    </tr>\n",
       "    <tr>\n",
       "      <th>75%</th>\n",
       "      <td>8415.000000</td>\n",
       "      <td>1977.000000</td>\n",
       "      <td>68211.000000</td>\n",
       "      <td>1.000000</td>\n",
       "      <td>1.000000</td>\n",
       "      <td>74.000000</td>\n",
       "      <td>506.000000</td>\n",
       "      <td>33.000000</td>\n",
       "      <td>232.500000</td>\n",
       "      <td>50.000000</td>\n",
       "      <td>...</td>\n",
       "      <td>4.000000</td>\n",
       "      <td>8.000000</td>\n",
       "      <td>7.000000</td>\n",
       "      <td>0.000000</td>\n",
       "      <td>0.000000</td>\n",
       "      <td>0.000000</td>\n",
       "      <td>0.000000</td>\n",
       "      <td>0.000000</td>\n",
       "      <td>0.000000</td>\n",
       "      <td>0.000000</td>\n",
       "    </tr>\n",
       "    <tr>\n",
       "      <th>max</th>\n",
       "      <td>11191.000000</td>\n",
       "      <td>1996.000000</td>\n",
       "      <td>98777.000000</td>\n",
       "      <td>2.000000</td>\n",
       "      <td>2.000000</td>\n",
       "      <td>99.000000</td>\n",
       "      <td>1493.000000</td>\n",
       "      <td>199.000000</td>\n",
       "      <td>984.000000</td>\n",
       "      <td>259.000000</td>\n",
       "      <td>...</td>\n",
       "      <td>11.000000</td>\n",
       "      <td>13.000000</td>\n",
       "      <td>20.000000</td>\n",
       "      <td>1.000000</td>\n",
       "      <td>1.000000</td>\n",
       "      <td>1.000000</td>\n",
       "      <td>1.000000</td>\n",
       "      <td>1.000000</td>\n",
       "      <td>1.000000</td>\n",
       "      <td>1.000000</td>\n",
       "    </tr>\n",
       "  </tbody>\n",
       "</table>\n",
       "<p>8 rows × 24 columns</p>\n",
       "</div>"
      ],
      "text/plain": [
       "                 ID   Year_Birth        Income      Kidhome     Teenhome  \\\n",
       "count   2183.000000  2183.000000   2183.000000  2183.000000  2183.000000   \n",
       "mean    5579.696748  1968.876317  51639.208887     0.443885     0.507558   \n",
       "std     3245.026478    11.699072  20456.496592     0.537706     0.544797   \n",
       "min        0.000000  1940.000000   5648.000000     0.000000     0.000000   \n",
       "25%     2812.500000  1959.000000  35284.000000     0.000000     0.000000   \n",
       "50%     5455.000000  1970.000000  51315.000000     0.000000     0.000000   \n",
       "75%     8415.000000  1977.000000  68211.000000     1.000000     1.000000   \n",
       "max    11191.000000  1996.000000  98777.000000     2.000000     2.000000   \n",
       "\n",
       "           Recency     MntWines    MntFruits  MntMeatProducts  \\\n",
       "count  2183.000000  2183.000000  2183.000000      2183.000000   \n",
       "mean     49.191480   306.343564    26.397160       165.071461   \n",
       "std      28.927863   337.722595    39.666394       215.730725   \n",
       "min       0.000000     0.000000     0.000000         0.000000   \n",
       "25%      24.000000    24.000000     2.000000        16.000000   \n",
       "50%      50.000000   178.000000     8.000000        68.000000   \n",
       "75%      74.000000   506.000000    33.000000       232.500000   \n",
       "max      99.000000  1493.000000   199.000000       984.000000   \n",
       "\n",
       "       MntFishProducts  ...  NumCatalogPurchases  NumStorePurchases  \\\n",
       "count      2183.000000  ...          2183.000000        2183.000000   \n",
       "mean         37.665140  ...             2.628035           5.834173   \n",
       "std          54.588932  ...             2.736182           3.224702   \n",
       "min           0.000000  ...             0.000000           0.000000   \n",
       "25%           3.000000  ...             0.000000           3.000000   \n",
       "50%          12.000000  ...             2.000000           5.000000   \n",
       "75%          50.000000  ...             4.000000           8.000000   \n",
       "max         259.000000  ...            11.000000          13.000000   \n",
       "\n",
       "       NumWebVisitsMonth  AcceptedCmp3  AcceptedCmp4  AcceptedCmp5  \\\n",
       "count        2183.000000   2183.000000   2183.000000   2183.000000   \n",
       "mean            5.322034      0.073752      0.073752      0.071461   \n",
       "std             2.351415      0.261426      0.261426      0.257653   \n",
       "min             0.000000      0.000000      0.000000      0.000000   \n",
       "25%             3.000000      0.000000      0.000000      0.000000   \n",
       "50%             6.000000      0.000000      0.000000      0.000000   \n",
       "75%             7.000000      0.000000      0.000000      0.000000   \n",
       "max            20.000000      1.000000      1.000000      1.000000   \n",
       "\n",
       "       AcceptedCmp1  AcceptedCmp2     Response     Complain  \n",
       "count   2183.000000   2183.000000  2183.000000  2183.000000  \n",
       "mean       0.062758      0.013284     0.148420     0.009162  \n",
       "std        0.242582      0.114516     0.355597     0.095299  \n",
       "min        0.000000      0.000000     0.000000     0.000000  \n",
       "25%        0.000000      0.000000     0.000000     0.000000  \n",
       "50%        0.000000      0.000000     0.000000     0.000000  \n",
       "75%        0.000000      0.000000     0.000000     0.000000  \n",
       "max        1.000000      1.000000     1.000000     1.000000  \n",
       "\n",
       "[8 rows x 24 columns]"
      ]
     },
     "execution_count": 35,
     "metadata": {},
     "output_type": "execute_result"
    }
   ],
   "source": [
    "df.describe() "
   ]
  },
  {
   "cell_type": "code",
   "execution_count": 36,
   "id": "06d6d8eb",
   "metadata": {},
   "outputs": [],
   "source": [
    "# Распределение стало лучше, держу в курсе"
   ]
  },
  {
   "cell_type": "markdown",
   "id": "303bdeed",
   "metadata": {},
   "source": [
    "## Задание 3 (1 балл): новые признаки"
   ]
  },
  {
   "cell_type": "markdown",
   "id": "bb465340",
   "metadata": {},
   "source": [
    "Подумайте, какие осмысленные признаки можно создать из имеющихся? Придумайте как минимум 2 и добавьте их, содержательно описав, почему вы их добавляете и по какому принципу."
   ]
  },
  {
   "cell_type": "code",
   "execution_count": 37,
   "id": "02324d8f",
   "metadata": {},
   "outputs": [],
   "source": [
    "# кол-во лет информативнее, сумма покупок может выступать как целевая переменная, в общем логичнА\n",
    "now = 2022\n",
    "df['Age'] = now - df['Year_Birth']\n",
    "df.drop(columns = ['Year_Birth'],axis = 1)\n",
    "\n",
    "df['TotalPurchases'] = df[[col for col in df.columns if 'Purchases' in col]].sum(axis=1)"
   ]
  },
  {
   "cell_type": "markdown",
   "id": "7824ea50",
   "metadata": {},
   "source": [
    "## Задание 4 (2.5 балла): время статистики!"
   ]
  },
  {
   "cell_type": "markdown",
   "id": "816ac1bc",
   "metadata": {},
   "source": [
    "Рассчитайте все описательные статистики для категориальных переменных (есть специальный метод, который выводит все доступные статистики разом - это то, что нужно!). Опишите, какие выводы вы можете сделать из полученных данных."
   ]
  },
  {
   "cell_type": "code",
   "execution_count": 38,
   "id": "dce51737",
   "metadata": {},
   "outputs": [
    {
     "data": {
      "text/plain": [
       "Graduation    1101\n",
       "PhD            469\n",
       "Master         361\n",
       "2n Cycle       198\n",
       "Basic           54\n",
       "Name: Education, dtype: int64"
      ]
     },
     "metadata": {},
     "output_type": "display_data"
    },
    {
     "data": {
      "text/plain": [
       "Married     850\n",
       "Together    565\n",
       "Single      465\n",
       "Divorced    227\n",
       "Widow        76\n",
       "Name: Marital_Status, dtype: int64"
      ]
     },
     "metadata": {},
     "output_type": "display_data"
    },
    {
     "data": {
      "text/plain": [
       "2012-08-31    12\n",
       "2013-02-14    11\n",
       "2012-09-12    11\n",
       "2014-05-22    10\n",
       "2014-05-12    10\n",
       "              ..\n",
       "2014-06-04     1\n",
       "2014-01-09     1\n",
       "2013-11-09     1\n",
       "2013-05-16     1\n",
       "2012-09-01     1\n",
       "Name: Dt_Customer, Length: 662, dtype: int64"
      ]
     },
     "metadata": {},
     "output_type": "display_data"
    },
    {
     "data": {
      "text/plain": [
       "SP     1084\n",
       "SA      331\n",
       "CA      259\n",
       "AUS     146\n",
       "IND     142\n",
       "GER     116\n",
       "US      105\n",
       "Name: Country, dtype: int64"
      ]
     },
     "metadata": {},
     "output_type": "display_data"
    }
   ],
   "source": [
    "# https://stackoverflow.com/questions/29803093/check-which-columns-in-dataframe-are-categorical\n",
    "categorical = df.select_dtypes(exclude = np.number)\n",
    "for i in categorical.columns:\n",
    "    display(categorical[i].value_counts())"
   ]
  },
  {
   "cell_type": "code",
   "execution_count": 39,
   "id": "b7d26944",
   "metadata": {},
   "outputs": [
    {
     "data": {
      "text/plain": [
       "Education           5\n",
       "Marital_Status      5\n",
       "Dt_Customer       662\n",
       "Country             7\n",
       "dtype: int64"
      ]
     },
     "metadata": {},
     "output_type": "display_data"
    }
   ],
   "source": [
    "display(categorical.nunique())"
   ]
  },
  {
   "cell_type": "markdown",
   "id": "2f767778",
   "metadata": {},
   "source": [
    "Рассчитайте все описательные статистики для количественных переменных.  (есть специальный метод, который выводит все доступные статистики разом - это то, что нужно!) Опишите, какие выводы вы можете сделать из полученных данных (хотя бы про какие-то 3 признака)."
   ]
  },
  {
   "cell_type": "code",
   "execution_count": 40,
   "id": "b11d3686",
   "metadata": {
    "scrolled": true
   },
   "outputs": [
    {
     "data": {
      "text/plain": [
       "1826     1\n",
       "4548     1\n",
       "9503     1\n",
       "10704    1\n",
       "2669     1\n",
       "        ..\n",
       "569      1\n",
       "5025     1\n",
       "5832     1\n",
       "3262     1\n",
       "4070     1\n",
       "Name: ID, Length: 2183, dtype: int64"
      ]
     },
     "metadata": {},
     "output_type": "display_data"
    },
    {
     "data": {
      "text/plain": [
       "1976    87\n",
       "1971    84\n",
       "1975    81\n",
       "1972    78\n",
       "1978    76\n",
       "1970    74\n",
       "1965    73\n",
       "1969    69\n",
       "1974    68\n",
       "1973    67\n",
       "1956    55\n",
       "1979    52\n",
       "1952    52\n",
       "1968    51\n",
       "1958    51\n",
       "1966    50\n",
       "1959    50\n",
       "1977    49\n",
       "1960    49\n",
       "1954    49\n",
       "1955    48\n",
       "1962    44\n",
       "1967    44\n",
       "1963    43\n",
       "1982    43\n",
       "1951    42\n",
       "1986    41\n",
       "1964    41\n",
       "1983    40\n",
       "1957    40\n",
       "1980    39\n",
       "1984    38\n",
       "1981    38\n",
       "1953    35\n",
       "1961    35\n",
       "1985    32\n",
       "1989    29\n",
       "1950    29\n",
       "1949    28\n",
       "1988    28\n",
       "1987    27\n",
       "1948    21\n",
       "1990    18\n",
       "1947    16\n",
       "1946    16\n",
       "1991    15\n",
       "1992    13\n",
       "1944     7\n",
       "1945     7\n",
       "1943     6\n",
       "1995     5\n",
       "1994     3\n",
       "1993     3\n",
       "1996     2\n",
       "1941     1\n",
       "1940     1\n",
       "Name: Year_Birth, dtype: int64"
      ]
     },
     "metadata": {},
     "output_type": "display_data"
    },
    {
     "data": {
      "text/plain": [
       "7500.0     12\n",
       "39922.0     3\n",
       "18690.0     3\n",
       "46098.0     3\n",
       "63841.0     3\n",
       "           ..\n",
       "33697.0     1\n",
       "21063.0     1\n",
       "61346.0     1\n",
       "46086.0     1\n",
       "94871.0     1\n",
       "Name: Income, Length: 1948, dtype: int64"
      ]
     },
     "metadata": {},
     "output_type": "display_data"
    },
    {
     "data": {
      "text/plain": [
       "0    1260\n",
       "1     877\n",
       "2      46\n",
       "Name: Kidhome, dtype: int64"
      ]
     },
     "metadata": {},
     "output_type": "display_data"
    },
    {
     "data": {
      "text/plain": [
       "0    1126\n",
       "1    1006\n",
       "2      51\n",
       "Name: Teenhome, dtype: int64"
      ]
     },
     "metadata": {},
     "output_type": "display_data"
    },
    {
     "data": {
      "text/plain": [
       "56    36\n",
       "30    32\n",
       "54    31\n",
       "46    31\n",
       "92    30\n",
       "      ..\n",
       "69    14\n",
       "5     13\n",
       "22    13\n",
       "7     12\n",
       "44    11\n",
       "Name: Recency, Length: 100, dtype: int64"
      ]
     },
     "metadata": {},
     "output_type": "display_data"
    },
    {
     "data": {
      "text/plain": [
       "2      39\n",
       "6      36\n",
       "5      35\n",
       "4      33\n",
       "1      33\n",
       "       ..\n",
       "731     1\n",
       "913     1\n",
       "294     1\n",
       "262     1\n",
       "169     1\n",
       "Name: MntWines, Length: 770, dtype: int64"
      ]
     },
     "metadata": {},
     "output_type": "display_data"
    },
    {
     "data": {
      "text/plain": [
       "0      389\n",
       "1      150\n",
       "2      117\n",
       "3      112\n",
       "4      101\n",
       "      ... \n",
       "148      1\n",
       "154      1\n",
       "140      1\n",
       "189      1\n",
       "143      1\n",
       "Name: MntFruits, Length: 157, dtype: int64"
      ]
     },
     "metadata": {},
     "output_type": "display_data"
    },
    {
     "data": {
      "text/plain": [
       "7      52\n",
       "5      49\n",
       "11     49\n",
       "8      43\n",
       "6      42\n",
       "       ..\n",
       "569     1\n",
       "174     1\n",
       "185     1\n",
       "274     1\n",
       "701     1\n",
       "Name: MntMeatProducts, Length: 547, dtype: int64"
      ]
     },
     "metadata": {},
     "output_type": "display_data"
    },
    {
     "data": {
      "text/plain": [
       "0      377\n",
       "2      148\n",
       "3      128\n",
       "4      105\n",
       "6       81\n",
       "      ... \n",
       "231      1\n",
       "247      1\n",
       "218      1\n",
       "198      1\n",
       "167      1\n",
       "Name: MntFishProducts, Length: 182, dtype: int64"
      ]
     },
     "metadata": {},
     "output_type": "display_data"
    },
    {
     "data": {
      "text/plain": [
       "0      408\n",
       "1      153\n",
       "2      121\n",
       "3       97\n",
       "4       78\n",
       "      ... \n",
       "191      1\n",
       "176      1\n",
       "99       1\n",
       "196      1\n",
       "113      1\n",
       "Name: MntSweetProducts, Length: 175, dtype: int64"
      ]
     },
     "metadata": {},
     "output_type": "display_data"
    },
    {
     "data": {
      "text/plain": [
       "4      68\n",
       "3      67\n",
       "12     62\n",
       "1      62\n",
       "5      62\n",
       "       ..\n",
       "169     1\n",
       "160     1\n",
       "204     1\n",
       "173     1\n",
       "123     1\n",
       "Name: MntGoldProds, Length: 207, dtype: int64"
      ]
     },
     "metadata": {},
     "output_type": "display_data"
    },
    {
     "data": {
      "text/plain": [
       "1     954\n",
       "2     491\n",
       "3     292\n",
       "4     185\n",
       "5      91\n",
       "6      60\n",
       "7      39\n",
       "0      31\n",
       "8      14\n",
       "9       8\n",
       "11      5\n",
       "10      5\n",
       "12      3\n",
       "13      3\n",
       "15      2\n",
       "Name: NumDealsPurchases, dtype: int64"
      ]
     },
     "metadata": {},
     "output_type": "display_data"
    },
    {
     "data": {
      "text/plain": [
       "2     366\n",
       "1     344\n",
       "3     331\n",
       "4     275\n",
       "5     219\n",
       "6     198\n",
       "7     151\n",
       "8     102\n",
       "9      74\n",
       "11     43\n",
       "10     42\n",
       "0      37\n",
       "23      1\n",
       "Name: NumWebPurchases, dtype: int64"
      ]
     },
     "metadata": {},
     "output_type": "display_data"
    },
    {
     "data": {
      "text/plain": [
       "0     563\n",
       "1     486\n",
       "2     274\n",
       "3     182\n",
       "4     180\n",
       "5     135\n",
       "6     126\n",
       "7      79\n",
       "8      53\n",
       "10     46\n",
       "9      40\n",
       "11     19\n",
       "Name: NumCatalogPurchases, dtype: int64"
      ]
     },
     "metadata": {},
     "output_type": "display_data"
    },
    {
     "data": {
      "text/plain": [
       "3     483\n",
       "4     316\n",
       "2     217\n",
       "5     211\n",
       "6     173\n",
       "8     146\n",
       "7     139\n",
       "10    123\n",
       "9     106\n",
       "12    104\n",
       "13     80\n",
       "11     80\n",
       "1       3\n",
       "0       2\n",
       "Name: NumStorePurchases, dtype: int64"
      ]
     },
     "metadata": {},
     "output_type": "display_data"
    },
    {
     "data": {
      "text/plain": [
       "7     387\n",
       "8     335\n",
       "6     333\n",
       "5     277\n",
       "4     215\n",
       "3     202\n",
       "2     197\n",
       "1     142\n",
       "9      82\n",
       "0       6\n",
       "10      3\n",
       "20      2\n",
       "17      1\n",
       "19      1\n",
       "Name: NumWebVisitsMonth, dtype: int64"
      ]
     },
     "metadata": {},
     "output_type": "display_data"
    },
    {
     "data": {
      "text/plain": [
       "0    2022\n",
       "1     161\n",
       "Name: AcceptedCmp3, dtype: int64"
      ]
     },
     "metadata": {},
     "output_type": "display_data"
    },
    {
     "data": {
      "text/plain": [
       "0    2022\n",
       "1     161\n",
       "Name: AcceptedCmp4, dtype: int64"
      ]
     },
     "metadata": {},
     "output_type": "display_data"
    },
    {
     "data": {
      "text/plain": [
       "0    2027\n",
       "1     156\n",
       "Name: AcceptedCmp5, dtype: int64"
      ]
     },
     "metadata": {},
     "output_type": "display_data"
    },
    {
     "data": {
      "text/plain": [
       "0    2046\n",
       "1     137\n",
       "Name: AcceptedCmp1, dtype: int64"
      ]
     },
     "metadata": {},
     "output_type": "display_data"
    },
    {
     "data": {
      "text/plain": [
       "0    2154\n",
       "1      29\n",
       "Name: AcceptedCmp2, dtype: int64"
      ]
     },
     "metadata": {},
     "output_type": "display_data"
    },
    {
     "data": {
      "text/plain": [
       "0    1859\n",
       "1     324\n",
       "Name: Response, dtype: int64"
      ]
     },
     "metadata": {},
     "output_type": "display_data"
    },
    {
     "data": {
      "text/plain": [
       "0    2163\n",
       "1      20\n",
       "Name: Complain, dtype: int64"
      ]
     },
     "metadata": {},
     "output_type": "display_data"
    },
    {
     "data": {
      "text/plain": [
       "46    87\n",
       "51    84\n",
       "47    81\n",
       "50    78\n",
       "44    76\n",
       "52    74\n",
       "57    73\n",
       "53    69\n",
       "48    68\n",
       "49    67\n",
       "66    55\n",
       "43    52\n",
       "70    52\n",
       "54    51\n",
       "64    51\n",
       "56    50\n",
       "63    50\n",
       "45    49\n",
       "62    49\n",
       "68    49\n",
       "67    48\n",
       "60    44\n",
       "55    44\n",
       "59    43\n",
       "40    43\n",
       "71    42\n",
       "36    41\n",
       "58    41\n",
       "39    40\n",
       "65    40\n",
       "42    39\n",
       "38    38\n",
       "41    38\n",
       "69    35\n",
       "61    35\n",
       "37    32\n",
       "33    29\n",
       "72    29\n",
       "73    28\n",
       "34    28\n",
       "35    27\n",
       "74    21\n",
       "32    18\n",
       "75    16\n",
       "76    16\n",
       "31    15\n",
       "30    13\n",
       "78     7\n",
       "77     7\n",
       "79     6\n",
       "27     5\n",
       "28     3\n",
       "29     3\n",
       "26     2\n",
       "81     1\n",
       "82     1\n",
       "Name: Age, dtype: int64"
      ]
     },
     "metadata": {},
     "output_type": "display_data"
    },
    {
     "data": {
      "text/plain": [
       "7     148\n",
       "5     143\n",
       "4     124\n",
       "6     121\n",
       "17    113\n",
       "9     100\n",
       "16    100\n",
       "19     98\n",
       "20     94\n",
       "21     94\n",
       "8      93\n",
       "22     92\n",
       "23     86\n",
       "18     79\n",
       "10     78\n",
       "12     70\n",
       "15     69\n",
       "25     66\n",
       "26     65\n",
       "11     64\n",
       "24     55\n",
       "14     54\n",
       "13     44\n",
       "27     36\n",
       "28     34\n",
       "29     17\n",
       "32     12\n",
       "31     11\n",
       "30     10\n",
       "34      4\n",
       "33      4\n",
       "2       2\n",
       "35      1\n",
       "39      1\n",
       "1       1\n",
       "Name: TotalPurchases, dtype: int64"
      ]
     },
     "metadata": {},
     "output_type": "display_data"
    }
   ],
   "source": [
    "numerical = df.select_dtypes(include = np.number)\n",
    "for i in numerical.columns:\n",
    "    display(numerical[i].value_counts())"
   ]
  },
  {
   "cell_type": "code",
   "execution_count": 41,
   "id": "00853ba3",
   "metadata": {},
   "outputs": [
    {
     "data": {
      "text/plain": [
       "ID                     2183\n",
       "Year_Birth               56\n",
       "Income                 1948\n",
       "Kidhome                   3\n",
       "Teenhome                  3\n",
       "Recency                 100\n",
       "MntWines                770\n",
       "MntFruits               157\n",
       "MntMeatProducts         547\n",
       "MntFishProducts         182\n",
       "MntSweetProducts        175\n",
       "MntGoldProds            207\n",
       "NumDealsPurchases        15\n",
       "NumWebPurchases          13\n",
       "NumCatalogPurchases      12\n",
       "NumStorePurchases        14\n",
       "NumWebVisitsMonth        14\n",
       "AcceptedCmp3              2\n",
       "AcceptedCmp4              2\n",
       "AcceptedCmp5              2\n",
       "AcceptedCmp1              2\n",
       "AcceptedCmp2              2\n",
       "Response                  2\n",
       "Complain                  2\n",
       "Age                      56\n",
       "TotalPurchases           35\n",
       "dtype: int64"
      ]
     },
     "metadata": {},
     "output_type": "display_data"
    }
   ],
   "source": [
    "display(numerical.nunique())"
   ]
  },
  {
   "cell_type": "markdown",
   "id": "d164add7",
   "metadata": {},
   "source": [
    "Выберите 3 интересующих вас количественных признака и рассчитайте релевантные с вашей точки зрения описательные статистики для этих признаков, сгруппировав данные по семейному положению, образованию, стране. Какие закономерности вы можете отметить? Как их можно проинтерпретировать? "
   ]
  },
  {
   "cell_type": "code",
   "execution_count": 42,
   "id": "f51fba43",
   "metadata": {},
   "outputs": [],
   "source": [
    "df_num = df[['Income','Age','TotalPurchases']]\n",
    "df_cat = df[['Marital_Status','Education', 'Country']]"
   ]
  },
  {
   "cell_type": "code",
   "execution_count": 43,
   "id": "3970e087",
   "metadata": {},
   "outputs": [
    {
     "data": {
      "image/png": "[encoded data removed]",
      "text/plain": [
       "<Figure size 720x432 with 1 Axes>"
      ]
     },
     "metadata": {
      "needs_background": "light"
     },
     "output_type": "display_data"
    }
   ],
   "source": [
    "plt.figure(figsize=(10,6))\n",
    "df.groupby('Country')['TotalPurchases'].sum().plot(kind='bar', color='red')\n",
    "plt.title('TotalPurchases', size=15)\n",
    "plt.ylabel('Count')\n",
    "plt.grid()"
   ]
  },
  {
   "cell_type": "code",
   "execution_count": 44,
   "id": "41dc7921",
   "metadata": {},
   "outputs": [],
   "source": [
    "# Испания топ 1 по покупкам, но тут в целом данные в основном про них"
   ]
  },
  {
   "cell_type": "code",
   "execution_count": 45,
   "id": "4a015044",
   "metadata": {},
   "outputs": [
    {
     "data": {
      "image/png": "[encoded data removed]",
      "text/plain": [
       "<Figure size 1080x360 with 1 Axes>"
      ]
     },
     "metadata": {
      "needs_background": "light"
     },
     "output_type": "display_data"
    }
   ],
   "source": [
    "ax = sns.relplot(x='Marital_Status', y='Income',\n",
    "                 data = df[['Marital_Status', 'Income']].groupby('Marital_Status', as_index=False).mean(),\n",
    "                 color = 'red', kind=\"line\")\n",
    "ax.figure.set_size_inches(15, 5)\n",
    "ax.set(title='Mean income via marital status', xlabel='Marital_Status', ylabel='Mean Income')\n",
    "plt.grid()\n",
    "plt.show()"
   ]
  },
  {
   "cell_type": "code",
   "execution_count": 46,
   "id": "b9f0a236",
   "metadata": {},
   "outputs": [],
   "source": [
    "# Вдовы больше получают, хмм, https://www.nytimes.com/2018/11/17/business/widows-financial-independence.html\n",
    "# Интересный факт, у разведенных в среднем больше зарплата, вот здесь тоже что-то проаналированно\n",
    "# https://www.cnbc.com/2018/10/10/being-rich-may-increase-your-odds-of-divorce.html"
   ]
  },
  {
   "cell_type": "code",
   "execution_count": 47,
   "id": "cd30500f",
   "metadata": {},
   "outputs": [
    {
     "data": {
      "text/plain": [
       "56481.55263157895"
      ]
     },
     "execution_count": 47,
     "metadata": {},
     "output_type": "execute_result"
    }
   ],
   "source": [
    "df.loc[df['Marital_Status'] == 'Widow'].Income.mean()"
   ]
  },
  {
   "cell_type": "code",
   "execution_count": 48,
   "id": "3c26ccd6",
   "metadata": {},
   "outputs": [
    {
     "data": {
      "image/png": "[encoded data removed]",
      "text/plain": [
       "<Figure size 1080x360 with 1 Axes>"
      ]
     },
     "metadata": {
      "needs_background": "light"
     },
     "output_type": "display_data"
    }
   ],
   "source": [
    "ax = sns.relplot(x='Education', y='Income',\n",
    "                 data = df[['Education', 'Income']].groupby('Education', as_index=False).mean(), color = 'red', kind='line')\n",
    "ax.figure.set_size_inches(15, 5)\n",
    "ax.set(title='Mean income via education', xlabel='Education', ylabel='Mean income')\n",
    "plt.grid()\n",
    "plt.show()"
   ]
  },
  {
   "cell_type": "code",
   "execution_count": 49,
   "id": "6b08fa2a",
   "metadata": {},
   "outputs": [],
   "source": [
    "# Образование решает, но не всегда https://www.cnbc.com/2021/10/13/more-education-doesnt-always-get-you-more-money-report-finds.html"
   ]
  },
  {
   "cell_type": "code",
   "execution_count": 50,
   "id": "8ca63e1d",
   "metadata": {},
   "outputs": [
    {
     "data": {
      "text/plain": [
       "20306.25925925926"
      ]
     },
     "execution_count": 50,
     "metadata": {},
     "output_type": "execute_result"
    }
   ],
   "source": [
    "df.loc[df['Education'] == 'Basic'].Income.mean()"
   ]
  },
  {
   "cell_type": "code",
   "execution_count": 51,
   "id": "045ec796",
   "metadata": {},
   "outputs": [],
   "source": [
    "# Попытался поймать интересную особенность.\n",
    "# Больше всего PhD в Испании, и они зарабатывают в среднем так же, как простой житель Авсрии и Phd в Америке сильно больше"
   ]
  },
  {
   "cell_type": "markdown",
   "id": "c8f30646",
   "metadata": {},
   "source": [
    "## Задание 5 (1 балл): корреляции"
   ]
  },
  {
   "cell_type": "markdown",
   "id": "d5e4be43",
   "metadata": {},
   "source": [
    "Найдите три самых сильных линейных взаимосвязи.Опишите, между какими признаками вы их нашли и содержательно проинтерпретируйте, почему (с вашей точки зрения) эти показатели связаны. \n",
    "\n",
    "_важно: необходимо вывести именно с помощью кода 3 пары самых сильно скоррелированных признака, а не искать их глазами в матрице корреляций_"
   ]
  },
  {
   "cell_type": "code",
   "execution_count": 52,
   "id": "61fe82b0",
   "metadata": {},
   "outputs": [],
   "source": [
    "# уберем явно коррелирующие признаки\n",
    "corr_df = df.drop(columns=['ID', 'Year_Birth', 'Kidhome', 'Teenhome','Dt_Customer',\n",
    "                           'TotalPurchases','Complain',\n",
    "                      'AcceptedCmp1', 'AcceptedCmp2', 'AcceptedCmp3',\n",
    "                      'AcceptedCmp4', 'AcceptedCmp5', 'Response' ])"
   ]
  },
  {
   "cell_type": "code",
   "execution_count": 53,
   "id": "c7a81e25",
   "metadata": {},
   "outputs": [
    {
     "data": {
      "text/plain": [
       "Income           NumCatalogPurchases    0.735329\n",
       "                 MntWines               0.735014\n",
       "                 MntMeatProducts        0.727503\n",
       "MntMeatProducts  NumCatalogPurchases    0.709187\n",
       "MntWines         NumCatalogPurchases    0.690478\n",
       "Income           NumStorePurchases      0.685664\n",
       "                 NumWebVisitsMonth      0.650360\n",
       "MntWines         NumStorePurchases      0.637889\n",
       "MntMeatProducts  MntFishProducts        0.606920\n",
       "MntWines         MntMeatProducts        0.605620\n",
       "dtype: float64"
      ]
     },
     "execution_count": 53,
     "metadata": {},
     "output_type": "execute_result"
    }
   ],
   "source": [
    "# https://stackoverflow.com/questions/17778394/list-highest-correlation-pairs-from-a-large-correlation-matrix-in-pandas\n",
    "corr_matrix =corr_df.corr().abs()\n",
    "sol = (corr_matrix.where(np.triu(np.ones(corr_matrix.shape), k=1).astype(np.bool))\n",
    "                  .stack()\n",
    "                  .sort_values(ascending=False))\n",
    "sol.head(10)"
   ]
  },
  {
   "cell_type": "code",
   "execution_count": 54,
   "id": "fe8acff2",
   "metadata": {},
   "outputs": [],
   "source": [
    "# Больше денег, больше покупок! Вроде все и так логично...\n",
    "# https://www.usatoday.com/story/money/2019/08/05/income-increase-spending-more-dont-fall-prey-to-lifestyle-creep/39883509/"
   ]
  },
  {
   "cell_type": "markdown",
   "id": "6533d54b",
   "metadata": {},
   "source": [
    "## Задание 6 (2 балла) : визуализации"
   ]
  },
  {
   "cell_type": "markdown",
   "id": "0212ace5",
   "metadata": {},
   "source": [
    "Придумайте и постройте как минимум 6 содержательных визуализаций, которые будут иллюстрировать те или иные выводы, которые вы сделали на основе данных. К каждой визуализации должна прилагаться содержательная текстовая интерпретация. Каждая визуализация должна быть грамотно оформлена, с соблюдением всем правил. Необходимо задействовать не менее 4 типов диаграмм. "
   ]
  },
  {
   "cell_type": "code",
   "execution_count": 55,
   "id": "68e216ef",
   "metadata": {},
   "outputs": [
    {
     "data": {
      "image/png": "[encoded data removed]",
      "text/plain": [
       "<Figure size 1008x576 with 1 Axes>"
      ]
     },
     "metadata": {
      "needs_background": "light"
     },
     "output_type": "display_data"
    }
   ],
   "source": [
    "plt.figure(figsize=(14,8))\n",
    "plt.title(\"Age distribution schedule depending on some countries\")\n",
    "sns.distplot(df[(df['Country'] == 'US')]['Age'], color = 'y')\n",
    "sns.distplot(df[(df['Country'] == 'SP')]['Age'], color = 'blue')\n",
    "sns.distplot(df[(df['Country'] == 'GER')]['Age'], color = 'green')\n",
    "plt.grid()\n",
    "plt.show()"
   ]
  },
  {
   "cell_type": "code",
   "execution_count": 56,
   "id": "5cb048f1",
   "metadata": {},
   "outputs": [
    {
     "data": {
      "text/plain": [
       "(54.01904761904762, 53.140221402214024, 53.14655172413793)"
      ]
     },
     "execution_count": 56,
     "metadata": {},
     "output_type": "execute_result"
    }
   ],
   "source": [
    "( df[(df['Country'] == 'US')]['Age'].mean(), \n",
    " df[(df['Country'] == 'SP')]['Age'].mean(), \n",
    " df[(df['Country'] == 'GER')]['Age'].mean() )"
   ]
  },
  {
   "cell_type": "code",
   "execution_count": 57,
   "id": "f502afce",
   "metadata": {},
   "outputs": [],
   "source": [
    "# В целом жители данных европейских стран имеют высокий средний возраст"
   ]
  },
  {
   "cell_type": "code",
   "execution_count": 58,
   "id": "06e01519",
   "metadata": {},
   "outputs": [
    {
     "data": {
      "image/png": "[encoded data removed]",
      "text/plain": [
       "<Figure size 1008x576 with 1 Axes>"
      ]
     },
     "metadata": {
      "needs_background": "light"
     },
     "output_type": "display_data"
    }
   ],
   "source": [
    "plt.figure(figsize=(14,8))\n",
    "plt.title(\"Age distribution schedule depending on some countries and education = Master\")\n",
    "sns.distplot(df[(df['Country'] == 'US')& (df['Education'] == 'Master')]['Age'], color = 'r')\n",
    "sns.distplot(df[(df['Country'] == 'SP')& (df['Education'] == 'Master')]['Age'], color = 'blue')\n",
    "sns.distplot(df[(df['Country'] == 'GER')& (df['Education'] == 'Master')]['Age'], color = 'green')\n",
    "plt.grid()\n",
    "plt.show()"
   ]
  },
  {
   "cell_type": "code",
   "execution_count": 59,
   "id": "0c9ab44d",
   "metadata": {},
   "outputs": [
    {
     "data": {
      "text/plain": [
       "(58.93333333333333, 55.11764705882353, 55.89473684210526)"
      ]
     },
     "execution_count": 59,
     "metadata": {},
     "output_type": "execute_result"
    }
   ],
   "source": [
    "( df[(df['Country'] == 'US')& (df['Education'] == 'Master')]['Age'].mean(), \n",
    "df[(df['Country'] == 'SP')& (df['Education'] == 'Master')]['Age'].mean(),\n",
    "df[(df['Country'] == 'GER')& (df['Education'] == 'Master')]['Age'].mean() )"
   ]
  },
  {
   "cell_type": "code",
   "execution_count": 60,
   "id": "bbd26f71",
   "metadata": {},
   "outputs": [
    {
     "data": {
      "image/png": "[encoded data removed]",
      "text/plain": [
       "<Figure size 432x288 with 1 Axes>"
      ]
     },
     "metadata": {
      "needs_background": "light"
     },
     "output_type": "display_data"
    }
   ],
   "source": [
    "df1 = pd.DataFrame(np.random.rand(10, 4), columns=[\"Age\", \"Income\", \"SumPurchases\", \"SumMnt\"])\n",
    "\n",
    "df1.plot.box();\n",
    "# Наиболее успешными продуктами являются вино и мясо"
   ]
  },
  {
   "cell_type": "code",
   "execution_count": 61,
   "id": "91b76d4c",
   "metadata": {},
   "outputs": [
    {
     "name": "stdout",
     "output_type": "stream",
     "text": [
      "<class 'pandas.core.frame.DataFrame'>\n",
      "Int64Index: 2183 entries, 0 to 2192\n",
      "Data columns (total 30 columns):\n",
      " #   Column               Non-Null Count  Dtype         \n",
      "---  ------               --------------  -----         \n",
      " 0   ID                   2183 non-null   int64         \n",
      " 1   Year_Birth           2183 non-null   int64         \n",
      " 2   Education            2183 non-null   object        \n",
      " 3   Marital_Status       2183 non-null   object        \n",
      " 4   Income               2183 non-null   float64       \n",
      " 5   Kidhome              2183 non-null   int64         \n",
      " 6   Teenhome             2183 non-null   int64         \n",
      " 7   Dt_Customer          2183 non-null   datetime64[ns]\n",
      " 8   Recency              2183 non-null   int64         \n",
      " 9   MntWines             2183 non-null   int64         \n",
      " 10  MntFruits            2183 non-null   int64         \n",
      " 11  MntMeatProducts      2183 non-null   int64         \n",
      " 12  MntFishProducts      2183 non-null   int64         \n",
      " 13  MntSweetProducts     2183 non-null   int64         \n",
      " 14  MntGoldProds         2183 non-null   int64         \n",
      " 15  NumDealsPurchases    2183 non-null   int64         \n",
      " 16  NumWebPurchases      2183 non-null   int64         \n",
      " 17  NumCatalogPurchases  2183 non-null   int64         \n",
      " 18  NumStorePurchases    2183 non-null   int64         \n",
      " 19  NumWebVisitsMonth    2183 non-null   int64         \n",
      " 20  AcceptedCmp3         2183 non-null   int64         \n",
      " 21  AcceptedCmp4         2183 non-null   int64         \n",
      " 22  AcceptedCmp5         2183 non-null   int64         \n",
      " 23  AcceptedCmp1         2183 non-null   int64         \n",
      " 24  AcceptedCmp2         2183 non-null   int64         \n",
      " 25  Response             2183 non-null   int64         \n",
      " 26  Complain             2183 non-null   int64         \n",
      " 27  Country              2183 non-null   object        \n",
      " 28  Age                  2183 non-null   int64         \n",
      " 29  TotalPurchases       2183 non-null   int64         \n",
      "dtypes: datetime64[ns](1), float64(1), int64(25), object(3)\n",
      "memory usage: 528.7+ KB\n"
     ]
    }
   ],
   "source": [
    "df.info()"
   ]
  },
  {
   "cell_type": "code",
   "execution_count": 62,
   "id": "ad9d490d",
   "metadata": {},
   "outputs": [
    {
     "data": {
      "image/png": "[encoded data removed]",
      "text/plain": [
       "<Figure size 576x576 with 1 Axes>"
      ]
     },
     "metadata": {
      "needs_background": "light"
     },
     "output_type": "display_data"
    }
   ],
   "source": [
    "# https://stackoverflow.com/questions/35948995/seaborn-lmplot-got-an-unexpected-keyword-argument-figsize\n",
    "sns.lmplot(size = 8,markers=[\"o\"], x='Income',y='Age',data=df[['Age','Income']]).set(title='Dependence of income on age')\n",
    "plt.grid()\n",
    "plt.show()"
   ]
  },
  {
   "cell_type": "code",
   "execution_count": 63,
   "id": "659520c9",
   "metadata": {},
   "outputs": [
    {
     "data": {
      "text/plain": [
       "(55153.70107349298, 46923.535794183445)"
      ]
     },
     "execution_count": 63,
     "metadata": {},
     "output_type": "execute_result"
    }
   ],
   "source": [
    "# Чем старше, тем больше зарплата в среднем;)\n",
    "( df.loc[df['Age'] > 50].Income.mean(), df.loc[df['Age'] < 50].Income.mean() )"
   ]
  },
  {
   "cell_type": "code",
   "execution_count": 64,
   "id": "8de8c84d",
   "metadata": {},
   "outputs": [],
   "source": [
    "a = df['NumDealsPurchases'].sum()\n",
    "b = df['NumWebPurchases'].sum()\n",
    "c = df['NumCatalogPurchases'].sum()\n",
    "mnt_total = [a, b, c, df['NumStorePurchases'].sum(), df['NumWebVisitsMonth'].sum()]"
   ]
  },
  {
   "cell_type": "code",
   "execution_count": 65,
   "id": "310a24da",
   "metadata": {},
   "outputs": [
    {
     "data": {
      "image/png": "[encoded data removed]",
      "text/plain": [
       "<Figure size 720x360 with 1 Axes>"
      ]
     },
     "metadata": {},
     "output_type": "display_data"
    }
   ],
   "source": [
    "series = pd.Series(mnt_total, index=[\"ndp\", \"nwp\", \"ncp\", 'nsp', 'nwm'], name=\"Total Purchases\")\n",
    "\n",
    "series.plot.pie(figsize=(10, 5),autopct='%1.0f%%');"
   ]
  },
  {
   "cell_type": "code",
   "execution_count": 66,
   "id": "2cf57f02",
   "metadata": {},
   "outputs": [],
   "source": [
    "# Максимум у nsp, nwm, nwp - \n",
    "# 1. NumCatalogPurchases\n",
    "# 2. NumWebVisitsMonth\n",
    "# 3. NumWebPurchases"
   ]
  },
  {
   "cell_type": "code",
   "execution_count": 67,
   "id": "c9e95dbe",
   "metadata": {},
   "outputs": [
    {
     "data": {
      "text/plain": [
       "Text(0, 0.5, 'Count')"
      ]
     },
     "execution_count": 67,
     "metadata": {},
     "output_type": "execute_result"
    },
    {
     "data": {
      "image/png": "[encoded data removed]",
      "text/plain": [
       "<Figure size 792x432 with 1 Axes>"
      ]
     },
     "metadata": {
      "needs_background": "light"
     },
     "output_type": "display_data"
    }
   ],
   "source": [
    "plt.figure(figsize=(11,6))\n",
    "sns.distplot(df['TotalPurchases'], norm_hist=True, color = 'red')\n",
    "plt.title('Distribution of total purchase costs')\n",
    "plt.ylabel('Count')"
   ]
  },
  {
   "cell_type": "code",
   "execution_count": 68,
   "id": "a9920210",
   "metadata": {
    "scrolled": true
   },
   "outputs": [
    {
     "data": {
      "text/plain": [
       "Text(0.5, 1.0, 'Average spending on wine in different countries')"
      ]
     },
     "execution_count": 68,
     "metadata": {},
     "output_type": "execute_result"
    },
    {
     "data": {
      "image/png": "[encoded data removed]",
      "text/plain": [
       "<Figure size 1080x360 with 1 Axes>"
      ]
     },
     "metadata": {
      "needs_background": "light"
     },
     "output_type": "display_data"
    }
   ],
   "source": [
    "plt.figure(figsize=(15,5))\n",
    "df.groupby('Country')['MntWines'].mean().plot(kind='barh', color = 'red').set_title(\n",
    "    \"Average spending on wine in different countries\")"
   ]
  },
  {
   "cell_type": "code",
   "execution_count": 69,
   "id": "f52995d8",
   "metadata": {},
   "outputs": [],
   "source": [
    "# В SA тратят больше всего на вино. ПОДВЕРЖДЕНО\n",
    "# http://www.statssa.gov.za/?p=12169#:~:text=SA%20households%20spend%20more%20on%20wine%20than%20on%20coffee&text=Wine%20takes%20up%207%2C2,that%20households%20spend%20money%20on."
   ]
  },
  {
   "cell_type": "markdown",
   "id": "aa0b89fa",
   "metadata": {},
   "source": [
    "## Задание 7 (1 балл): немного исследований"
   ]
  },
  {
   "cell_type": "markdown",
   "id": "8a1a7c59",
   "metadata": {},
   "source": [
    "Попробуйте найти в данных какую-то классную интересную особенность. Может быть, рыбу едят только неженатые? Или самый большой заработок и потребление фруктов у людей без образования? Приведите все расчеты, и визуализации для обнаруженного факта. Он должен быть правда интересным и удивлять! Попробуйте описать, почему (как вам кажется) так получилось."
   ]
  },
  {
   "cell_type": "code",
   "execution_count": 70,
   "id": "4d84d27c",
   "metadata": {},
   "outputs": [
    {
     "data": {
      "text/plain": [
       "Text(0.5, 1.0, 'Зависимость трат на мясо от образования')"
      ]
     },
     "execution_count": 70,
     "metadata": {},
     "output_type": "execute_result"
    },
    {
     "data": {
      "image/png": "[encoded data removed]",
      "text/plain": [
       "<Figure size 1080x504 with 1 Axes>"
      ]
     },
     "metadata": {
      "needs_background": "light"
     },
     "output_type": "display_data"
    }
   ],
   "source": [
    "plt.figure(figsize=(15,7))\n",
    "sns.boxplot(x=df['Education'], y=df['MntWines'], \n",
    "            hue=df['Marital_Status']).set_title(\"Зависимость трат на мясо от образования\")"
   ]
  },
  {
   "cell_type": "code",
   "execution_count": 71,
   "id": "67f04926",
   "metadata": {},
   "outputs": [
    {
     "data": {
      "text/plain": [
       "(410.9488272921109,\n",
       " 332.9778393351801,\n",
       " 286.3496821071753,\n",
       " 202.75757575757575,\n",
       " 7.2407407407407405)"
      ]
     },
     "execution_count": 71,
     "metadata": {},
     "output_type": "execute_result"
    }
   ],
   "source": [
    "( df.loc[df['Education'] == 'PhD'].MntWines.mean(),\n",
    " df.loc[df['Education'] == 'Master'].MntWines.mean(),\n",
    " df.loc[df['Education'] == 'Graduation'].MntWines.mean(),\n",
    " df.loc[df['Education'] == '2n Cycle'].MntWines.mean(),\n",
    " df.loc[df['Education'] == 'Basic'].MntWines.mean()\n",
    ")"
   ]
  },
  {
   "cell_type": "code",
   "execution_count": 72,
   "id": "ff89a62e",
   "metadata": {},
   "outputs": [],
   "source": [
    "# В общем вино люди с PhD явно любят и не особо парятся где его брать, просто скорее всего есть отдельные места\n",
    "# типа кб, где дешевле, а тут статисктика с конкретного магазина, поэтому может люди менее образованые, но прошаренные\n",
    "# покупают это все в других местах\n",
    "# https://thesiswhisperer.com/2011/02/03/drinking-and-your-phd/"
   ]
  }
 ],
 "metadata": {
  "kernelspec": {
   "display_name": "Python 3 (ipykernel)",
   "language": "python",
   "name": "python3"
  },
  "language_info": {
   "codemirror_mode": {
    "name": "ipython",
    "version": 3
   },
   "file_extension": ".py",
   "mimetype": "text/x-python",
   "name": "python",
   "nbconvert_exporter": "python",
   "pygments_lexer": "ipython3",
   "version": "3.9.7"
  }
 },
 "nbformat": 4,
 "nbformat_minor": 5
}
