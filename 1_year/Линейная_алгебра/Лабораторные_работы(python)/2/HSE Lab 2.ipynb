{
 "cells": [
  {
   "cell_type": "markdown",
   "metadata": {},
   "source": [
    "# Лабораторная работа 2\n",
    "\n",
    "## Линейная регрессия"
   ]
  },
  {
   "cell_type": "markdown",
   "metadata": {},
   "source": [
    "### Метод наименьших квадратов: постановка задачи\n",
    "\n",
    "Рассмотрим систему уравнений $Xa = y$, в которой $a$ &mdash; столбец неизвестных. Её можно переписать в векторном виде\n",
    "$$x_1 a_1 + x_2 a_2 + \\ldots + x_k a_k = y,$$\n",
    "где $x_1,\\ldots,x_n$ &mdash; столбцы матрицы $X$. Таким образом, решить исходную систему означает найти линейную комбинацию векторов $x_1,\\ldots,x_n$, равную правой части. Но что делать, если такой линейной комбинации не существует? Геометрически это означает, что вектор $y$ не лежит в подпространстве $U = \\langle x_1,\\ldots, x_k\\rangle$. В этом случае мы можем найти *псевдорешение*: вектор коэффициентов $\\hat{a}$, для которого линейная комбинация $x_1 \\hat{a}_1 + x_2 \\hat{a}_2 + \\ldots + x_k \\hat{a}_k$ хоть и не равна в точности $y$, но является наилучшим приближением &mdash; то есть ближайшей к $y$ точкой $\\hat{y}$ подпространства $U$ (иными словами, ортогональной проекцией $y$ на это подпростанство). Итак, цель наших исканий можно сформулировать двумя эквивалентными способами:\n",
    "\n",
    "1. Найти вектор $\\hat{a}$, для которого длина разности $|X\\hat{a} - y|$ минимальна (отсюда название \"метод наименьших квадратов\");\n",
    "2. Найти ортогональную проекцию $\\hat{y}$ вектора $y$ на подпространство $U$ и представить её в виде $X\\hat{a}$.\n",
    "\n",
    "Далее мы будем предполагать, что векторы $x_1,\\ldots,x_n$ линейно независимы (если нет, то сначала имеет смысл выделить максимальную линейно независимую подсистему).\n",
    "\n",
    "На лекциях было показано, что проекция вектора $y$ на подпространство $U = \\langle x_1,\\ldots, x_k\\rangle$ записывается в виде\n",
    "$$\\hat{y} = X\\left(X^TX\\right)^{-1}X^Ty,$$\n",
    "и, соответственно, искомый вектор $\\hat{a}$ равен\n",
    "$$\\hat{a} = \\left(X^TX\\right)^{-1}X^Ty.$$"
   ]
  },
  {
   "cell_type": "markdown",
   "metadata": {},
   "source": [
    "### Задача линейной регрессии\n",
    "\n",
    "Начнём с примера. Допустим, вы хотите найти зависимость среднего балла S студента ФКН от его роста H, веса W, длины волос L и N &mdash; количества часов, которые он ежедневно посвящает учёбе. Представьте, что мы измерили все эти параметры для $n$ студентов и получили наборы значений $S_1,\\ldots, S_n$, $H_1,\\ldots, H_n$ и так далее.\n",
    "\n",
    "Тут можно подбирать много разных умных моделей, но начать имеет смысл с самой простой, линейной:\n",
    "$$S = a_1H + a_2W + a_3L + a_4N + a_5.$$\n",
    "Конечно, строгой линейной зависимости нет (иначе можно было бы радостно упразднить экзамены), но мы можем попробовать подобрать коэффициенты $a_1, a_2, a_3, a_4, a_5$, для которых отклонение правой части от наблюдаемых было бы наименьшим:\n",
    "$$\\sum_{i=1}^n\\left(S_i - ( a_1H_i + a_2W_i + a_3L_i + a_4N_i + a_5)\\right)^2 \\longrightarrow \\min$$\n",
    "И сразу видно, что мы получили задачу на метод наименьших квадратов! А именно, у нас\n",
    "$$X =\n",
    "\\begin{pmatrix}\n",
    "H_1 & W_1 & L_1 & N_1 & 1\\\\\n",
    "H_2 & W_2 & L_2 & N_2 & 1\\\\\n",
    "\\dots & \\dots & \\dots & \\dots & \\dots \\\\\n",
    "H_n & W_n & L_n & N_n & 1\n",
    "\\end{pmatrix},\\qquad y=\n",
    "\\begin{pmatrix}\n",
    "S_1\\\\ S_2\\\\ \\vdots \\\\ S_n\n",
    "\\end{pmatrix}$$\n",
    "\n",
    "Решая эту задачу с помощью уже известных формул, получаем оценки коэффициентов $\\hat{a}_i$ ($i = 1\\ldots,5$)."
   ]
  },
  {
   "cell_type": "markdown",
   "metadata": {},
   "source": [
    "Теперь проговорим общую постановку задачи линейной регрессии. У нас есть $k$ переменных $x_1,\\ldots,x_k$ (\"регрессоров\"), через которые мы хотим выразить \"объясняемую переменную\" $y$:\n",
    "$$y = a_1x_1 + a_2x_2 + \\ldots + a_kx_k$$\n",
    "Значения всех переменных мы измерили $n$ раз (у $n$ различных объектов, в $n$ различных моментов времени &mdash; это зависит от задачи). Подставим эти данные в предыдущее равенство:\n",
    "$$\\begin{pmatrix}\n",
    "y_1\\\\ y_2 \\\\ \\vdots \\\\ y_n\n",
    "\\end{pmatrix} = \n",
    "a_1\\begin{pmatrix}\n",
    "x_{11} \\\\ x_{21} \\\\ \\vdots \\\\ x_{n1} \\end{pmatrix} + a_2\\begin{pmatrix}\n",
    "x_{12} \\\\ x_{22} \\\\ \\vdots \\\\ x_{n2} \\end{pmatrix} + \\ldots + a_k\\begin{pmatrix}\n",
    "x_{1k} \\\\ x_{2k} \\\\ \\vdots \\\\ x_{nk} \\end{pmatrix}$$\n",
    "(здесь $x_{ij}$ &mdash; это значение $j$-го признака на $i$-м измерении). Это удобно переписать в матричном виде:\n",
    "$$\\begin{pmatrix}\n",
    "x_{11} & x_{12} & \\ldots & x_{1k}\\\\\n",
    "x_{21} & x_{22} & \\ldots & x_{2k}\\\\\n",
    "\\dots & \\dots & \\dots & \\dots\\\\\n",
    "x_{n1} & x_{n2} & \\ldots & x_{nk}\n",
    "\\end{pmatrix} \\cdot\n",
    "\\begin{pmatrix}\n",
    "a_1 \\\\ a_2 \\\\ \\vdots \\\\ a_k\n",
    "\\end{pmatrix} = \n",
    "\\begin{pmatrix}\n",
    "y_1 \\\\ y_2 \\\\ \\vdots \\\\ y_n\n",
    "\\end{pmatrix}$$\n",
    "или коротко $Xa = y$. Поскольку на практике эта система уравнений зачастую не имеет решения (ибо зависимости в жизни редко бывают действительно линейными), методом наименьших квадратов ищется псевдорешение."
   ]
  },
  {
   "cell_type": "markdown",
   "metadata": {},
   "source": [
    "### Оценка качества. Обобщающая способность. Обучение и тест \n",
    "\n",
    "После того, как вы построили регрессию и получили какую-то зависимость объясняемой переменной от регрессоров, настаёт время оценить качество регрессии. Есть много разных функционалов качества; мы пока будем говорить только о самом простом и очевидном из них &mdash; о среднеквадратичной ошибке (mean square error). Она равна\n",
    "$$\\frac1{n}|X\\hat{a} - y|^2 = \\frac1{n}\\sum_{i=1}^n\\left(\\hat{a}_1x_{i1} + \\hat{a}_2x_{i2} + \\ldots + \\hat{a}_kx_{ik} - y_i\\right)^2$$\n",
    "\n",
    "В целом хочется искать модели с наименьшей mean square error на имеющихся данных. Однако слишком фанатичная гонка за минимизацией ошибки может привести к печальным последствиям. Например, если мы приближаем функцию одной переменной по значениям в $n$ точках, то наилучшей с точки зрения этой ошибки моделью будет многочлен $(n-1)$-й степени, для которого эта ошибка будет равна нулю.  Тем не менее, вряд ли истинная зависимость имеет вид многочлена большой степени. Более того, значения вам скорее всего даны с погрешностью, то есть вы подогнали вашу модель под свои зашумлённые данные, но на любых других данных (то есть в других точках) точность, скорее всего, окажется совсем не такой хорошей. Этот эффект называют **переобучением**; говорят также, что **обобщающая способность** модели оказалась скверной.\n",
    "\n",
    "Чтобы не попадать в эту ловушку, данные обычно делят на обучающие (по которым строят модель и оценивают коэффициенты) и тестовые. Лучшей стоит счесть ту модель, для которой значение функционала качества будет меньше."
   ]
  },
  {
   "cell_type": "markdown",
   "metadata": {},
   "source": [
    "### Задание 1. Метод наименьших квадратов (4 балла)"
   ]
  },
  {
   "cell_type": "markdown",
   "metadata": {},
   "source": [
    "Скачайте файлы ``train.txt`` и ``test.txt``. В первом из них находится обучающая выборка, а во втором &mdash; тестовая. Каждый из файлов содержит два столбца чисел, разделённых пробелами: в первом &mdash; $n$ точек (значения аргумента $x$), во втором &mdash; значения некоторой функции $y = f(x)$ в этих точках, искажённые случайным шумом. Ваша задача &mdash; по обучающей выборке подобрать функцию $y = g(x)$, пристойно приближающую неизвестную вам зависимость."
   ]
  },
  {
   "cell_type": "markdown",
   "metadata": {},
   "source": [
    "Загрузим обучающие и тестовые данные (не забудьте ввести правильный путь!)."
   ]
  },
  {
   "cell_type": "code",
   "execution_count": 1,
   "metadata": {},
   "outputs": [
    {
     "ename": "ImportError",
     "evalue": "No module named pyparsing",
     "output_type": "error",
     "traceback": [
      "\u001b[0;31m\u001b[0m",
      "\u001b[0;31mImportError\u001b[0mTraceback (most recent call last)",
      "\u001b[0;32m<ipython-input-1-8fc8ab340571>\u001b[0m in \u001b[0;36m<module>\u001b[0;34m()\u001b[0m\n\u001b[1;32m      2\u001b[0m \u001b[0;34m\u001b[0m\u001b[0m\n\u001b[1;32m      3\u001b[0m \u001b[0;32mimport\u001b[0m \u001b[0mnumpy\u001b[0m \u001b[0;32mas\u001b[0m \u001b[0mnp\u001b[0m\u001b[0;34m\u001b[0m\u001b[0m\n\u001b[0;32m----> 4\u001b[0;31m \u001b[0;32mimport\u001b[0m \u001b[0mmatplotlib\u001b[0m\u001b[0;34m.\u001b[0m\u001b[0mpyplot\u001b[0m \u001b[0;32mas\u001b[0m \u001b[0mplt\u001b[0m\u001b[0;34m\u001b[0m\u001b[0m\n\u001b[0m\u001b[1;32m      5\u001b[0m \u001b[0;32mimport\u001b[0m \u001b[0mscipy\u001b[0m\u001b[0;34m.\u001b[0m\u001b[0mlinalg\u001b[0m \u001b[0;32mas\u001b[0m \u001b[0msla\u001b[0m\u001b[0;34m\u001b[0m\u001b[0m\n\u001b[1;32m      6\u001b[0m \u001b[0;32mfrom\u001b[0m \u001b[0mnumpy\u001b[0m\u001b[0;34m.\u001b[0m\u001b[0mpolynomial\u001b[0m \u001b[0;32mimport\u001b[0m \u001b[0mPolynomial\u001b[0m \u001b[0;32mas\u001b[0m \u001b[0mP\u001b[0m\u001b[0;34m\u001b[0m\u001b[0m\n",
      "\u001b[0;32m/usr/share/python/anytask/lib/python2.7/site-packages/matplotlib/__init__.py\u001b[0m in \u001b[0;36m<module>\u001b[0;34m()\u001b[0m\n\u001b[1;32m    122\u001b[0m \u001b[0;32mfrom\u001b[0m \u001b[0mmatplotlib\u001b[0m\u001b[0;34m.\u001b[0m\u001b[0mcbook\u001b[0m \u001b[0;32mimport\u001b[0m \u001b[0mis_string_like\u001b[0m\u001b[0;34m,\u001b[0m \u001b[0mmplDeprecation\u001b[0m\u001b[0;34m,\u001b[0m \u001b[0mdedent\u001b[0m\u001b[0;34m,\u001b[0m \u001b[0mget_label\u001b[0m\u001b[0;34m\u001b[0m\u001b[0m\n\u001b[1;32m    123\u001b[0m \u001b[0;32mfrom\u001b[0m \u001b[0mmatplotlib\u001b[0m\u001b[0;34m.\u001b[0m\u001b[0mcompat\u001b[0m \u001b[0;32mimport\u001b[0m \u001b[0msubprocess\u001b[0m\u001b[0;34m\u001b[0m\u001b[0m\n\u001b[0;32m--> 124\u001b[0;31m from matplotlib.rcsetup import (defaultParams,\n\u001b[0m\u001b[1;32m    125\u001b[0m                                 \u001b[0mvalidate_backend\u001b[0m\u001b[0;34m,\u001b[0m\u001b[0;34m\u001b[0m\u001b[0m\n\u001b[1;32m    126\u001b[0m                                 cycler)\n",
      "\u001b[0;32m/usr/share/python/anytask/lib/python2.7/site-packages/matplotlib/rcsetup.py\u001b[0m in \u001b[0;36m<module>\u001b[0;34m()\u001b[0m\n\u001b[1;32m     28\u001b[0m     \u001b[0;31m# python 2\u001b[0m\u001b[0;34m\u001b[0m\u001b[0;34m\u001b[0m\u001b[0m\n\u001b[1;32m     29\u001b[0m     \u001b[0;32mimport\u001b[0m \u001b[0mcollections\u001b[0m \u001b[0;32mas\u001b[0m \u001b[0mabc\u001b[0m\u001b[0;34m\u001b[0m\u001b[0m\n\u001b[0;32m---> 30\u001b[0;31m \u001b[0;32mfrom\u001b[0m \u001b[0mmatplotlib\u001b[0m\u001b[0;34m.\u001b[0m\u001b[0mfontconfig_pattern\u001b[0m \u001b[0;32mimport\u001b[0m \u001b[0mparse_fontconfig_pattern\u001b[0m\u001b[0;34m\u001b[0m\u001b[0m\n\u001b[0m\u001b[1;32m     31\u001b[0m \u001b[0;32mfrom\u001b[0m \u001b[0mmatplotlib\u001b[0m\u001b[0;34m.\u001b[0m\u001b[0mcolors\u001b[0m \u001b[0;32mimport\u001b[0m \u001b[0mis_color_like\u001b[0m\u001b[0;34m\u001b[0m\u001b[0m\n\u001b[1;32m     32\u001b[0m \u001b[0;34m\u001b[0m\u001b[0m\n",
      "\u001b[0;32m/usr/share/python/anytask/lib/python2.7/site-packages/matplotlib/fontconfig_pattern.py\u001b[0m in \u001b[0;36m<module>\u001b[0;34m()\u001b[0m\n\u001b[1;32m     23\u001b[0m \u001b[0;34m\u001b[0m\u001b[0m\n\u001b[1;32m     24\u001b[0m \u001b[0;32mimport\u001b[0m \u001b[0mre\u001b[0m\u001b[0;34m,\u001b[0m \u001b[0msys\u001b[0m\u001b[0;34m\u001b[0m\u001b[0m\n\u001b[0;32m---> 25\u001b[0;31m \u001b[0;32mfrom\u001b[0m \u001b[0mpyparsing\u001b[0m \u001b[0;32mimport\u001b[0m \u001b[0mLiteral\u001b[0m\u001b[0;34m,\u001b[0m \u001b[0mZeroOrMore\u001b[0m\u001b[0;34m,\u001b[0m\u001b[0;31m \u001b[0m\u001b[0;31m\\\u001b[0m\u001b[0;34m\u001b[0m\u001b[0m\n\u001b[0m\u001b[1;32m     26\u001b[0m      \u001b[0mOptional\u001b[0m\u001b[0;34m,\u001b[0m \u001b[0mRegex\u001b[0m\u001b[0;34m,\u001b[0m \u001b[0mStringEnd\u001b[0m\u001b[0;34m,\u001b[0m \u001b[0mParseException\u001b[0m\u001b[0;34m,\u001b[0m \u001b[0mSuppress\u001b[0m\u001b[0;34m\u001b[0m\u001b[0m\n\u001b[1;32m     27\u001b[0m \u001b[0;34m\u001b[0m\u001b[0m\n",
      "\u001b[0;31mImportError\u001b[0m: No module named pyparsing"
     ]
    }
   ],
   "source": [
    "# mc rin\n",
    "\n",
    "import numpy as np\n",
    "import matplotlib.pyplot as plt\n",
    "import scipy.linalg as sla\n",
    "from numpy.polynomial import Polynomial as P\n",
    "\n",
    "data_train = np.loadtxt('/Users/rinatgorbachev/Desktop/train.txt', delimiter=',')\n",
    "data_test = np.loadtxt('/Users/rinatgorbachev/Desktop/test.txt', delimiter=',')"
   ]
  },
  {
   "cell_type": "markdown",
   "metadata": {},
   "source": [
    "Разделим значения $x$ и $y$"
   ]
  },
  {
   "cell_type": "code",
   "execution_count": 26,
   "metadata": {},
   "outputs": [],
   "source": [
    "X_train = data_train[:,0]\n",
    "y_train = data_train[:,1]\n",
    "\n",
    "# Сделайте то же для тестовой выборки\n",
    "X_test = data_test[:,0]\n",
    "y_test = data_test[:,1]"
   ]
  },
  {
   "cell_type": "markdown",
   "metadata": {},
   "source": [
    "Найдите с помощью метода наименьших квадратов линейную функцию ($y = kx + b$), наилучшим образом приближающую неизвестную зависимость. Полезные функции: ``numpy.ones(n)`` для создания массива из единиц длины $n$ и ``numpy.concatenate((А, В), axis=1)`` для слияния двух матриц по столбцам (пара ``А`` и ``В`` превращается в матрицу ``[A B]``)."
   ]
  },
  {
   "cell_type": "code",
   "execution_count": 27,
   "metadata": {
    "scrolled": true
   },
   "outputs": [
    {
     "name": "stdout",
     "output_type": "stream",
     "text": [
      "k = 2.27913449805195\n",
      "b = 4.433230905064935\n"
     ]
    }
   ],
   "source": [
    "n = X_train.shape[0]\n",
    "# numpy.array(object, dtype=None, copy=True, order='K', subok=False, ndmin=0)\n",
    "X_matrix = np.array(X_train, ndmin=2).T\n",
    "\n",
    "matrix_of_nuls = np.array(np.ones(n), ndmin=2).T\n",
    "# numpy.concatenate((a1, a2, ...), axis=0, out=None)\n",
    "X = np.concatenate((X_matrix, matrix_of_nuls), axis=1, out=None)\n",
    "# a' = X(X^T*X)^(-1)*X^T*Y\n",
    "Answer = (np.linalg.inv(np.dot(X.T, X))).dot(X.T).dot(y_train)\n",
    "\n",
    "print('k = {}'.format(Answer[0]))\n",
    "print('b = {}'.format(Answer[1]))"
   ]
  },
  {
   "cell_type": "markdown",
   "metadata": {},
   "source": [
    "Нарисуйте на плоскости точки $(x_i, y_i)$ и полученную линейную функцию. Глядя на данные, подумайте, многочленом какой степени можно было бы лучше всего приблизить эту функцию. Найдите этот многочлен и нарисуйте его график."
   ]
  },
  {
   "cell_type": "code",
   "execution_count": 28,
   "metadata": {},
   "outputs": [
    {
     "data": {
      "image/png": "[encoded data removed]",
      "text/plain": [
       "<Figure size 720x720 with 1 Axes>"
      ]
     },
     "metadata": {
      "needs_background": "light"
     },
     "output_type": "display_data"
    }
   ],
   "source": [
    "plt.figure(figsize=(10, 10))\n",
    "plt.grid()\n",
    "\n",
    "plt.scatter(X_train, y_train, color='darkmagenta', label='train_data')\n",
    "\n",
    "def draw_points(num):\n",
    "    return (Answer[0] * num) + Answer[1]\n",
    "#numpy.linspace(start, stop, num=50, endpoint=True, retstep=False, dtype=None)\n",
    "\n",
    "x_1 = np.linspace(-0.35, 1.25)  # прямая\n",
    "\n",
    "y_1 = [draw_points(i) for i in x_1]\n",
    "\n",
    "plt.plot(x_1, y_1, color='c', label='прямая')\n",
    "\n",
    "plt.plot(x_1, y_1,linestyle = '-',linewidth = 2,)\n",
    "\n",
    "plt.legend()\n",
    "\n",
    "plt.show()"
   ]
  },
  {
   "cell_type": "code",
   "execution_count": 29,
   "metadata": {},
   "outputs": [
    {
     "data": {
      "image/png": "[encoded data removed]",
      "text/plain": [
       "<Figure size 1080x720 with 1 Axes>"
      ]
     },
     "metadata": {
      "needs_background": "light"
     },
     "output_type": "display_data"
    }
   ],
   "source": [
    "# Идеальным приближением будет многочлен степени n-1, как в начале файла.\n",
    "# Лучшее приближение многочленом степени n-1\n",
    "\n",
    "k = n - 1\n",
    "pol_max = []\n",
    "X = np.array(X_train**k, ndmin=2).T\n",
    "\n",
    "for i in range(k - 1, -1, -1):\n",
    "    pol_c = np.array(X_train**i, ndmin=2).T\n",
    "    X = np.concatenate((X, pol_c), axis=1, out=None)\n",
    "\n",
    "plt.figure(figsize=(15, 10))\n",
    "plt.ylim(-1, 13)\n",
    "\n",
    "x_points = np.arange(-0.3, 1.10, 0.01)\n",
    "coef = np.linalg.solve(X, np.array(y_train, ndmin=2).T)\n",
    "\n",
    "for x in x_points:\n",
    "    pol_c = 0\n",
    "    temp = 0\n",
    "    for i in range(k + 1):\n",
    "        temp = (x ** (k - i))\n",
    "        pol_c += temp * coef[i] \n",
    "    pol_max.append(pol_c)\n",
    "\n",
    "plt.scatter(X_train, y_train, color='darkmagenta', label='train_data')\n",
    "\n",
    "plt.plot(x_points, pol_max, color='y', label='Лучшее приближение ')\n",
    "\n",
    "x_1 = np.linspace(-0.35, 1.25)\n",
    "y_1 = [draw_points(i) for i in x_1]\n",
    "\n",
    "plt.plot(x_1, y_1, color='navy', label='прямая')\n",
    "\n",
    "plt.legend()\n",
    "plt.grid()\n",
    "plt.show()"
   ]
  },
  {
   "cell_type": "markdown",
   "metadata": {},
   "source": [
    "Для $k = 1,2,3,\\ldots,10$ найдите многочлен $\\hat{f}_k$ степени $k$, наилучшим образом приближающий неизвестную зависимость. Для каждого из них найдите среднеквадратическую ошибку на обучающих данных и на тестовых данных: $\\frac1{n}\\sum_{i=1}^n\\left( \\hat{f}_k(x_i) - y_i \\right)^2$ (в первом случае сумма ведётся по парам $(x_i, y_i)$ из обучающих данных, а во втором - по парам из тестовых данных).\n",
    "\n",
    "Для $k = 1,2,3,4,6$ напечатайте коэффициенты полученных многочленов и нарисуйте их графики на одном чертеже вместе с точками $(x_i, y_i)$ (возможно, график стоит сделать побольше; это делается командой `plt.figure(figsize=(width, height))`)."
   ]
  },
  {
   "cell_type": "code",
   "execution_count": 30,
   "metadata": {},
   "outputs": [
    {
     "name": "stdout",
     "output_type": "stream",
     "text": [
      "Степень 1\n",
      " ошибка на обучающих данных 0.2968966332625195\n",
      " ошибка на тестовых данных 0.43512020040488836\n",
      "Степень 2\n",
      " ошибка на обучающих данных 0.2696989158766915\n",
      " ошибка на тестовых данных 0.35647628878312126\n",
      "Степень 3\n",
      " ошибка на обучающих данных 0.26949718714796106\n",
      " ошибка на тестовых данных 0.35534645715184526\n",
      "Степень 4\n",
      " ошибка на обучающих данных 0.26106653305792743\n",
      " ошибка на тестовых данных 0.44172701892835486\n",
      "Степень 5\n",
      " ошибка на обучающих данных 0.2499850464831754\n",
      " ошибка на тестовых данных 0.5579732021834226\n",
      "Степень 6\n",
      " ошибка на обучающих данных 0.1882934898836989\n",
      " ошибка на тестовых данных 2.581692932354831\n",
      "Степень 7\n",
      " ошибка на обучающих данных 0.18539621153294333\n",
      " ошибка на тестовых данных 2.515782894960881\n",
      "Степень 8\n",
      " ошибка на обучающих данных 0.15905556579083568\n",
      " ошибка на тестовых данных 4.3572883679898595\n",
      "Степень 9\n",
      " ошибка на обучающих данных 0.15847184274729642\n",
      " ошибка на тестовых данных 4.776344642231365\n",
      "Степень 10\n",
      " ошибка на обучающих данных 0.15316611256471302\n",
      " ошибка на тестовых данных 14.632754785848332\n"
     ]
    }
   ],
   "source": [
    "# Для  𝑘=1,2,3,…,10\n",
    "\n",
    "for k in range(1, 11):\n",
    "    X = np.array(X_train**k, ndmin=2).T\n",
    "    for i in range(k - 1, -1, -1):\n",
    "        pol_c = np.array(X_train**i, ndmin=2).T\n",
    "        X = np.concatenate((X, pol_c), axis=1, out=None)\n",
    "        \n",
    "    coef = (np.linalg.inv(np.dot(X.T, X))).dot(X.T).dot(y_train)  # для устранения погрешности\n",
    "    \n",
    "    train_fault = 0\n",
    "    for i in range(n):\n",
    "        x = X_train[i]\n",
    "        y = y_train[i]\n",
    "        pol_c = 0\n",
    "        temp = 0\n",
    "        for j in range(k + 1):\n",
    "            temp = (x ** (k - j))\n",
    "            pol_c += coef[j] * temp\n",
    "        train_fault += (pol_c - y) ** 2\n",
    "    train_fault *= (1/n)\n",
    "    \n",
    "    test_fault = 0\n",
    "    for i in range(n):\n",
    "        x = X_test[i]\n",
    "        y = y_test[i]\n",
    "        pol_c = 0\n",
    "        temp = 0\n",
    "        for j in range(k + 1):\n",
    "            temp = (x ** (k - j))\n",
    "            pol_c += coef[j] * temp\n",
    "        test_fault += (pol_c - y) ** 2\n",
    "    test_fault *= (1/n)\n",
    "\n",
    "    print('Степень {}'.format(k))\n",
    "    print(' ошибка на обучающих данных {}'.format(train_fault))\n",
    "    print(' ошибка на тестовых данных {}'.format(test_fault))"
   ]
  },
  {
   "cell_type": "code",
   "execution_count": 31,
   "metadata": {},
   "outputs": [
    {
     "name": "stdout",
     "output_type": "stream",
     "text": [
      "1:\n",
      "[2.2791345  4.43323091]\n",
      "2:\n",
      "[1.40162851 1.15783169 4.4724765 ]\n",
      "3:\n",
      "[-0.3817686   1.85975084  1.06501611  4.46073636]\n",
      "4:\n",
      "[  7.9184747  -13.05132812   6.79409178   1.17180239   4.34116612]\n",
      "6:\n",
      "[-229.9701334   581.45329821 -481.51013286  121.25709712   16.00290399\n",
      "   -4.59717932    4.38379501]\n"
     ]
    },
    {
     "data": {
      "image/png": "[encoded data removed]",
      "text/plain": [
       "<Figure size 1440x1080 with 1 Axes>"
      ]
     },
     "metadata": {
      "needs_background": "light"
     },
     "output_type": "display_data"
    }
   ],
   "source": [
    "# Для  𝑘=1,2,3,4,6\n",
    "\n",
    "plt.figure(figsize=(20, 15))\n",
    "plt.scatter(X_train, y_train, color='darkmagenta', label='train_data')\n",
    "plt.scatter(X_test, y_test, color='red', label='test_data')\n",
    "\n",
    "x_points = np.arange(-0.25, 1.1, 0.01)\n",
    "\n",
    "for k in (1,2,3,4,6):\n",
    "    X = np.array(X_train ** k, ndmin=2).T\n",
    "    for i in range(k - 1, -1, -1):\n",
    "        pol_c = np.array(X_train ** i, ndmin=2).T\n",
    "        X = np.concatenate((X, pol_c), axis=1, out=None)\n",
    "    \n",
    "    res = (np.linalg.inv(np.dot(X.T, X))).dot(X.T).dot(y_train)\n",
    "    print('{}:'.format(k))\n",
    "    print('{}'.format(res))\n",
    "    \n",
    "    y = []\n",
    "    for i in x_points:\n",
    "        pol_c = 0\n",
    "        temp = 0\n",
    "        for j in range(k + 1):\n",
    "            temp = (i ** (k - j))\n",
    "            pol_c += res[j] * temp\n",
    "        y.append(pol_c)\n",
    "\n",
    "    plt.plot(x_points, y, label='степень мнг = '+str(j))\n",
    "\n",
    "plt.legend()\n",
    "plt.grid()\n",
    "plt.show()"
   ]
  },
  {
   "cell_type": "markdown",
   "metadata": {},
   "source": [
    "Что происходит с ошибкой при росте степени многочлена? Казалось бы, чем больше степень, тем более сложным будет многочлен и тем лучше он будет приближать нашу функцию. Подтверждают ли это ваши наблюдения? Как вам кажется, чем объясняется поведение ошибки на тестовых данных при $k = 10$?"
   ]
  },
  {
   "cell_type": "markdown",
   "metadata": {},
   "source": [
    "Заметим, что тестовая при степени 6 сильно отклоняется от других графиков, то есть ошибка увеличивается.\n",
    "Видно, что даже кривая степени 6 'летит' вверх на бесконечность.\n",
    "Как известно из теории и в обучающей и тестовой выборке есть погрешность,из последнего графика видно, что чем больше степень,\n",
    "тем больше погрешность на тестовых данных, а на обучающихся данных меньше, так как я максимально приблизил коэффиценты многочлена \n",
    "к конкретным значениям функции."
   ]
  },
  {
   "cell_type": "markdown",
   "metadata": {},
   "source": [
    "## Задание 2. Линейная регрессия (4 балла)"
   ]
  },
  {
   "cell_type": "markdown",
   "metadata": {},
   "source": [
    "Скачайте файлы ``flats_moscow_mod.txt`` и ``flats_moscow_description.txt``. В первом из них содержатся данные о квартирах в Москве. Каждая строка содержит шесть характеристик некоторой квартиры, разделённые знаками табуляции; в первой строке записаны кодовые названия характеристик. Во втором файле приведены краткие описания признаков. Вашей задачей будет построить с помощью метода наименьших квадратов (линейную) зависимость между ценой квартиры и остальными доступными параметрами.\n",
    "\n",
    "С помощью известных вам формул найдите регрессионные коэффициенты. Какой смысл имеют их знаки? Согласуются ли они с вашими представлениями о жизни?\n",
    "\n",
    "Оцените качество приближения, вычислив среднеквадратическую ошибку."
   ]
  },
  {
   "cell_type": "code",
   "execution_count": 32,
   "metadata": {
    "scrolled": true
   },
   "outputs": [
    {
     "name": "stdout",
     "output_type": "stream",
     "text": [
      "Зависимости :\n",
      "Общая площадь: 1.4870528861258716\n",
      "Жилая площадь: 1.6562890012269091\n",
      "Площадь кухни: 1.8192049792747518\n",
      "Расстояние до центра: -3.3271540562740567\n",
      "Расстояние до метро: -1.3156886037015727\n"
     ]
    }
   ],
   "source": [
    "data_flats = np.loadtxt('/Users/rinatgorbachev/Desktop/flats_moscow_mod.txt', delimiter='\\t', skiprows=1)\n",
    "# skiprows так как первая строка текст\n",
    "n = data_flats.shape[0]\n",
    "\n",
    "price = data_flats[:,0]\n",
    "totsp = data_flats[:,1]\n",
    "livesp = data_flats[:,2]\n",
    "kitsp = data_flats[:,3]\n",
    "dist = data_flats[:,4]\n",
    "metrdist = data_flats[:,5]\n",
    "\n",
    "X = data_flats[:,1:]\n",
    "X = np.concatenate((X, np.array(np.ones(n), ndmin=2).T), axis=1)\n",
    "# a' = X(X^T*X)^(-1)*X^T*Y\n",
    "coeffs = (np.linalg.inv(np.dot(X.T, X))).dot(X.T).dot(price)\n",
    "\n",
    "print('Зависимости :')\n",
    "print('Общая площадь: {}'.format(coeffs[0]))\n",
    "print('Жилая площадь: {}'.format(coeffs[1]))  \n",
    "print('Площадь кухни: {}'.format(coeffs[2]))  \n",
    "print('Расстояние до центра: {}'.format(coeffs[3]))\n",
    "print('Расстояние до метро: {}'.format(coeffs[4]))"
   ]
  },
  {
   "cell_type": "raw",
   "metadata": {},
   "source": [
    "# Квартиры дорогие, особенно в центре. Жить бы рядом с универом(картинка грустного котика).\n",
    "Со знаком '+' дорого, '-' дешево.\n",
    "Максимальный коэф имеет площадь кухни, то есть дороговизну квартиры определяют по кухне, ну я бы поспорил. \n",
    "Чем дальше от центра, тем дешевле, согласен."
   ]
  },
  {
   "cell_type": "code",
   "execution_count": 33,
   "metadata": {},
   "outputs": [
    {
     "name": "stdout",
     "output_type": "stream",
     "text": [
      "Среднеквадратическая ошибка: 924.0090032083963\n"
     ]
    }
   ],
   "source": [
    "fault = 0\n",
    "for i in range(n):\n",
    "    temp = 0\n",
    "    # 5 параметров\n",
    "    for j in range(6):\n",
    "        temp += coeffs[j] * X[i][j]\n",
    "    fault += (temp - price[i]) ** 2\n",
    "fault *= (1/n)\n",
    "\n",
    "print('Среднеквадратическая ошибка: {}'.format(fault))"
   ]
  },
  {
   "cell_type": "markdown",
   "metadata": {},
   "source": [
    "### Усложнение модели"
   ]
  },
  {
   "cell_type": "markdown",
   "metadata": {},
   "source": [
    "Конечно, никто не гарантирует, что объясняемая переменная (цена квартиры) зависит от остальных характеристик именно линейно. Зависимость может быть, например, квадратичной или логарифмической; больше того, могут быть важны не только отдельные признаки, но и их комбинации. Это можно учитывать, добавляя в качестве дополнительных признаков разные функции от уже имеющихся характеристик: их квадраты, логарифмы, попарные произведения.\n",
    "\n",
    "В этом задании вам нужно постараться улучшить качество модели, добавляя дополнительные признаки, являющиеся функциями от уже имеющихся. Но будьте осторожны: чрезмерное усложнение модели будет приводить к переобучению. \n",
    "\n",
    "**Сравнение моделей**\n",
    "\n",
    "Когда вы построите новую модель, вам захочется понять, лучше она или хуже, чем изначальная. Проверять это на той же выборке, на которой вы обучались, бессмысленно и даже вредно (вспомните пример с многочленами: как прекрасно падала ошибка на обучающей выборке с ростом степени!). Поэтому вам нужно будет разделить выборку на обучающую и тестовую. Делать это лучше случайным образом (ведь вы не знаете, как создатели датасета упорядочили объекты); рекомендуем вам для этого функцию `sklearn.model_selection.train_test_split`."
   ]
  },
  {
   "cell_type": "code",
   "execution_count": 19,
   "metadata": {
    "jupyter": {
     "outputs_hidden": true
    }
   },
   "outputs": [
    {
     "name": "stdout",
     "output_type": "stream",
     "text": [
      "Средняя Ошибка меньше на: 217.5687757597855\n"
     ]
    }
   ],
   "source": [
    "from sklearn.model_selection import train_test_split\n",
    "\n",
    "num_train, num_test, price_train, price_test = train_test_split(range(n), price)\n",
    "\n",
    "new_Y = np.array(price, ndmin=2).T\n",
    "\n",
    "new_X = data_flats[:,1:]\n",
    "new_X = np.concatenate((new_X, new_X ** 2, np.log(new_X), new_X ** 0.5, new_X ** 3, new_X ** 4), axis=1)\n",
    "\n",
    "new_coeffs = sla.inv((new_X.T).dot(new_X)).dot(new_X.T).dot(new_Y)\n",
    "new_coeffs = new_coeffs.T[0]\n",
    "\n",
    "sum_of_err = 0\n",
    "n = 10000\n",
    "for i in range (n):\n",
    "    old_error = 0\n",
    "    for i in num_test:\n",
    "        tmp = 0\n",
    "        for j in range(X.shape[1]):\n",
    "            tmp += coeffs[j] * X[i][j]\n",
    "        old_error += (tmp - price[i]) ** 2\n",
    "    old_error /= len(num_test)\n",
    "\n",
    "    new_error = 0\n",
    "    for i in num_test:\n",
    "        tmp = 0\n",
    "        for j in range(new_X.shape[1]):\n",
    "            tmp += new_coeffs[j] * new_X[i][j]\n",
    "        new_error += (tmp - price[i]) ** 2\n",
    "    new_error /= len(num_test)\n",
    "    delta = old_error - new_error\n",
    "    sum_of_err += delta\n",
    "\n",
    "print('Средняя Ошибка меньше на: {}'.format(sum_of_err/n))"
   ]
  },
  {
   "cell_type": "markdown",
   "metadata": {},
   "source": [
    "### Задание 3. Регуляризация (2 балла)"
   ]
  },
  {
   "cell_type": "markdown",
   "metadata": {},
   "source": [
    "Вспомним, что задача линейной регрессии формулируется как задача нахождения проекции вектора значений объясняемой переменной $y$ на линейную оболочку $\\langle x_1,\\ldots,x_k\\rangle$ векторов значений регрессоров. Если векторы $x_1,\\ldots,x_k$ линейно зависимы, то матрица $X^TX$ вырожденна и задача не будет решаться (то есть будет, но не с помощью приведённой выше формулы). В жизни, по счастью, различные признаки редко бывают *в точности* линейно зависимы, однако во многих ситуациях они скоррелированы и становятся \"почти\" линейно зависимыми. Таковы, к примеру, зарплата человека, его уровень образования, цена машины и суммарная площадь недвижимости, которой он владеет. В этом случае матрица $X^TX$ будет близка к вырожденной, и это приводит к численной неустойчивости и плохому качеству решений; как следствие, будет иметь место переобучение. Один из симптомов этой проблемы &mdash; необычно большие по модулю компоненты вектора $a$.\n",
    "\n",
    "Есть много способов борьбы с этим злом. Один из них &mdash; регуляризация. Сейчас мы рассмотрим одну из её разновидностей &mdash; **L2-регуляризацию**. Идея в том, чтобы подправить матрицу $X^TX$, сделав её \"получше\". Например, это можно сделать, заменив её на $(X^TX + \\lambda E)$, где $\\lambda$ &mdash; некоторый скаляр. Пожертвовав точностью на обучающей выборке, мы тем не менее получаем численно более стабильное псевдорешение $a = (X^TX + \\lambda E)^{-1}X^Ty$ и снижаем эффект переобучения. Параметр $\\lambda$ нужно подбирать, и каких-то универсальных способов это делать нет, но зачастую можно его подобрать таким, чтобы ошибка на тестовой выборке падала. "
   ]
  },
  {
   "cell_type": "markdown",
   "metadata": {},
   "source": [
    "Теперь давайте вспомним первую задачу. Если вы её сделали, то помните, что ошибка аппроксимации многочленом шестой степени довольно высокая. Убедитесь, что, используя регуляризацию с хорошо подобранным коэффициентом $\\lambda$, ошибку на тестовой выборке можно сделать не больше, чем для многочлена оптимальной степени в модели без регрессии. Для этого $\\lambda$ сравните $\\det(X^TX)$ и $\\det(X^TX + \\lambda E)$."
   ]
  },
  {
   "cell_type": "code",
   "execution_count": 55,
   "metadata": {
    "jupyter": {
     "outputs_hidden": true
    }
   },
   "outputs": [
    {
     "name": "stdout",
     "output_type": "stream",
     "text": [
      "m_s_e_train for lamb = -10 : 22.87831036676955\n",
      "m_s_e_test for lamb= -10 : 46.625324758799024\n",
      "\t\n",
      "m_s_e_train for lamb = -9 : 35.74538659199549\n",
      "m_s_e_test for lamb= -9 : 70.7152915669598\n",
      "\t\n",
      "m_s_e_train for lamb = -8 : 105.24858408118709\n",
      "m_s_e_test for lamb= -8 : 196.16224221658763\n",
      "\t\n",
      "m_s_e_train for lamb = -7 : 89884.51473741425\n",
      "m_s_e_test for lamb= -7 : 154520.67396489982\n",
      "\t\n",
      "m_s_e_train for lamb = -6 : 52.867433625886775\n",
      "m_s_e_test for lamb= -6 : 83.6473478750477\n",
      "\t\n",
      "m_s_e_train for lamb = -5 : 10.337294524602905\n",
      "m_s_e_test for lamb= -5 : 15.37682743282116\n",
      "\t\n",
      "m_s_e_train for lamb = -4 : 3.451067487755651\n",
      "m_s_e_test for lamb= -4 : 5.030931900417017\n",
      "\t\n",
      "m_s_e_train for lamb = -3 : 1.3997298375254066\n",
      "m_s_e_test for lamb= -3 : 2.1066538030265067\n",
      "\t\n",
      "m_s_e_train for lamb = -2 : 0.6361255414682074\n",
      "m_s_e_test for lamb= -2 : 1.0267837814113767\n",
      "\t\n",
      "m_s_e_train for lamb = -1 : 0.3965994055910071\n",
      "m_s_e_test for lamb= -1 : 0.6925853310727753\n",
      "\t\n",
      "m_s_e_train for lamb = 0 : 0.1882934898837026\n",
      "m_s_e_test for lamb= 0 : 2.5816929321010735\n",
      "\t\n",
      "m_s_e_train for lamb = 1 : 0.3196110739903557\n",
      "m_s_e_test for lamb= 1 : 0.308219923571226\n",
      "\t\n",
      "m_s_e_train for lamb = 2 : 0.43993171882190957\n",
      "m_s_e_test for lamb= 2 : 0.3290036360308493\n",
      "\t\n",
      "m_s_e_train for lamb = 3 : 0.6070715589033081\n",
      "m_s_e_test for lamb= 3 : 0.39929489014616076\n",
      "\t\n",
      "m_s_e_train for lamb = 4 : 0.8070214878803584\n",
      "m_s_e_test for lamb= 4 : 0.5048395493684018\n",
      "\t\n",
      "m_s_e_train for lamb = 5 : 1.0308468065825034\n",
      "m_s_e_test for lamb= 5 : 0.6370785504654509\n",
      "\t\n",
      "m_s_e_train for lamb = 6 : 1.2724346745821604\n",
      "m_s_e_test for lamb= 6 : 0.790346009627441\n",
      "\t\n",
      "m_s_e_train for lamb = 7 : 1.5273629358486924\n",
      "m_s_e_test for lamb= 7 : 0.9605740664275515\n",
      "\t\n",
      "m_s_e_train for lamb = 8 : 1.7922937151270633\n",
      "m_s_e_test for lamb= 8 : 1.1446526838469377\n",
      "\t\n",
      "m_s_e_train for lamb = 9 : 2.0646272399589574\n",
      "m_s_e_test for lamb= 9 : 1.340094059476153\n",
      "\t\n"
     ]
    }
   ],
   "source": [
    "#Попытаюсь подобрать лямбду ручками)\n",
    "X_train = data_train[:,0]\n",
    "Y_train = data_train[:,1]\n",
    "X_test = data_test[:,0]\n",
    "Y_test = data_test[:,1]\n",
    "\n",
    "def L2_upgrade(X, i):\n",
    "    tmp1 = np.dot(X.transpose(), X)\n",
    "    tmp2 = sla.inv(tmp1 + np.dot(i, np.eye(len(X.transpose()))))\n",
    "    tmp3 = np.dot(tmp2, X.transpose())\n",
    "    a = np.dot(tmp3, Y_train)\n",
    "    return a;\n",
    "\n",
    "def polynom(degree, X, X_train): \n",
    "    for i in range(1, degree): \n",
    "        a = [0] * len(X_train) \n",
    "        for j in range(len(X_train)): \n",
    "            a[j] = X_train[j] ** (i + 1) \n",
    "        X = np.column_stack((a,X)) \n",
    "    return X\n",
    "\n",
    "\n",
    "B = np.ones(len(X_train))\n",
    "X_1 = np.column_stack((X_train, B))\n",
    "X_tr = polynom(6, X_1, X_train)\n",
    "X_2 = np.column_stack((X_test, B))\n",
    "X_ts = polynom(6, X_2, X_test)\n",
    "for i in range(-10, 10):\n",
    "    a = L2_upgrade(X_tr, i)\n",
    "    m_s_e = ((np.dot(X_tr,a) - Y_train)**2).mean(axis=0)\n",
    "    m_s_e_ts = ((np.dot(X_ts,a) - Y_test)**2).mean(axis=0)\n",
    "    print(\"m_s_e_train for lamb =\", i, \":\", m_s_e)\n",
    "    print(\"m_s_e_test for lamb=\", i, \":\", m_s_e_ts)\n",
    "    print(\"\\t\")"
   ]
  },
  {
   "cell_type": "code",
   "execution_count": 57,
   "metadata": {},
   "outputs": [
    {
     "name": "stdout",
     "output_type": "stream",
     "text": [
      "train for lamb = 1 : 0.3196110739903557\n",
      "test for lamb = 1 : 0.308219923571226\n",
      "\t\n",
      "train for lamb = 1.01 : 0.32051615091329455\n",
      "test for lamb = 1.01 : 0.30811112320307316\n",
      "\t\n",
      "train for lamb = 1.02 : 0.32142810757006834\n",
      "test for lamb = 1.02 : 0.3080096942277205\n",
      "\t\n",
      "train for lamb = 1.03 : 0.32234691392057124\n",
      "test for lamb = 1.03 : 0.30791560103606014\n",
      "\t\n",
      "train for lamb = 1.04 : 0.32327254010178263\n",
      "test for lamb = 1.04 : 0.30782880832336934\n",
      "\t\n",
      "train for lamb = 1.05 : 0.3242049564267727\n",
      "test for lamb = 1.05 : 0.30774928108409433\n",
      "\t\n",
      "train for lamb = 1.06 : 0.325144133383673\n",
      "test for lamb = 1.06 : 0.3076769846068953\n",
      "\t\n",
      "train for lamb = 1.07 : 0.3260900416346586\n",
      "test for lamb = 1.07 : 0.3076118844697617\n",
      "\t\n",
      "train for lamb = 1.08 : 0.3270426520148991\n",
      "test for lamb = 1.08 : 0.3075539465353719\n",
      "\t\n",
      "train for lamb = 1.09 : 0.3280019355315086\n",
      "test for lamb = 1.09 : 0.307503136946598\n",
      "\t\n",
      "train for lamb = 1.1 : 0.3289678633624806\n",
      "test for lamb = 1.1 : 0.30745942212214533\n",
      "\t\n",
      "train for lamb = 1.11 : 0.32994040685562304\n",
      "test for lamb = 1.11 : 0.307422768752341\n",
      "\t\n",
      "train for lamb = 1.12 : 0.3309195375274839\n",
      "test for lamb = 1.12 : 0.30739314379505966\n",
      "\t\n",
      "train for lamb = 1.1300000000000001 : 0.3319052270622668\n",
      "test for lamb = 1.1300000000000001 : 0.307370514471784\n",
      "\t\n",
      "train for lamb = 1.1400000000000001 : 0.33289744731074933\n",
      "test for lamb = 1.1400000000000001 : 0.3073548482637734\n",
      "\t\n",
      "train for lamb = 1.1500000000000001 : 0.3338961702892003\n",
      "test for lamb = 1.1500000000000001 : 0.3073461129083598\n",
      "\t\n",
      "train for lamb = 1.1600000000000001 : 0.3349013681782888\n",
      "test for lamb = 1.1600000000000001 : 0.3073442763953472\n",
      "\t\n",
      "train for lamb = 1.1700000000000002 : 0.33591301332199297\n",
      "test for lamb = 1.1700000000000002 : 0.30734930696352825\n",
      "\t\n",
      "train for lamb = 1.1800000000000002 : 0.3369310782265153\n",
      "test for lamb = 1.1800000000000002 : 0.30736117309727784\n",
      "\t\n",
      "train for lamb = 1.1900000000000002 : 0.3379555355591891\n",
      "test for lamb = 1.1900000000000002 : 0.3073798435232713\n",
      "\t\n",
      "train for lamb = 1.2000000000000002 : 0.33898635814739475\n",
      "test for lamb = 1.2000000000000002 : 0.30740528720726584\n",
      "\t\n",
      "train for lamb = 1.2100000000000002 : 0.34002351897746996\n",
      "test for lamb = 1.2100000000000002 : 0.30743747335099314\n",
      "\t\n",
      "train for lamb = 1.2200000000000002 : 0.34106699119362915\n",
      "test for lamb = 1.2200000000000002 : 0.3074763713891142\n",
      "\t\n",
      "train for lamb = 1.2300000000000002 : 0.3421167480968787\n",
      "test for lamb = 1.2300000000000002 : 0.3075219509862676\n",
      "\t\n",
      "train for lamb = 1.2400000000000002 : 0.34317276314393996\n",
      "test for lamb = 1.2400000000000002 : 0.3075741820341877\n",
      "\t\n",
      "train for lamb = 1.2500000000000002 : 0.3442350099461753\n",
      "test for lamb = 1.2500000000000002 : 0.307633034648895\n",
      "\t\n",
      "train for lamb = 1.2600000000000002 : 0.345303462268516\n",
      "test for lamb = 1.2600000000000002 : 0.3076984791679567\n",
      "\t\n",
      "train for lamb = 1.2700000000000002 : 0.3463780940283956\n",
      "test for lamb = 1.2700000000000002 : 0.30777048614781444\n",
      "\t\n",
      "train for lamb = 1.2800000000000002 : 0.34745887929468755\n",
      "test for lamb = 1.2800000000000002 : 0.30784902636117345\n",
      "\t\n",
      "train for lamb = 1.2900000000000003 : 0.3485457922866452\n",
      "test for lamb = 1.2900000000000003 : 0.3079340707944577\n",
      "\t\n",
      "train for lamb = 1.3000000000000003 : 0.3496388073728554\n",
      "test for lamb = 1.3000000000000003 : 0.30802559064531426\n",
      "\t\n",
      "train for lamb = 1.3100000000000003 : 0.35073789907018266\n",
      "test for lamb = 1.3100000000000003 : 0.30812355732018243\n",
      "\t\n",
      "train for lamb = 1.3200000000000003 : 0.3518430420427357\n",
      "test for lamb = 1.3200000000000003 : 0.30822794243191504\n",
      "\t\n",
      "train for lamb = 1.3300000000000003 : 0.3529542111008219\n",
      "test for lamb = 1.3300000000000003 : 0.3083387177974436\n",
      "\t\n",
      "train for lamb = 1.3400000000000003 : 0.3540713811999212\n",
      "test for lamb = 1.3400000000000003 : 0.30845585543550974\n",
      "\t\n",
      "train for lamb = 1.3500000000000003 : 0.3551945274396659\n",
      "test for lamb = 1.3500000000000003 : 0.3085793275644231\n",
      "\t\n",
      "train for lamb = 1.3600000000000003 : 0.35632362506280807\n",
      "test for lamb = 1.3600000000000003 : 0.30870910659988676\n",
      "\t\n",
      "train for lamb = 1.3700000000000003 : 0.3574586494542214\n",
      "test for lamb = 1.3700000000000003 : 0.3088451651528469\n",
      "\t\n",
      "train for lamb = 1.3800000000000003 : 0.35859957613988647\n",
      "test for lamb = 1.3800000000000003 : 0.3089874760274037\n",
      "\t\n",
      "train for lamb = 1.3900000000000003 : 0.35974638078589133\n",
      "test for lamb = 1.3900000000000003 : 0.30913601221874804\n",
      "\t\n",
      "train for lamb = 1.4000000000000004 : 0.36089903919743627\n",
      "test for lamb = 1.4000000000000004 : 0.3092907469111494\n",
      "\t\n",
      "train for lamb = 1.4100000000000004 : 0.36205752731785285\n",
      "test for lamb = 1.4100000000000004 : 0.3094516534759726\n",
      "\t\n",
      "train for lamb = 1.4200000000000004 : 0.36322182122761354\n",
      "test for lamb = 1.4200000000000004 : 0.30961870546973963\n",
      "\t\n",
      "train for lamb = 1.4300000000000004 : 0.3643918971433634\n",
      "test for lamb = 1.4300000000000004 : 0.3097918766322205\n",
      "\t\n",
      "train for lamb = 1.4400000000000004 : 0.36556773141695115\n",
      "test for lamb = 1.4400000000000004 : 0.3099711408845661\n",
      "\t\n",
      "train for lamb = 1.4500000000000004 : 0.3667493005344676\n",
      "test for lamb = 1.4500000000000004 : 0.31015647232746274\n",
      "\t\n",
      "train for lamb = 1.4600000000000004 : 0.3679365811152875\n",
      "test for lamb = 1.4600000000000004 : 0.31034784523933456\n",
      "\t\n",
      "train for lamb = 1.4700000000000004 : 0.3691295499111282\n",
      "test for lamb = 1.4700000000000004 : 0.31054523407456047\n",
      "\t\n",
      "train for lamb = 1.4800000000000004 : 0.3703281838051045\n",
      "test for lamb = 1.4800000000000004 : 0.3107486134617365\n",
      "\t\n",
      "train for lamb = 1.4900000000000004 : 0.371532459810793\n",
      "test for lamb = 1.4900000000000004 : 0.31095795820195465\n",
      "\t\n",
      "train for lamb = 1.5000000000000004 : 0.37274235507130526\n",
      "test for lamb = 1.5000000000000004 : 0.31117324326711987\n",
      "\t\n",
      "train for lamb = 1.5100000000000005 : 0.37395784685837147\n",
      "test for lamb = 1.5100000000000005 : 0.31139444379828934\n",
      "\t\n",
      "train for lamb = 1.5200000000000005 : 0.3751789125714167\n",
      "test for lamb = 1.5200000000000005 : 0.31162153510403706\n",
      "\t\n",
      "train for lamb = 1.5300000000000005 : 0.37640552973666186\n",
      "test for lamb = 1.5300000000000005 : 0.3118544926588513\n",
      "\t\n",
      "train for lamb = 1.5400000000000005 : 0.37763767600621856\n",
      "test for lamb = 1.5400000000000005 : 0.31209329210154924\n",
      "\t\n",
      "train for lamb = 1.5500000000000005 : 0.3788753291571939\n",
      "test for lamb = 1.5500000000000005 : 0.3123379092337203\n",
      "\t\n",
      "train for lamb = 1.5600000000000005 : 0.3801184670908068\n",
      "test for lamb = 1.5600000000000005 : 0.31258832001819076\n",
      "\t\n",
      "train for lamb = 1.5700000000000005 : 0.3813670678315028\n",
      "test for lamb = 1.5700000000000005 : 0.3128445005775188\n",
      "\t\n",
      "train for lamb = 1.5800000000000005 : 0.3826211095260823\n",
      "test for lamb = 1.5800000000000005 : 0.31310642719249654\n",
      "\t\n",
      "train for lamb = 1.5900000000000005 : 0.38388057044283114\n",
      "test for lamb = 1.5900000000000005 : 0.31337407630069153\n",
      "\t\n",
      "train for lamb = 1.6000000000000005 : 0.38514542897066373\n",
      "test for lamb = 1.6000000000000005 : 0.3136474244949995\n",
      "\t\n",
      "train for lamb = 1.6100000000000005 : 0.3864156636182588\n",
      "test for lamb = 1.6100000000000005 : 0.3139264485222133\n",
      "\t\n",
      "train for lamb = 1.6200000000000006 : 0.38769125301322466\n",
      "test for lamb = 1.6200000000000006 : 0.3142111252816286\n",
      "\t\n",
      "train for lamb = 1.6300000000000006 : 0.3889721759012441\n",
      "test for lamb = 1.6300000000000006 : 0.3145014318236502\n",
      "\t\n",
      "train for lamb = 1.6400000000000006 : 0.3902584111452531\n",
      "test for lamb = 1.6400000000000006 : 0.3147973453484313\n",
      "\t\n",
      "train for lamb = 1.6500000000000006 : 0.39154993772459423\n",
      "test for lamb = 1.6500000000000006 : 0.3150988432045207\n",
      "\t\n",
      "train for lamb = 1.6600000000000006 : 0.39284673473421383\n",
      "test for lamb = 1.6600000000000006 : 0.3154059028875392\n",
      "\t\n",
      "train for lamb = 1.6700000000000006 : 0.39414878138383586\n",
      "test for lamb = 1.6700000000000006 : 0.3157185020388651\n",
      "\t\n",
      "train for lamb = 1.6800000000000006 : 0.39545605699714786\n",
      "test for lamb = 1.6800000000000006 : 0.31603661844434144\n",
      "\t\n",
      "train for lamb = 1.6900000000000006 : 0.3967685410110081\n",
      "test for lamb = 1.6900000000000006 : 0.3163602300329951\n",
      "\t\n",
      "train for lamb = 1.7000000000000006 : 0.3980862129746419\n",
      "test for lamb = 1.7000000000000006 : 0.31668931487577934\n",
      "\t\n",
      "train for lamb = 1.7100000000000006 : 0.3994090525488532\n",
      "test for lamb = 1.7100000000000006 : 0.3170238511843306\n",
      "\t\n",
      "train for lamb = 1.7200000000000006 : 0.4007370395052397\n",
      "test for lamb = 1.7200000000000006 : 0.31736381730973634\n",
      "\t\n",
      "train for lamb = 1.7300000000000006 : 0.40207015372541094\n",
      "test for lamb = 1.7300000000000006 : 0.3177091917413191\n",
      "\t\n",
      "train for lamb = 1.7400000000000007 : 0.4034083752002195\n",
      "test for lamb = 1.7400000000000007 : 0.31805995310544566\n",
      "\t\n",
      "train for lamb = 1.7500000000000007 : 0.40475168402899486\n",
      "test for lamb = 1.7500000000000007 : 0.3184160801643377\n",
      "\t\n",
      "train for lamb = 1.7600000000000007 : 0.40610006041877966\n",
      "test for lamb = 1.7600000000000007 : 0.31877755181490286\n",
      "\t\n",
      "train for lamb = 1.7700000000000007 : 0.40745348468358067\n",
      "test for lamb = 1.7700000000000007 : 0.3191443470875816\n",
      "\t\n",
      "train for lamb = 1.7800000000000007 : 0.40881193724361203\n",
      "test for lamb = 1.7800000000000007 : 0.3195164451452047\n",
      "\t\n",
      "train for lamb = 1.7900000000000007 : 0.4101753986245585\n",
      "test for lamb = 1.7900000000000007 : 0.3198938252818659\n",
      "\t\n",
      "train for lamb = 1.8000000000000007 : 0.411543849456842\n",
      "test for lamb = 1.8000000000000007 : 0.3202764669218074\n",
      "\t\n",
      "train for lamb = 1.8100000000000007 : 0.41291727047487986\n",
      "test for lamb = 1.8100000000000007 : 0.32066434961831897\n",
      "\t\n",
      "train for lamb = 1.8200000000000007 : 0.414295642516369\n",
      "test for lamb = 1.8200000000000007 : 0.32105745305264677\n",
      "\t\n",
      "train for lamb = 1.8300000000000007 : 0.41567894652156356\n",
      "test for lamb = 1.8300000000000007 : 0.32145575703292123\n",
      "\t\n",
      "train for lamb = 1.8400000000000007 : 0.41706716353255613\n",
      "test for lamb = 1.8400000000000007 : 0.32185924149309014\n",
      "\t\n",
      "train for lamb = 1.8500000000000008 : 0.41846027469257874\n",
      "test for lamb = 1.8500000000000008 : 0.3222678864918687\n",
      "\t\n",
      "train for lamb = 1.8600000000000008 : 0.41985826124529363\n",
      "test for lamb = 1.8600000000000008 : 0.3226816722116987\n",
      "\t\n",
      "train for lamb = 1.8700000000000008 : 0.421261104534097\n",
      "test for lamb = 1.8700000000000008 : 0.32310057895771915\n",
      "\t\n",
      "train for lamb = 1.8800000000000008 : 0.4226687860014276\n",
      "test for lamb = 1.8800000000000008 : 0.3235245871567515\n",
      "\t\n",
      "train for lamb = 1.8900000000000008 : 0.42408128718808313\n",
      "test for lamb = 1.8900000000000008 : 0.3239536773562921\n",
      "\t\n",
      "train for lamb = 1.9000000000000008 : 0.42549858973253574\n",
      "test for lamb = 1.9000000000000008 : 0.32438783022351886\n",
      "\t\n",
      "train for lamb = 1.9100000000000008 : 0.4269206753702574\n",
      "test for lamb = 1.9100000000000008 : 0.32482702654430673\n",
      "\t\n",
      "train for lamb = 1.9200000000000008 : 0.4283475259330558\n",
      "test for lamb = 1.9200000000000008 : 0.3252712472222536\n",
      "\t\n",
      "train for lamb = 1.9300000000000008 : 0.4297791233483936\n",
      "test for lamb = 1.9300000000000008 : 0.32572047327771714\n",
      "\t\n",
      "train for lamb = 1.9400000000000008 : 0.43121544963875313\n",
      "test for lamb = 1.9400000000000008 : 0.326174685846866\n",
      "\t\n",
      "train for lamb = 1.9500000000000008 : 0.43265648692095865\n",
      "test for lamb = 1.9500000000000008 : 0.3266338661807312\n",
      "\t\n",
      "train for lamb = 1.9600000000000009 : 0.4341022174055416\n",
      "test for lamb = 1.9600000000000009 : 0.32709799564427944\n",
      "\t\n",
      "train for lamb = 1.9700000000000009 : 0.43555262339608913\n",
      "test for lamb = 1.9700000000000009 : 0.3275670557154851\n",
      "\t\n",
      "train for lamb = 1.9800000000000009 : 0.43700768728860967\n",
      "test for lamb = 1.9800000000000009 : 0.328041027984422\n",
      "\t\n",
      "train for lamb = 1.9900000000000009 : 0.43846739157090164\n",
      "test for lamb = 1.9900000000000009 : 0.328519894152355\n",
      "\t\n",
      "final lambda: 1.16\n",
      "9.08286483897461e-12\n",
      "1020.833338420079\n"
     ]
    }
   ],
   "source": [
    "#Подбор помог нам понять, что лямбда лежит где-то между единицей и двойкой. \n",
    "#Такая ламбда поможет достичь того, чтобы СКО для многочлена 6 степени с регуляризацией была меньше. \n",
    "#Так же подбором найдем более конкретное значение ламбды.\n",
    "i = 1\n",
    "j = 2\n",
    "mi = 1000000\n",
    "while i < j:\n",
    "    a = L2_upgrade(X_tr, i)\n",
    "    m_s_e = ((np.dot(X_tr,a) - Y_train)**2).mean(axis=0)\n",
    "    m_s_e_ts = ((np.dot(X_ts,a) - Y_test)**2).mean(axis=0)\n",
    "    if m_s_e_ts < mi:\n",
    "        mi = m_s_e_ts\n",
    "        k = i\n",
    "    print(\"train for lamb =\", i, \":\", m_s_e)\n",
    "    print(\"test for lamb =\", i, \":\", m_s_e_ts)\n",
    "    print(\"\\t\")\n",
    "    # подставляем коэфы с шагом 0.01 и ищем(эмпирически) лучшую\n",
    "    i += 0.01\n",
    "print(\"final lambda:\", round(k, 2))\n",
    "\n",
    "print(sla.det(np.dot(X_tr.transpose(), X_tr)))\n",
    "print(sla.det(np.dot(X_tr.transpose(), X_tr) + np.dot(k, np.eye(len(X_tr.transpose())))))"
   ]
  },
  {
   "cell_type": "markdown",
   "metadata": {},
   "source": [
    "Нарисуйте на одном чертеже графики многочленов шестой степени, приближающих неизвестную функцию, для модели с регуляризацией и без. Чем первый из них выгодно отличается от второго?"
   ]
  },
  {
   "cell_type": "code",
   "execution_count": 58,
   "metadata": {
    "jupyter": {
     "outputs_hidden": true
    }
   },
   "outputs": [
    {
     "ename": "TypeError",
     "evalue": "'NoneType' object is not subscriptable",
     "output_type": "error",
     "traceback": [
      "\u001b[0;31m---------------------------------------------------------------------------\u001b[0m",
      "\u001b[0;31mTypeError\u001b[0m                                 Traceback (most recent call last)",
      "\u001b[0;32m<ipython-input-58-0603f7beb71c>\u001b[0m in \u001b[0;36m<module>\u001b[0;34m\u001b[0m\n\u001b[1;32m     25\u001b[0m             \u001b[0;32mfor\u001b[0m \u001b[0mj\u001b[0m \u001b[0;32min\u001b[0m \u001b[0mrange\u001b[0m\u001b[0;34m(\u001b[0m\u001b[0mk\u001b[0m \u001b[0;34m+\u001b[0m \u001b[0;36m1\u001b[0m\u001b[0;34m)\u001b[0m\u001b[0;34m:\u001b[0m\u001b[0;34m\u001b[0m\u001b[0;34m\u001b[0m\u001b[0m\n\u001b[1;32m     26\u001b[0m                 \u001b[0mtmp\u001b[0m \u001b[0;34m=\u001b[0m \u001b[0;34m(\u001b[0m\u001b[0mi\u001b[0m \u001b[0;34m**\u001b[0m \u001b[0;34m(\u001b[0m\u001b[0mk\u001b[0m \u001b[0;34m-\u001b[0m \u001b[0mj\u001b[0m\u001b[0;34m)\u001b[0m\u001b[0;34m)\u001b[0m\u001b[0;34m\u001b[0m\u001b[0;34m\u001b[0m\u001b[0m\n\u001b[0;32m---> 27\u001b[0;31m                 \u001b[0mpol_c\u001b[0m \u001b[0;34m+=\u001b[0m \u001b[0mres\u001b[0m\u001b[0;34m[\u001b[0m\u001b[0mj\u001b[0m\u001b[0;34m]\u001b[0m \u001b[0;34m*\u001b[0m \u001b[0mtmp\u001b[0m\u001b[0;34m\u001b[0m\u001b[0;34m\u001b[0m\u001b[0m\n\u001b[0m\u001b[1;32m     28\u001b[0m             \u001b[0my\u001b[0m\u001b[0;34m.\u001b[0m\u001b[0mappend\u001b[0m\u001b[0;34m(\u001b[0m\u001b[0mpol_c\u001b[0m\u001b[0;34m)\u001b[0m\u001b[0;34m\u001b[0m\u001b[0;34m\u001b[0m\u001b[0m\n\u001b[1;32m     29\u001b[0m         \u001b[0mplt\u001b[0m\u001b[0;34m.\u001b[0m\u001b[0mplot\u001b[0m\u001b[0;34m(\u001b[0m\u001b[0mx_points\u001b[0m\u001b[0;34m,\u001b[0m \u001b[0my\u001b[0m\u001b[0;34m,\u001b[0m \u001b[0mlabel\u001b[0m\u001b[0;34m=\u001b[0m\u001b[0;34m'old_degree of poly = '\u001b[0m \u001b[0;34m+\u001b[0m \u001b[0mstr\u001b[0m\u001b[0;34m(\u001b[0m\u001b[0mj\u001b[0m\u001b[0;34m)\u001b[0m\u001b[0;34m)\u001b[0m\u001b[0;34m\u001b[0m\u001b[0;34m\u001b[0m\u001b[0m\n",
      "\u001b[0;31mTypeError\u001b[0m: 'NoneType' object is not subscriptable"
     ]
    },
    {
     "data": {
      "image/png": "[encoded data removed]",
      "text/plain": [
       "<Figure size 1152x864 with 1 Axes>"
      ]
     },
     "metadata": {
      "needs_background": "light"
     },
     "output_type": "display_data"
    }
   ],
   "source": [
    "plt.figure(figsize=(16, 12))\n",
    "plt.scatter(X_train, Y_train, color='black', label='train_data')\n",
    "x_points = np.arange(-0.35, 1.25, 0.01)\n",
    "\n",
    "X_train = data_train[:,0]\n",
    "Y_train = data_train[:,1]\n",
    "\n",
    "def upgrade(X, Y_train):\n",
    "    tmp1 = np.dot(X.transpose(), X)\n",
    "    tmp2 = sla.inv(tmp1)\n",
    "    tmp3 = np.dot(tmp2, X.transpose())\n",
    "    a = np.dot(tmp3,Y_train)\n",
    "for k in range(6, 7):\n",
    "    if k != 5:\n",
    "        X = np.array(X_train ** k)\n",
    "        for i in range(k - 1, -1, -1):\n",
    "            pol_c = np.array(X_train ** i)\n",
    "            X = np.column_stack((X, pol_c))\n",
    "        res = upgrade(X, Y_train)\n",
    "        res2 = L2_upgrade(X, 1.6)\n",
    "        y = []\n",
    "        for i in x_points:\n",
    "            pol_c = 0\n",
    "            tmp = 0\n",
    "            for j in range(k + 1):\n",
    "                tmp = (i ** (k - j))\n",
    "                pol_c += res[j] * tmp\n",
    "            y.append(pol_c)\n",
    "        plt.plot(x_points, y, label='old_degree of poly = ' + str(j))\n",
    "        z = []\n",
    "        for i in x_points:\n",
    "            pol_c = 0\n",
    "            temp = 0\n",
    "            for j in range(k + 1):\n",
    "                tmp = (i ** (k - j))\n",
    "                pol_c += res2[j] * tmp\n",
    "            z.append(pol_c)\n",
    "        plt.plot(x_points, z, label='new_degree of poly = ' + str(j))\n",
    "ylim(2, 9)\n",
    "plt.legend()\n",
    "plt.grid()\n",
    "plt.show()"
   ]
  },
  {
   "cell_type": "raw",
   "metadata": {},
   "source": [
    "Многочлен после регуляции ведет себя спокойно, не уходит в бесконечность, после выхода за пределы данных. И стал походить на параболу.Погрешность,конечно, уменьшилась."
   ]
  },
  {
   "cell_type": "markdown",
   "metadata": {},
   "source": [
    "Попробуйте доказать, что вектор $a = (X^TX + \\lambda E)^{-1}X^Ty$ является решением задачи\n",
    "\n",
    "$$|Xa - y|^2 + \\lambda|a|^2\\rightarrow\\min$$\n",
    "\n",
    "Интуитивно это можно понимать так: мы ищем компромисс между минимизацией длины разности $|Xa - y|$ (то есть точностью решения задачи регрессии) и тем, чтобы компоненты вектора $a$ не становились слишком большими по модулю.\n",
    "\n",
    "---\n",
    "\n",
    "**Ваше решение напишите прямо здесь**"
   ]
  },
  {
   "cell_type": "markdown",
   "metadata": {},
   "source": [
    "### Задание 4. Онлайн-обучение линейной регрессии (3 балла)"
   ]
  },
  {
   "cell_type": "markdown",
   "metadata": {},
   "source": [
    "Раньше мы работали в ситуации, когда объекты $x_i$ и значения $y_i$ даны с самого начала и всегда доступны. Допустим теперь, что пары $(x_i, y_i)$ поступают к нам по одной и мы не можем себе позволить хранить их все в памяти (это может быть актуально, например, если вы пытаетесь обучить модель на устройстве со сравнительно небольшим количеством оперативной памяти: скажем, на мобильном телефоне или на бортовом компьютере спутника связи). В этом случае нам нужно уметь решать следующую задачу:\n",
    "\n",
    "**Известно:** решение задачи регрессии для датасета $(x_1, y_1),\\ldots,(x_t,y_t)$;\n",
    "\n",
    "**На вход поступает:** новая пара $(x_{t+1}, y_{t+1})$;\n",
    "\n",
    "**Требуется:** быстро (за время, не зависящее от $t$) отыскать решение задачи регрессии для расширенного датасета $(x_1, y_1),\\ldots,(x_t,y_t),(x_{t+1}, y_{t+1})$."
   ]
  },
  {
   "cell_type": "markdown",
   "metadata": {},
   "source": [
    "Эту задачу мы будем решать в два этапа.\n",
    "\n",
    "**Этап 1.** Введём обозначения $X_{(t)} = (x_1\\ldots x_t)$ и $y_{(t)} = (y_1,\\ldots,y_t)^T$. Тогда, как мы хорошо помним, решение задачи регрессии для датасета $(x_1, y_1),\\ldots,(x_t,y_t)$ имеет вид $\\hat{a}_{(t)} = \\left(X^T_{(t)}X_{(t)}\\right)^{-1}X^T_{(t)}y_{(t)}$. Размеры матриц $X^T_{(t)}X_{(t)}$ и $X^T_{(t)}y_{(t)}$ не зависят от $t$, поэтому их мы, пожалуй, можем себе позволить хранить в памяти.\n",
    "\n",
    "И вот ваше первое задание в этом разделе: придумайте алгоритм, принимающий на вход матрицы $X^T_{(t)}X_{(t)}$ и $X^T_{(t)}y_{(t)}$, а также пару $(x_{t+1}, y_{t+1})$ и вычисляющий матрицы $X^T_{(t+1)}X_{(t+1)}$ и $X^T_{(t+1)}y_{(t+1)}$. Сложность вашего алгоритма не должна зависеть от $t$!\n",
    "\n",
    "--\n",
    "\n",
    "**Описание вашего алгоритма напишите прямо здесь**"
   ]
  },
  {
   "cell_type": "code",
   "execution_count": null,
   "metadata": {},
   "outputs": [],
   "source": [
    "Пусть \n",
    "A = X_t^T*X_t\n",
    "A(i,j)=Сумма(от n = 1 до t)x(n,i)*x(n,j)\n",
    "B = X(t+1)^T*X(t+1)\n",
    "B(i,j)=Сумма(от n = 1 до t+1)x(n,i)*x(n,j)\n",
    "то есть матрицы  A и B всего лишь отличаются на x(t+1,i)*x(t+1,j)\n",
    "\n",
    "Операции не зависят от t, т.к. размер матрицы X_t^T X_t не зависит от t.То есть кол-во элементов не зависит от t,\n",
    "а от того и кол-во сумм(при умножении матриц).Значит и сложность не завивист от t\n",
    "\n",
    "Теперь рассмотрим\n",
    "A_t = X^T*y_t\n",
    "A_i=Сумма(от n = 1 до t)x(n,i)*y_n\n",
    "B = X(t+1)^T*y(t+1)\n",
    "B_i=Сумма(от n = 1 до t+1)x(n,i)*y_n\n",
    "то есть матрицы A и B всего лишь отличаются на x(t+1,i)*y(t+1,j)\n",
    "\n",
    "Операции не зависят от t, т.к. размер матрицы X_t^T X_t не зависит от t.То есть кол-во элементов не зависит от t,\n",
    "а от того и кол-во сумм(при умножении матриц).Значит и сложность не завивист от t"
   ]
  },
  {
   "cell_type": "markdown",
   "metadata": {},
   "source": [
    "**Этап 2.** Теперь настало время написать немного кода и порисовать красивые картинки. Вам нужно будет реализовать симуляцию онлайн-обучения регрессии для задачи приближения функции (в данном случае $f_{true}(x) = 2x\\sin(x) + x^2 - 1$; все значения искажены небольшим нормальным шумом) многочленом степени не выше 5."
   ]
  },
  {
   "cell_type": "code",
   "execution_count": 179,
   "metadata": {},
   "outputs": [
    {
     "data": {
      "image/png": "[encoded data removed]",
      "text/plain": [
       "<Figure size 432x288 with 1 Axes>"
      ]
     },
     "metadata": {
      "needs_background": "light"
     },
     "output_type": "display_data"
    }
   ],
   "source": [
    "from IPython.display import clear_output\n",
    "\n",
    "f_true = lambda x: 2*x*np.sin(x) + x**2 - 1 # функция как в задании. исправил ошибку. заменил sin(5*x) на sin(x)\n",
    "\n",
    "# We need this to make the plot of f_true:\n",
    "x_grid = np.linspace(-2,5,100) # 100 linearly spaced numbers\n",
    "x_grid_enl = np.hstack((x_grid.reshape((100,1))**j for j in range(6)))\n",
    "y_grid = f_true(x_grid)\n",
    "\n",
    "X_TX = np.dot(x_grid_enl.T, x_grid_enl)\n",
    "X_Ty = np.dot(x_grid_enl.T, y_grid)\n",
    "\n",
    "for i in range(250):\n",
    "\n",
    "    x_new = np.random.uniform(-2, 5)\n",
    "    y_new = f_true(x_new) + 2*np.random.randn()\n",
    "    # your code goes here\n",
    "    \n",
    "    tmp_pol = [x_new**j for j in range(6)]\n",
    "    for j in range(len(X_TX)):\n",
    "        for k in range(len(X_TX)):\n",
    "            X_TX[j][k] += tmp_pol[j] * tmp_pol[k]\n",
    "    \n",
    "    for j in range(len(XTy)):\n",
    "        X_Ty[j] += tmp_pol[j] * y_new\n",
    "    \n",
    "    coeffs = np.dot(np.linalg.inv(X_TX), X_Ty)\n",
    "    # the rest of code is just bells and whistles\n",
    "    if (i+1)%5==0:\n",
    "        clear_output(True)\n",
    "        plt.plot(x_grid, y_grid, color='blue', label='true f')\n",
    "        plt.scatter(x_new, y_new, color='red')\n",
    "        # your code goes here\n",
    "        \n",
    "        y_pred = []\n",
    "        for x in x_grid:\n",
    "            tmp = 0\n",
    "            for k in range(6):\n",
    "                temp = (x ** k) \n",
    "                tmp += coeffs[k] * temp \n",
    "            y_pred.append(tmp)\n",
    "        \n",
    "        plt.scatter(x_grid, y_pred, color='orange', linewidth=5, label='predicted f')\n",
    "        \n",
    "        plt.legend(loc='upper left')\n",
    "        plt.show()"
   ]
  },
  {
   "cell_type": "markdown",
   "metadata": {},
   "source": [
    "### Добавление. QR-разложение"
   ]
  },
  {
   "cell_type": "markdown",
   "metadata": {},
   "source": [
    "**QR-разложением** матрицы $A$ (не обязательно квадратной) мы будем называть её представление в виде $A = QR$, где $Q$ &mdash; матрица с ортонормированными столбцами, а $R$ &mdash; верхнетреугольная матрица.\n",
    "\n",
    "Смысл QR-разложения следующий. Пусть $a_1,\\ldots,a_m$ &mdash; столбцы матрицы $A$, $q_1,\\ldots,q_t$ &mdash; столбцы матрицы $Q$. Тогда $q_1,\\ldots,q_t$ &mdash; это ортонормированный базис в подпространстве, являющемся линейной оболочкой векторов $a_1,\\ldots,a_m$, а в матрице $R$ записаны коэффициенты, с помощью которых $a_i$ выражаются через $q_1,\\ldots,q_t$.\n",
    "\n",
    "Находить QR-разложение заданной матрицы можно разными способами. Мы познакомим вас не с самым лучшим из них, но по крайней мере с наиболее простым концептуально. Заметим, что ортогональный базис линейной оболочки можно найти с помощью ортогонализации Грама-Шмидта. При этом коэффициенты из матрицы $R$ получаются в качестве побочного продукта этого процесса:\n",
    "\n",
    "```python\n",
    "for j = 1...n:\n",
    "    q_j = a_j\n",
    "    for i = 1,...,j-1:\n",
    "        r_ij = (q_i, a_j)\n",
    "        q_j = q_j - r_ij * q_i\n",
    "    r_jj = |q_j|\n",
    "    if r_jj == 0: # a_j in <a_1,...,a_j-1>\n",
    "        # What would you do in this case?..\n",
    "    q_j = q_j / r_jj\n",
    "```\n",
    "\n",
    "Для нахождения QR-разложения вы можете использовать библиотечную функцию `scipy.linalg.qr`."
   ]
  },
  {
   "cell_type": "markdown",
   "metadata": {},
   "source": [
    "Поскольку лабораторная про линейную регрессию, не так-то просто замять вопрос о том, какое же отношение QR-разложение имеет к задаче регрессии. Упомянем одно из возможных применений.\n",
    "\n",
    "Допустим, мы нашли QR-разложение матрицы $X$, а именно: $X = QR$. Тогда\n",
    "$$X^TX = (QR)^T(QR) = R^TQ^TQR = R^TR$$"
   ]
  },
  {
   "cell_type": "markdown",
   "metadata": {},
   "source": [
    "Поскольку в задаче регрессии матрица $X$ обычного полного ранга (то есть её столбцы линейно независимы), матрица $R$ будет квадратной. Благодаря этому нашу обычную формулу для набора регрессионных коэффициентов $\\hat{a}$ можно переписать в следующем виде:\n",
    "\n",
    "$$\\hat{a} = (X^TX)^{-1}X^Ty = (R^TR)^{-1}(QR)^Ty = R^{-1}(R^T)^{-1}R^TQ^Ty = R^{-1}Q^Ty$$\n",
    "\n",
    "Как видите, формула стала проще. Более того, зачастую обращение матрицы $R$ может быть численно более устойчиво, чем обращение матрицы $X^TX$."
   ]
  }
 ],
 "metadata": {
  "kernelspec": {
   "display_name": "Python 2",
   "language": "python",
   "name": "python2"
  },
  "language_info": {
   "codemirror_mode": {
    "name": "ipython",
    "version": 2
   },
   "file_extension": ".py",
   "mimetype": "text/x-python",
   "name": "python",
   "nbconvert_exporter": "python",
   "pygments_lexer": "ipython2",
   "version": "2.7.6"
  }
 },
 "nbformat": 4,
 "nbformat_minor": 4
}
